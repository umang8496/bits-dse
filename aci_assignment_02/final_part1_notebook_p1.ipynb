{
 "cells": [
  {
   "cell_type": "markdown",
   "metadata": {},
   "source": [
    "# Artificial and Computational Intelligence"
   ]
  },
  {
   "cell_type": "markdown",
   "metadata": {},
   "source": [
    "## Assignment 2: Water Quality Classification\n",
    "\n",
    "Water quality data is provided along with this file and contains the following attributes \n",
    "\n",
    "Attributes Information: \n",
    "\n",
    "1. ph: pH of 1. water (0 to 14). \n",
    "\n",
    "2. Hardness: Capacity of water to precipitate soap in mg/L. \n",
    "\n",
    "3. Solids: Total dissolved solids in ppm. \n",
    "\n",
    "4. Chloramines: Amount of Chloramines in ppm. \n",
    "\n",
    "5. Sulfate: Amount of Sulfates dissolved in mg/L. \n",
    "\n",
    "6. Conductivity: Electrical conductivity of water in μS/cm. \n",
    "\n",
    "7. Organic_carbon: Amount of organic carbon in ppm. \n",
    "\n",
    "8. Trihalomethanes: Amount of Trihalomethanes in μg/L. \n",
    "\n",
    "9. Turbidity: Measure of light emitting property of water in NTU. \n",
    "\n",
    "10. Potability: Indicates if water is safe for human consumption. Potable -1 and Not potable -0 \n"
   ]
  },
  {
   "cell_type": "markdown",
   "metadata": {},
   "source": [
    "## Table of Contents\n",
    "\n",
    "1. Importing necessary modules for the notebook\n",
    "\n",
    "2. Dataset preprocessing\n",
    "\n",
    "3. Discretization of numerical data\n",
    "\n",
    "4. Parameter learning and Network structure\n",
    "\n",
    "5. Model fitting and Generating Inferences\n",
    "\n",
    "6. Assignment Question 1\n",
    "\n",
    "7. Assignment Question 2\n",
    "\n",
    "8. Assignment Question 3\n",
    "\n",
    "9. Assignment Question 4\n",
    "\n"
   ]
  },
  {
   "cell_type": "markdown",
   "metadata": {},
   "source": [
    "## 1. Importing necessary modules for the notebook"
   ]
  },
  {
   "cell_type": "code",
   "execution_count": 1,
   "metadata": {},
   "outputs": [],
   "source": [
    "import pandas as pd\n",
    "import numpy as np\n",
    "\n",
    "from pgmpy.estimators import HillClimbSearch, MaximumLikelihoodEstimator, BicScore\n",
    "from pgmpy.models import BayesianModel\n",
    "from pgmpy.inference import VariableElimination\n",
    "from pgmpy.inference import BeliefPropagation\n",
    "\n",
    "from feature_engine.discretisation import EqualFrequencyDiscretiser\n",
    "from feature_engine.discretisation import EqualWidthDiscretiser\n",
    "\n",
    "import networkx as nx\n",
    "import pylab as plt\n",
    "import time\n",
    "\n",
    "import warnings\n",
    "warnings.filterwarnings('ignore')\n",
    "\n",
    "from IPython.core.interactiveshell import InteractiveShell\n",
    "InteractiveShell.ast_node_interactivity = \"all\""
   ]
  },
  {
   "cell_type": "markdown",
   "metadata": {},
   "source": [
    "## 2. Dataset preprocessing"
   ]
  },
  {
   "cell_type": "code",
   "execution_count": 2,
   "metadata": {},
   "outputs": [
    {
     "name": "stdout",
     "output_type": "stream",
     "text": [
      "Dataframe shape: (3276, 10)\n"
     ]
    }
   ],
   "source": [
    "df = pd.read_csv(\"water_potability.csv\")\n",
    "print(\"Dataframe shape:\", df.shape)"
   ]
  },
  {
   "cell_type": "code",
   "execution_count": 3,
   "metadata": {},
   "outputs": [
    {
     "data": {
      "text/html": [
       "<div>\n",
       "<style scoped>\n",
       "    .dataframe tbody tr th:only-of-type {\n",
       "        vertical-align: middle;\n",
       "    }\n",
       "\n",
       "    .dataframe tbody tr th {\n",
       "        vertical-align: top;\n",
       "    }\n",
       "\n",
       "    .dataframe thead th {\n",
       "        text-align: right;\n",
       "    }\n",
       "</style>\n",
       "<table border=\"1\" class=\"dataframe\">\n",
       "  <thead>\n",
       "    <tr style=\"text-align: right;\">\n",
       "      <th></th>\n",
       "      <th>ph</th>\n",
       "      <th>Hardness</th>\n",
       "      <th>Solids</th>\n",
       "      <th>Chloramines</th>\n",
       "      <th>Sulfate</th>\n",
       "      <th>Conductivity</th>\n",
       "      <th>Organic_carbon</th>\n",
       "      <th>Trihalomethanes</th>\n",
       "      <th>Turbidity</th>\n",
       "      <th>Potability</th>\n",
       "    </tr>\n",
       "  </thead>\n",
       "  <tbody>\n",
       "    <tr>\n",
       "      <th>count</th>\n",
       "      <td>2785.000000</td>\n",
       "      <td>3276.000000</td>\n",
       "      <td>3276.000000</td>\n",
       "      <td>3276.000000</td>\n",
       "      <td>2495.000000</td>\n",
       "      <td>3276.000000</td>\n",
       "      <td>3276.000000</td>\n",
       "      <td>3114.000000</td>\n",
       "      <td>3276.000000</td>\n",
       "      <td>3276.000000</td>\n",
       "    </tr>\n",
       "    <tr>\n",
       "      <th>mean</th>\n",
       "      <td>7.080795</td>\n",
       "      <td>196.369496</td>\n",
       "      <td>22014.092526</td>\n",
       "      <td>7.122277</td>\n",
       "      <td>333.775777</td>\n",
       "      <td>426.205111</td>\n",
       "      <td>14.284970</td>\n",
       "      <td>66.396293</td>\n",
       "      <td>3.966786</td>\n",
       "      <td>0.390110</td>\n",
       "    </tr>\n",
       "    <tr>\n",
       "      <th>std</th>\n",
       "      <td>1.594320</td>\n",
       "      <td>32.879761</td>\n",
       "      <td>8768.570828</td>\n",
       "      <td>1.583085</td>\n",
       "      <td>41.416840</td>\n",
       "      <td>80.824064</td>\n",
       "      <td>3.308162</td>\n",
       "      <td>16.175008</td>\n",
       "      <td>0.780382</td>\n",
       "      <td>0.487849</td>\n",
       "    </tr>\n",
       "    <tr>\n",
       "      <th>min</th>\n",
       "      <td>0.000000</td>\n",
       "      <td>47.432000</td>\n",
       "      <td>320.942611</td>\n",
       "      <td>0.352000</td>\n",
       "      <td>129.000000</td>\n",
       "      <td>181.483754</td>\n",
       "      <td>2.200000</td>\n",
       "      <td>0.738000</td>\n",
       "      <td>1.450000</td>\n",
       "      <td>0.000000</td>\n",
       "    </tr>\n",
       "    <tr>\n",
       "      <th>25%</th>\n",
       "      <td>6.093092</td>\n",
       "      <td>176.850538</td>\n",
       "      <td>15666.690297</td>\n",
       "      <td>6.127421</td>\n",
       "      <td>307.699498</td>\n",
       "      <td>365.734414</td>\n",
       "      <td>12.065801</td>\n",
       "      <td>55.844536</td>\n",
       "      <td>3.439711</td>\n",
       "      <td>0.000000</td>\n",
       "    </tr>\n",
       "    <tr>\n",
       "      <th>50%</th>\n",
       "      <td>7.036752</td>\n",
       "      <td>196.967627</td>\n",
       "      <td>20927.833607</td>\n",
       "      <td>7.130299</td>\n",
       "      <td>333.073546</td>\n",
       "      <td>421.884968</td>\n",
       "      <td>14.218338</td>\n",
       "      <td>66.622485</td>\n",
       "      <td>3.955028</td>\n",
       "      <td>0.000000</td>\n",
       "    </tr>\n",
       "    <tr>\n",
       "      <th>75%</th>\n",
       "      <td>8.062066</td>\n",
       "      <td>216.667456</td>\n",
       "      <td>27332.762127</td>\n",
       "      <td>8.114887</td>\n",
       "      <td>359.950170</td>\n",
       "      <td>481.792304</td>\n",
       "      <td>16.557652</td>\n",
       "      <td>77.337473</td>\n",
       "      <td>4.500320</td>\n",
       "      <td>1.000000</td>\n",
       "    </tr>\n",
       "    <tr>\n",
       "      <th>max</th>\n",
       "      <td>14.000000</td>\n",
       "      <td>323.124000</td>\n",
       "      <td>61227.196008</td>\n",
       "      <td>13.127000</td>\n",
       "      <td>481.030642</td>\n",
       "      <td>753.342620</td>\n",
       "      <td>28.300000</td>\n",
       "      <td>124.000000</td>\n",
       "      <td>6.739000</td>\n",
       "      <td>1.000000</td>\n",
       "    </tr>\n",
       "  </tbody>\n",
       "</table>\n",
       "</div>"
      ],
      "text/plain": [
       "                ph     Hardness        Solids  Chloramines      Sulfate  \\\n",
       "count  2785.000000  3276.000000   3276.000000  3276.000000  2495.000000   \n",
       "mean      7.080795   196.369496  22014.092526     7.122277   333.775777   \n",
       "std       1.594320    32.879761   8768.570828     1.583085    41.416840   \n",
       "min       0.000000    47.432000    320.942611     0.352000   129.000000   \n",
       "25%       6.093092   176.850538  15666.690297     6.127421   307.699498   \n",
       "50%       7.036752   196.967627  20927.833607     7.130299   333.073546   \n",
       "75%       8.062066   216.667456  27332.762127     8.114887   359.950170   \n",
       "max      14.000000   323.124000  61227.196008    13.127000   481.030642   \n",
       "\n",
       "       Conductivity  Organic_carbon  Trihalomethanes    Turbidity   Potability  \n",
       "count   3276.000000     3276.000000      3114.000000  3276.000000  3276.000000  \n",
       "mean     426.205111       14.284970        66.396293     3.966786     0.390110  \n",
       "std       80.824064        3.308162        16.175008     0.780382     0.487849  \n",
       "min      181.483754        2.200000         0.738000     1.450000     0.000000  \n",
       "25%      365.734414       12.065801        55.844536     3.439711     0.000000  \n",
       "50%      421.884968       14.218338        66.622485     3.955028     0.000000  \n",
       "75%      481.792304       16.557652        77.337473     4.500320     1.000000  \n",
       "max      753.342620       28.300000       124.000000     6.739000     1.000000  "
      ]
     },
     "execution_count": 3,
     "metadata": {},
     "output_type": "execute_result"
    }
   ],
   "source": [
    "df.describe()"
   ]
  },
  {
   "cell_type": "markdown",
   "metadata": {},
   "source": [
    "**Lets see the number of missing values across all the available features**"
   ]
  },
  {
   "cell_type": "code",
   "execution_count": 4,
   "metadata": {},
   "outputs": [
    {
     "data": {
      "text/plain": [
       "ph                 491\n",
       "Hardness             0\n",
       "Solids               0\n",
       "Chloramines          0\n",
       "Sulfate            781\n",
       "Conductivity         0\n",
       "Organic_carbon       0\n",
       "Trihalomethanes    162\n",
       "Turbidity            0\n",
       "Potability           0\n",
       "dtype: int64"
      ]
     },
     "execution_count": 4,
     "metadata": {},
     "output_type": "execute_result"
    }
   ],
   "source": [
    "df.isnull().sum()"
   ]
  },
  {
   "cell_type": "markdown",
   "metadata": {},
   "source": [
    "**We are filling the missing values using linear interpolation**"
   ]
  },
  {
   "cell_type": "code",
   "execution_count": 5,
   "metadata": {},
   "outputs": [],
   "source": [
    "df = df.interpolate(method='linear', limit_direction='forward')\n",
    "list_of_col = list(df.columns)"
   ]
  },
  {
   "cell_type": "code",
   "execution_count": 6,
   "metadata": {},
   "outputs": [
    {
     "data": {
      "text/plain": [
       "ph                 1\n",
       "Hardness           0\n",
       "Solids             0\n",
       "Chloramines        0\n",
       "Sulfate            0\n",
       "Conductivity       0\n",
       "Organic_carbon     0\n",
       "Trihalomethanes    0\n",
       "Turbidity          0\n",
       "Potability         0\n",
       "dtype: int64"
      ]
     },
     "execution_count": 6,
     "metadata": {},
     "output_type": "execute_result"
    }
   ],
   "source": [
    "df.isnull().sum()"
   ]
  },
  {
   "cell_type": "markdown",
   "metadata": {},
   "source": [
    "#### Observation:\n",
    "Now we just have one record which has a missing value for **ph** feature, so lets drop this from the dataset."
   ]
  },
  {
   "cell_type": "code",
   "execution_count": 7,
   "metadata": {},
   "outputs": [
    {
     "name": "stdout",
     "output_type": "stream",
     "text": [
      "Dataframe shape: (3275, 10)\n"
     ]
    }
   ],
   "source": [
    "df = df.dropna()\n",
    "df_copy = df.copy()\n",
    "print(\"Dataframe shape:\", df_copy.shape)"
   ]
  },
  {
   "cell_type": "markdown",
   "metadata": {},
   "source": [
    "## 3. Discretization of numerical data"
   ]
  },
  {
   "cell_type": "markdown",
   "metadata": {},
   "source": [
    "We are using PGMPY library for the creation of bayesian networks.  \n",
    "Bayesian Networks does not support continuous data hence we need to make it as categorical.  \n",
    "Discretization is the method of doing the above process.\n",
    "\n",
    "As a general standard we will check which numerical features need to be binned, the feature which has more than, 32 unique values should be binned."
   ]
  },
  {
   "cell_type": "code",
   "execution_count": 8,
   "metadata": {},
   "outputs": [
    {
     "name": "stdout",
     "output_type": "stream",
     "text": [
      "ph : 3275\n",
      "Hardness : 3275\n",
      "Solids : 3275\n",
      "Chloramines : 3275\n",
      "Sulfate : 3271\n",
      "Conductivity : 3275\n",
      "Organic_carbon : 3275\n",
      "Trihalomethanes : 3275\n",
      "Turbidity : 3275\n",
      "Potability : 2\n"
     ]
    }
   ],
   "source": [
    "#Check the number of unique values of each column and if it is more than 32 adding to bin_list array\n",
    "bin_list=[]\n",
    "for col in df.columns:\n",
    "    print(col, \":\", len(df[col].unique()))\n",
    "    if (len(df[col].unique()) > 32):\n",
    "        bin_list.append(col)"
   ]
  },
  {
   "cell_type": "markdown",
   "metadata": {},
   "source": [
    "#### Observation:\n",
    "As we can see that, other than **Potability** every column is having more than 32 unique values hence we need to discretize these columns.\n",
    "\n",
    "We have prepared the list of features (bin_list) which we will bin using EqualFrequencyDiscretiser.  \n",
    "**EqualFrequencyDiscretiser:** It divides continuous numerical variables into intervals that contain approximately the same proportion of observations from **feature_engine** library. "
   ]
  },
  {
   "cell_type": "code",
   "execution_count": 9,
   "metadata": {},
   "outputs": [],
   "source": [
    "# bin size = number of the bins\n",
    "bin_size = 13\n",
    "disc = EqualFrequencyDiscretiser(q=bin_size, variables=bin_list)\n",
    "df_binned = disc.fit(df[bin_list])\n",
    "equal_frequency_discretizer_dict = disc.binner_dict_\n",
    "bin_df_equal_frequency = pd.DataFrame.from_dict(equal_frequency_discretizer_dict, orient='index')"
   ]
  },
  {
   "cell_type": "markdown",
   "metadata": {},
   "source": [
    "#### Note:\n",
    "**We have chosen bin size considering the computational power of our local machines.**  \n",
    "**It may affect the accuracy , but always the higher the better.**"
   ]
  },
  {
   "cell_type": "code",
   "execution_count": 10,
   "metadata": {},
   "outputs": [
    {
     "data": {
      "text/html": [
       "<div>\n",
       "<style scoped>\n",
       "    .dataframe tbody tr th:only-of-type {\n",
       "        vertical-align: middle;\n",
       "    }\n",
       "\n",
       "    .dataframe tbody tr th {\n",
       "        vertical-align: top;\n",
       "    }\n",
       "\n",
       "    .dataframe thead th {\n",
       "        text-align: right;\n",
       "    }\n",
       "</style>\n",
       "<table border=\"1\" class=\"dataframe\">\n",
       "  <thead>\n",
       "    <tr style=\"text-align: right;\">\n",
       "      <th></th>\n",
       "      <th>ph</th>\n",
       "      <th>Hardness</th>\n",
       "      <th>Solids</th>\n",
       "      <th>Chloramines</th>\n",
       "      <th>Sulfate</th>\n",
       "      <th>Conductivity</th>\n",
       "      <th>Organic_carbon</th>\n",
       "      <th>Trihalomethanes</th>\n",
       "      <th>Turbidity</th>\n",
       "    </tr>\n",
       "  </thead>\n",
       "  <tbody>\n",
       "    <tr>\n",
       "      <th>0</th>\n",
       "      <td>-inf</td>\n",
       "      <td>-inf</td>\n",
       "      <td>-inf</td>\n",
       "      <td>-inf</td>\n",
       "      <td>-inf</td>\n",
       "      <td>-inf</td>\n",
       "      <td>-inf</td>\n",
       "      <td>-inf</td>\n",
       "      <td>-inf</td>\n",
       "    </tr>\n",
       "    <tr>\n",
       "      <th>1</th>\n",
       "      <td>4.943272</td>\n",
       "      <td>150.075850</td>\n",
       "      <td>1.092493e+04</td>\n",
       "      <td>4.945372</td>\n",
       "      <td>280.991633</td>\n",
       "      <td>315.131555</td>\n",
       "      <td>9.610242</td>\n",
       "      <td>43.384513</td>\n",
       "      <td>2.859834</td>\n",
       "    </tr>\n",
       "    <tr>\n",
       "      <th>2</th>\n",
       "      <td>5.596204</td>\n",
       "      <td>163.942931</td>\n",
       "      <td>1.337193e+04</td>\n",
       "      <td>5.606304</td>\n",
       "      <td>297.324505</td>\n",
       "      <td>341.336839</td>\n",
       "      <td>10.971929</td>\n",
       "      <td>50.574715</td>\n",
       "      <td>3.170288</td>\n",
       "    </tr>\n",
       "    <tr>\n",
       "      <th>3</th>\n",
       "      <td>6.035010</td>\n",
       "      <td>174.665128</td>\n",
       "      <td>1.517679e+04</td>\n",
       "      <td>6.046259</td>\n",
       "      <td>307.711002</td>\n",
       "      <td>360.706015</td>\n",
       "      <td>11.869504</td>\n",
       "      <td>55.054829</td>\n",
       "      <td>3.396787</td>\n",
       "    </tr>\n",
       "    <tr>\n",
       "      <th>4</th>\n",
       "      <td>6.351935</td>\n",
       "      <td>182.070819</td>\n",
       "      <td>1.691321e+04</td>\n",
       "      <td>6.368978</td>\n",
       "      <td>316.674831</td>\n",
       "      <td>379.577734</td>\n",
       "      <td>12.577242</td>\n",
       "      <td>59.296419</td>\n",
       "      <td>3.579317</td>\n",
       "    </tr>\n",
       "    <tr>\n",
       "      <th>5</th>\n",
       "      <td>6.641249</td>\n",
       "      <td>187.796848</td>\n",
       "      <td>1.850926e+04</td>\n",
       "      <td>6.669256</td>\n",
       "      <td>323.356503</td>\n",
       "      <td>397.224758</td>\n",
       "      <td>13.292507</td>\n",
       "      <td>62.196576</td>\n",
       "      <td>3.735992</td>\n",
       "    </tr>\n",
       "    <tr>\n",
       "      <th>6</th>\n",
       "      <td>6.916905</td>\n",
       "      <td>193.707850</td>\n",
       "      <td>2.011695e+04</td>\n",
       "      <td>6.977542</td>\n",
       "      <td>329.318735</td>\n",
       "      <td>413.553578</td>\n",
       "      <td>13.939486</td>\n",
       "      <td>65.093267</td>\n",
       "      <td>3.880668</td>\n",
       "    </tr>\n",
       "    <tr>\n",
       "      <th>7</th>\n",
       "      <td>7.182969</td>\n",
       "      <td>199.421811</td>\n",
       "      <td>2.182880e+04</td>\n",
       "      <td>7.276024</td>\n",
       "      <td>336.061398</td>\n",
       "      <td>430.390766</td>\n",
       "      <td>14.533460</td>\n",
       "      <td>68.230885</td>\n",
       "      <td>4.040898</td>\n",
       "    </tr>\n",
       "    <tr>\n",
       "      <th>8</th>\n",
       "      <td>7.464354</td>\n",
       "      <td>205.234834</td>\n",
       "      <td>2.362373e+04</td>\n",
       "      <td>7.567617</td>\n",
       "      <td>342.935505</td>\n",
       "      <td>446.840390</td>\n",
       "      <td>15.216552</td>\n",
       "      <td>71.150170</td>\n",
       "      <td>4.196688</td>\n",
       "    </tr>\n",
       "    <tr>\n",
       "      <th>9</th>\n",
       "      <td>7.770846</td>\n",
       "      <td>211.622940</td>\n",
       "      <td>2.567748e+04</td>\n",
       "      <td>7.845694</td>\n",
       "      <td>350.772151</td>\n",
       "      <td>468.401198</td>\n",
       "      <td>15.964921</td>\n",
       "      <td>74.457228</td>\n",
       "      <td>4.363990</td>\n",
       "    </tr>\n",
       "    <tr>\n",
       "      <th>10</th>\n",
       "      <td>8.088553</td>\n",
       "      <td>218.730484</td>\n",
       "      <td>2.792505e+04</td>\n",
       "      <td>8.211672</td>\n",
       "      <td>360.006666</td>\n",
       "      <td>487.445898</td>\n",
       "      <td>16.764846</td>\n",
       "      <td>77.935589</td>\n",
       "      <td>4.552945</td>\n",
       "    </tr>\n",
       "    <tr>\n",
       "      <th>11</th>\n",
       "      <td>8.550938</td>\n",
       "      <td>228.164272</td>\n",
       "      <td>3.097260e+04</td>\n",
       "      <td>8.663552</td>\n",
       "      <td>371.929404</td>\n",
       "      <td>512.039633</td>\n",
       "      <td>17.725625</td>\n",
       "      <td>82.402998</td>\n",
       "      <td>4.765060</td>\n",
       "    </tr>\n",
       "    <tr>\n",
       "      <th>12</th>\n",
       "      <td>9.242816</td>\n",
       "      <td>240.975763</td>\n",
       "      <td>3.529761e+04</td>\n",
       "      <td>9.378504</td>\n",
       "      <td>388.754777</td>\n",
       "      <td>547.347089</td>\n",
       "      <td>18.940723</td>\n",
       "      <td>88.686666</td>\n",
       "      <td>5.087031</td>\n",
       "    </tr>\n",
       "    <tr>\n",
       "      <th>13</th>\n",
       "      <td>inf</td>\n",
       "      <td>inf</td>\n",
       "      <td>inf</td>\n",
       "      <td>inf</td>\n",
       "      <td>inf</td>\n",
       "      <td>inf</td>\n",
       "      <td>inf</td>\n",
       "      <td>inf</td>\n",
       "      <td>inf</td>\n",
       "    </tr>\n",
       "  </tbody>\n",
       "</table>\n",
       "</div>"
      ],
      "text/plain": [
       "          ph    Hardness        Solids  Chloramines     Sulfate  Conductivity  \\\n",
       "0       -inf        -inf          -inf         -inf        -inf          -inf   \n",
       "1   4.943272  150.075850  1.092493e+04     4.945372  280.991633    315.131555   \n",
       "2   5.596204  163.942931  1.337193e+04     5.606304  297.324505    341.336839   \n",
       "3   6.035010  174.665128  1.517679e+04     6.046259  307.711002    360.706015   \n",
       "4   6.351935  182.070819  1.691321e+04     6.368978  316.674831    379.577734   \n",
       "5   6.641249  187.796848  1.850926e+04     6.669256  323.356503    397.224758   \n",
       "6   6.916905  193.707850  2.011695e+04     6.977542  329.318735    413.553578   \n",
       "7   7.182969  199.421811  2.182880e+04     7.276024  336.061398    430.390766   \n",
       "8   7.464354  205.234834  2.362373e+04     7.567617  342.935505    446.840390   \n",
       "9   7.770846  211.622940  2.567748e+04     7.845694  350.772151    468.401198   \n",
       "10  8.088553  218.730484  2.792505e+04     8.211672  360.006666    487.445898   \n",
       "11  8.550938  228.164272  3.097260e+04     8.663552  371.929404    512.039633   \n",
       "12  9.242816  240.975763  3.529761e+04     9.378504  388.754777    547.347089   \n",
       "13       inf         inf           inf          inf         inf           inf   \n",
       "\n",
       "    Organic_carbon  Trihalomethanes  Turbidity  \n",
       "0             -inf             -inf       -inf  \n",
       "1         9.610242        43.384513   2.859834  \n",
       "2        10.971929        50.574715   3.170288  \n",
       "3        11.869504        55.054829   3.396787  \n",
       "4        12.577242        59.296419   3.579317  \n",
       "5        13.292507        62.196576   3.735992  \n",
       "6        13.939486        65.093267   3.880668  \n",
       "7        14.533460        68.230885   4.040898  \n",
       "8        15.216552        71.150170   4.196688  \n",
       "9        15.964921        74.457228   4.363990  \n",
       "10       16.764846        77.935589   4.552945  \n",
       "11       17.725625        82.402998   4.765060  \n",
       "12       18.940723        88.686666   5.087031  \n",
       "13             inf              inf        inf  "
      ]
     },
     "execution_count": 10,
     "metadata": {},
     "output_type": "execute_result"
    }
   ],
   "source": [
    "bin_df_equal_frequency.T"
   ]
  },
  {
   "cell_type": "code",
   "execution_count": 11,
   "metadata": {},
   "outputs": [
    {
     "data": {
      "text/html": [
       "<div>\n",
       "<style scoped>\n",
       "    .dataframe tbody tr th:only-of-type {\n",
       "        vertical-align: middle;\n",
       "    }\n",
       "\n",
       "    .dataframe tbody tr th {\n",
       "        vertical-align: top;\n",
       "    }\n",
       "\n",
       "    .dataframe thead th {\n",
       "        text-align: right;\n",
       "    }\n",
       "</style>\n",
       "<table border=\"1\" class=\"dataframe\">\n",
       "  <thead>\n",
       "    <tr style=\"text-align: right;\">\n",
       "      <th></th>\n",
       "      <th>1</th>\n",
       "      <th>2</th>\n",
       "      <th>3</th>\n",
       "      <th>4</th>\n",
       "      <th>5</th>\n",
       "      <th>6</th>\n",
       "      <th>7</th>\n",
       "      <th>8</th>\n",
       "      <th>9</th>\n",
       "      <th>10</th>\n",
       "    </tr>\n",
       "  </thead>\n",
       "  <tbody>\n",
       "    <tr>\n",
       "      <th>ph</th>\n",
       "      <td>3.716080</td>\n",
       "      <td>8.099124</td>\n",
       "      <td>8.316766</td>\n",
       "      <td>9.092223</td>\n",
       "      <td>5.584087</td>\n",
       "      <td>10.223862</td>\n",
       "      <td>8.635849</td>\n",
       "      <td>9.908067</td>\n",
       "      <td>11.180284</td>\n",
       "      <td>7.360640</td>\n",
       "    </tr>\n",
       "    <tr>\n",
       "      <th>Hardness</th>\n",
       "      <td>129.422921</td>\n",
       "      <td>224.236259</td>\n",
       "      <td>214.373394</td>\n",
       "      <td>181.101509</td>\n",
       "      <td>188.313324</td>\n",
       "      <td>248.071735</td>\n",
       "      <td>203.361523</td>\n",
       "      <td>118.988579</td>\n",
       "      <td>227.231469</td>\n",
       "      <td>165.520797</td>\n",
       "    </tr>\n",
       "    <tr>\n",
       "      <th>Solids</th>\n",
       "      <td>18630.057858</td>\n",
       "      <td>19909.541732</td>\n",
       "      <td>22018.417441</td>\n",
       "      <td>17978.986339</td>\n",
       "      <td>28748.687739</td>\n",
       "      <td>28749.716544</td>\n",
       "      <td>13672.091764</td>\n",
       "      <td>14285.583854</td>\n",
       "      <td>25484.508491</td>\n",
       "      <td>32452.614409</td>\n",
       "    </tr>\n",
       "    <tr>\n",
       "      <th>Chloramines</th>\n",
       "      <td>6.635246</td>\n",
       "      <td>9.275884</td>\n",
       "      <td>8.059332</td>\n",
       "      <td>6.546600</td>\n",
       "      <td>7.544869</td>\n",
       "      <td>7.513408</td>\n",
       "      <td>4.563009</td>\n",
       "      <td>7.804174</td>\n",
       "      <td>9.077200</td>\n",
       "      <td>7.550701</td>\n",
       "    </tr>\n",
       "    <tr>\n",
       "      <th>Sulfate</th>\n",
       "      <td>364.639673</td>\n",
       "      <td>360.762904</td>\n",
       "      <td>356.886136</td>\n",
       "      <td>310.135738</td>\n",
       "      <td>326.678363</td>\n",
       "      <td>393.663396</td>\n",
       "      <td>303.309771</td>\n",
       "      <td>268.646941</td>\n",
       "      <td>404.041635</td>\n",
       "      <td>326.624353</td>\n",
       "    </tr>\n",
       "    <tr>\n",
       "      <th>Conductivity</th>\n",
       "      <td>592.885359</td>\n",
       "      <td>418.606213</td>\n",
       "      <td>363.266516</td>\n",
       "      <td>398.410813</td>\n",
       "      <td>280.467916</td>\n",
       "      <td>283.651634</td>\n",
       "      <td>474.607645</td>\n",
       "      <td>389.375566</td>\n",
       "      <td>563.885481</td>\n",
       "      <td>425.383419</td>\n",
       "    </tr>\n",
       "    <tr>\n",
       "      <th>Organic_carbon</th>\n",
       "      <td>15.180013</td>\n",
       "      <td>16.868637</td>\n",
       "      <td>18.436524</td>\n",
       "      <td>11.558279</td>\n",
       "      <td>8.399735</td>\n",
       "      <td>13.789695</td>\n",
       "      <td>12.363817</td>\n",
       "      <td>12.706049</td>\n",
       "      <td>17.927806</td>\n",
       "      <td>15.586810</td>\n",
       "    </tr>\n",
       "    <tr>\n",
       "      <th>Trihalomethanes</th>\n",
       "      <td>56.329076</td>\n",
       "      <td>66.420093</td>\n",
       "      <td>100.341674</td>\n",
       "      <td>31.997993</td>\n",
       "      <td>54.917862</td>\n",
       "      <td>84.603556</td>\n",
       "      <td>62.798309</td>\n",
       "      <td>53.928846</td>\n",
       "      <td>71.976601</td>\n",
       "      <td>78.740016</td>\n",
       "    </tr>\n",
       "    <tr>\n",
       "      <th>Turbidity</th>\n",
       "      <td>4.500656</td>\n",
       "      <td>3.055934</td>\n",
       "      <td>4.628771</td>\n",
       "      <td>4.075075</td>\n",
       "      <td>2.559708</td>\n",
       "      <td>2.672989</td>\n",
       "      <td>4.401425</td>\n",
       "      <td>3.595017</td>\n",
       "      <td>4.370562</td>\n",
       "      <td>3.662292</td>\n",
       "    </tr>\n",
       "    <tr>\n",
       "      <th>Potability</th>\n",
       "      <td>0.000000</td>\n",
       "      <td>0.000000</td>\n",
       "      <td>0.000000</td>\n",
       "      <td>0.000000</td>\n",
       "      <td>0.000000</td>\n",
       "      <td>0.000000</td>\n",
       "      <td>0.000000</td>\n",
       "      <td>0.000000</td>\n",
       "      <td>0.000000</td>\n",
       "      <td>0.000000</td>\n",
       "    </tr>\n",
       "  </tbody>\n",
       "</table>\n",
       "</div>"
      ],
      "text/plain": [
       "                           1             2             3             4   \\\n",
       "ph                   3.716080      8.099124      8.316766      9.092223   \n",
       "Hardness           129.422921    224.236259    214.373394    181.101509   \n",
       "Solids           18630.057858  19909.541732  22018.417441  17978.986339   \n",
       "Chloramines          6.635246      9.275884      8.059332      6.546600   \n",
       "Sulfate            364.639673    360.762904    356.886136    310.135738   \n",
       "Conductivity       592.885359    418.606213    363.266516    398.410813   \n",
       "Organic_carbon      15.180013     16.868637     18.436524     11.558279   \n",
       "Trihalomethanes     56.329076     66.420093    100.341674     31.997993   \n",
       "Turbidity            4.500656      3.055934      4.628771      4.075075   \n",
       "Potability           0.000000      0.000000      0.000000      0.000000   \n",
       "\n",
       "                           5             6             7             8   \\\n",
       "ph                   5.584087     10.223862      8.635849      9.908067   \n",
       "Hardness           188.313324    248.071735    203.361523    118.988579   \n",
       "Solids           28748.687739  28749.716544  13672.091764  14285.583854   \n",
       "Chloramines          7.544869      7.513408      4.563009      7.804174   \n",
       "Sulfate            326.678363    393.663396    303.309771    268.646941   \n",
       "Conductivity       280.467916    283.651634    474.607645    389.375566   \n",
       "Organic_carbon       8.399735     13.789695     12.363817     12.706049   \n",
       "Trihalomethanes     54.917862     84.603556     62.798309     53.928846   \n",
       "Turbidity            2.559708      2.672989      4.401425      3.595017   \n",
       "Potability           0.000000      0.000000      0.000000      0.000000   \n",
       "\n",
       "                           9             10  \n",
       "ph                  11.180284      7.360640  \n",
       "Hardness           227.231469    165.520797  \n",
       "Solids           25484.508491  32452.614409  \n",
       "Chloramines          9.077200      7.550701  \n",
       "Sulfate            404.041635    326.624353  \n",
       "Conductivity       563.885481    425.383419  \n",
       "Organic_carbon      17.927806     15.586810  \n",
       "Trihalomethanes     71.976601     78.740016  \n",
       "Turbidity            4.370562      3.662292  \n",
       "Potability           0.000000      0.000000  "
      ]
     },
     "execution_count": 11,
     "metadata": {},
     "output_type": "execute_result"
    }
   ],
   "source": [
    "df.head(10).T"
   ]
  },
  {
   "cell_type": "markdown",
   "metadata": {},
   "source": [
    "#### Observation:\n",
    "The discretization is done.  \n",
    "But to increase the meaning and easy querying of dataset we need to rename each value in each column corresponding to the range of bin it represents."
   ]
  },
  {
   "cell_type": "code",
   "execution_count": 12,
   "metadata": {},
   "outputs": [
    {
     "name": "stdout",
     "output_type": "stream",
     "text": [
      "ph : Min= 0.0 Max= 14.0\n",
      "\n",
      "['0.0 to 4.94', '4.94 to 5.6', '5.6 to 6.04', '6.04 to 6.35', '6.35 to 6.64', '6.64 to 6.92', '6.92 to 7.18', '7.18 to 7.46', '7.46 to 7.77', '7.77 to 8.09', '8.09 to 8.55', '8.55 to 9.24', '9.24 to 14.0']\n",
      "\n",
      "Hardness : Min= 47.43 Max= 323.12\n",
      "\n",
      "['47.43 to 150.08', '150.08 to 163.94', '163.94 to 174.67', '174.67 to 182.07', '182.07 to 187.8', '187.8 to 193.71', '193.71 to 199.42', '199.42 to 205.23', '205.23 to 211.62', '211.62 to 218.73', '218.73 to 228.16', '228.16 to 240.98', '240.98 to 323.12']\n",
      "\n",
      "Solids : Min= 320.94 Max= 61227.2\n",
      "\n",
      "['320.94 to 10924.93', '10924.93 to 13371.93', '13371.93 to 15176.79', '15176.79 to 16913.21', '16913.21 to 18509.26', '18509.26 to 20116.95', '20116.95 to 21828.8', '21828.8 to 23623.73', '23623.73 to 25677.48', '25677.48 to 27925.05', '27925.05 to 30972.6', '30972.6 to 35297.61', '35297.61 to 61227.2']\n",
      "\n",
      "Chloramines : Min= 0.35 Max= 13.13\n",
      "\n",
      "['0.35 to 4.95', '4.95 to 5.61', '5.61 to 6.05', '6.05 to 6.37', '6.37 to 6.67', '6.67 to 6.98', '6.98 to 7.28', '7.28 to 7.57', '7.57 to 7.85', '7.85 to 8.21', '8.21 to 8.66', '8.66 to 9.38', '9.38 to 13.13']\n",
      "\n",
      "Sulfate : Min= 129.0 Max= 481.03\n",
      "\n",
      "['129.0 to 280.99', '280.99 to 297.32', '297.32 to 307.71', '307.71 to 316.67', '316.67 to 323.36', '323.36 to 329.32', '329.32 to 336.06', '336.06 to 342.94', '342.94 to 350.77', '350.77 to 360.01', '360.01 to 371.93', '371.93 to 388.75', '388.75 to 481.03']\n",
      "\n",
      "Conductivity : Min= 181.48 Max= 753.34\n",
      "\n",
      "['181.48 to 315.13', '315.13 to 341.34', '341.34 to 360.71', '360.71 to 379.58', '379.58 to 397.22', '397.22 to 413.55', '413.55 to 430.39', '430.39 to 446.84', '446.84 to 468.4', '468.4 to 487.45', '487.45 to 512.04', '512.04 to 547.35', '547.35 to 753.34']\n",
      "\n",
      "Organic_carbon : Min= 2.2 Max= 28.3\n",
      "\n",
      "['2.2 to 9.61', '9.61 to 10.97', '10.97 to 11.87', '11.87 to 12.58', '12.58 to 13.29', '13.29 to 13.94', '13.94 to 14.53', '14.53 to 15.22', '15.22 to 15.96', '15.96 to 16.76', '16.76 to 17.73', '17.73 to 18.94', '18.94 to 28.3']\n",
      "\n",
      "Trihalomethanes : Min= 0.74 Max= 124.0\n",
      "\n",
      "['0.74 to 43.38', '43.38 to 50.57', '50.57 to 55.05', '55.05 to 59.3', '59.3 to 62.2', '62.2 to 65.09', '65.09 to 68.23', '68.23 to 71.15', '71.15 to 74.46', '74.46 to 77.94', '77.94 to 82.4', '82.4 to 88.69', '88.69 to 124.0']\n",
      "\n",
      "Turbidity : Min= 1.45 Max= 6.74\n",
      "\n",
      "['1.45 to 2.86', '2.86 to 3.17', '3.17 to 3.4', '3.4 to 3.58', '3.58 to 3.74', '3.74 to 3.88', '3.88 to 4.04', '4.04 to 4.2', '4.2 to 4.36', '4.36 to 4.55', '4.55 to 4.77', '4.77 to 5.09', '5.09 to 6.74']\n",
      "\n"
     ]
    }
   ],
   "source": [
    "j = 0\n",
    "big_label = []\n",
    "for col in bin_list:\n",
    "    print(col, \": Min=\", round(min(df[col].unique()), 2), \"Max=\", round(max(df[col].unique()), 2))\n",
    "    print()\n",
    "    f_ele = str(round(min(df[col].unique()), 2)) + \" to \" + str(round(bin_df_equal_frequency[1][col], 2))\n",
    "    label = []\n",
    "    label.append(f_ele)\n",
    "    for i in range(1, bin_size-1):\n",
    "        ele = str(round(bin_df_equal_frequency[i][bin_list[j]], 2)) + \" to \" + str(round(bin_df_equal_frequency[i+1][bin_list[j]], 2))\n",
    "        label.append(ele)\n",
    "    l_ele = str(round(bin_df_equal_frequency[i+1][bin_list[j]], 2)) + \" to \" + str(round(max(df[col].unique()), 2))\n",
    "    label.append(l_ele)\n",
    "    df[col] = pd.cut(df[col], bin_size, labels=label)\n",
    "    j += 1\n",
    "    print(label)\n",
    "    big_label.append(label)\n",
    "    print()"
   ]
  },
  {
   "cell_type": "code",
   "execution_count": 13,
   "metadata": {},
   "outputs": [
    {
     "data": {
      "text/html": [
       "<div>\n",
       "<style scoped>\n",
       "    .dataframe tbody tr th:only-of-type {\n",
       "        vertical-align: middle;\n",
       "    }\n",
       "\n",
       "    .dataframe tbody tr th {\n",
       "        vertical-align: top;\n",
       "    }\n",
       "\n",
       "    .dataframe thead th {\n",
       "        text-align: right;\n",
       "    }\n",
       "</style>\n",
       "<table border=\"1\" class=\"dataframe\">\n",
       "  <thead>\n",
       "    <tr style=\"text-align: right;\">\n",
       "      <th></th>\n",
       "      <th>1</th>\n",
       "      <th>2</th>\n",
       "      <th>3</th>\n",
       "      <th>4</th>\n",
       "      <th>5</th>\n",
       "    </tr>\n",
       "  </thead>\n",
       "  <tbody>\n",
       "    <tr>\n",
       "      <th>ph</th>\n",
       "      <td>6.04 to 6.35</td>\n",
       "      <td>7.18 to 7.46</td>\n",
       "      <td>7.18 to 7.46</td>\n",
       "      <td>7.46 to 7.77</td>\n",
       "      <td>6.64 to 6.92</td>\n",
       "    </tr>\n",
       "    <tr>\n",
       "      <th>Hardness</th>\n",
       "      <td>174.67 to 182.07</td>\n",
       "      <td>205.23 to 211.62</td>\n",
       "      <td>199.42 to 205.23</td>\n",
       "      <td>193.71 to 199.42</td>\n",
       "      <td>193.71 to 199.42</td>\n",
       "    </tr>\n",
       "    <tr>\n",
       "      <th>Solids</th>\n",
       "      <td>15176.79 to 16913.21</td>\n",
       "      <td>16913.21 to 18509.26</td>\n",
       "      <td>16913.21 to 18509.26</td>\n",
       "      <td>15176.79 to 16913.21</td>\n",
       "      <td>20116.95 to 21828.8</td>\n",
       "    </tr>\n",
       "    <tr>\n",
       "      <th>Chloramines</th>\n",
       "      <td>6.98 to 7.28</td>\n",
       "      <td>7.85 to 8.21</td>\n",
       "      <td>7.28 to 7.57</td>\n",
       "      <td>6.98 to 7.28</td>\n",
       "      <td>7.28 to 7.57</td>\n",
       "    </tr>\n",
       "    <tr>\n",
       "      <th>Sulfate</th>\n",
       "      <td>342.94 to 350.77</td>\n",
       "      <td>342.94 to 350.77</td>\n",
       "      <td>342.94 to 350.77</td>\n",
       "      <td>329.32 to 336.06</td>\n",
       "      <td>336.06 to 342.94</td>\n",
       "    </tr>\n",
       "    <tr>\n",
       "      <th>Conductivity</th>\n",
       "      <td>468.4 to 487.45</td>\n",
       "      <td>397.22 to 413.55</td>\n",
       "      <td>379.58 to 397.22</td>\n",
       "      <td>379.58 to 397.22</td>\n",
       "      <td>341.34 to 360.71</td>\n",
       "    </tr>\n",
       "    <tr>\n",
       "      <th>Organic_carbon</th>\n",
       "      <td>13.94 to 14.53</td>\n",
       "      <td>14.53 to 15.22</td>\n",
       "      <td>15.22 to 15.96</td>\n",
       "      <td>12.58 to 13.29</td>\n",
       "      <td>11.87 to 12.58</td>\n",
       "    </tr>\n",
       "    <tr>\n",
       "      <th>Trihalomethanes</th>\n",
       "      <td>62.2 to 65.09</td>\n",
       "      <td>65.09 to 68.23</td>\n",
       "      <td>77.94 to 82.4</td>\n",
       "      <td>55.05 to 59.3</td>\n",
       "      <td>62.2 to 65.09</td>\n",
       "    </tr>\n",
       "    <tr>\n",
       "      <th>Turbidity</th>\n",
       "      <td>4.04 to 4.2</td>\n",
       "      <td>3.4 to 3.58</td>\n",
       "      <td>4.04 to 4.2</td>\n",
       "      <td>3.88 to 4.04</td>\n",
       "      <td>3.17 to 3.4</td>\n",
       "    </tr>\n",
       "    <tr>\n",
       "      <th>Potability</th>\n",
       "      <td>0</td>\n",
       "      <td>0</td>\n",
       "      <td>0</td>\n",
       "      <td>0</td>\n",
       "      <td>0</td>\n",
       "    </tr>\n",
       "  </tbody>\n",
       "</table>\n",
       "</div>"
      ],
      "text/plain": [
       "                                    1                     2  \\\n",
       "ph                       6.04 to 6.35          7.18 to 7.46   \n",
       "Hardness             174.67 to 182.07      205.23 to 211.62   \n",
       "Solids           15176.79 to 16913.21  16913.21 to 18509.26   \n",
       "Chloramines              6.98 to 7.28          7.85 to 8.21   \n",
       "Sulfate              342.94 to 350.77      342.94 to 350.77   \n",
       "Conductivity          468.4 to 487.45      397.22 to 413.55   \n",
       "Organic_carbon         13.94 to 14.53        14.53 to 15.22   \n",
       "Trihalomethanes         62.2 to 65.09        65.09 to 68.23   \n",
       "Turbidity                 4.04 to 4.2           3.4 to 3.58   \n",
       "Potability                          0                     0   \n",
       "\n",
       "                                    3                     4  \\\n",
       "ph                       7.18 to 7.46          7.46 to 7.77   \n",
       "Hardness             199.42 to 205.23      193.71 to 199.42   \n",
       "Solids           16913.21 to 18509.26  15176.79 to 16913.21   \n",
       "Chloramines              7.28 to 7.57          6.98 to 7.28   \n",
       "Sulfate              342.94 to 350.77      329.32 to 336.06   \n",
       "Conductivity         379.58 to 397.22      379.58 to 397.22   \n",
       "Organic_carbon         15.22 to 15.96        12.58 to 13.29   \n",
       "Trihalomethanes         77.94 to 82.4         55.05 to 59.3   \n",
       "Turbidity                 4.04 to 4.2          3.88 to 4.04   \n",
       "Potability                          0                     0   \n",
       "\n",
       "                                   5  \n",
       "ph                      6.64 to 6.92  \n",
       "Hardness            193.71 to 199.42  \n",
       "Solids           20116.95 to 21828.8  \n",
       "Chloramines             7.28 to 7.57  \n",
       "Sulfate             336.06 to 342.94  \n",
       "Conductivity        341.34 to 360.71  \n",
       "Organic_carbon        11.87 to 12.58  \n",
       "Trihalomethanes        62.2 to 65.09  \n",
       "Turbidity                3.17 to 3.4  \n",
       "Potability                         0  "
      ]
     },
     "execution_count": 13,
     "metadata": {},
     "output_type": "execute_result"
    }
   ],
   "source": [
    "# Converted df\n",
    "df.head(5).T"
   ]
  },
  {
   "cell_type": "code",
   "execution_count": 14,
   "metadata": {},
   "outputs": [],
   "source": [
    "# df_train = pd.concat([df[:500],df[1411:]])\n",
    "\n",
    "df_train = df[:3200]\n",
    "df_test = df[3200:]\n",
    "df_test = df_test.iloc[: , :-1]\n",
    "\n",
    "# df.shape\n",
    "# df_train.shape\n",
    "# df_test.shape"
   ]
  },
  {
   "cell_type": "markdown",
   "metadata": {},
   "source": [
    "## 4. Parameter Learning and Network Structure"
   ]
  },
  {
   "cell_type": "markdown",
   "metadata": {},
   "source": [
    "### Different types of parameter learning and tree generation techniques:\n",
    "\n",
    "1. Hill climb search\n",
    "\n",
    "2. Tree search\n",
    "\n",
    "3. Mmhc Estimator\n",
    "\n",
    "4. Exhaustive search"
   ]
  },
  {
   "cell_type": "markdown",
   "metadata": {},
   "source": [
    "We tried all of the algorithms and found that **Tree Search algorithm** with the estimator type **tan** is giving the maximum accuracy.  \n",
    "Hence we are fixing that algorithm for our network structure generation "
   ]
  },
  {
   "cell_type": "code",
   "execution_count": 15,
   "metadata": {},
   "outputs": [
    {
     "name": "stderr",
     "output_type": "stream",
     "text": [
      "Building tree: 100%|████████████████████████████████████████████████████████████████████████████████████████████████████████████████████| 45/45.0 [00:00<00:00, 151.00it/s]\n"
     ]
    },
    {
     "data": {
      "image/png": "[encoded data removed]",
      "text/plain": [
       "<Figure size 432x288 with 1 Axes>"
      ]
     },
     "metadata": {},
     "output_type": "display_data"
    }
   ],
   "source": [
    "from pgmpy.estimators import TreeSearch\n",
    "est = TreeSearch(df_train)\n",
    "model = est.estimate(estimator_type='tan')\n",
    "nx.draw_circular(model, with_labels=True, arrowsize=20, node_color=\"orange\", alpha=1)\n",
    "_ = plt.show()"
   ]
  },
  {
   "cell_type": "code",
   "execution_count": 16,
   "metadata": {},
   "outputs": [
    {
     "data": {
      "text/plain": [
       "[('Sulfate', 'Solids'),\n",
       " ('Sulfate', 'Chloramines'),\n",
       " ('Sulfate', 'Potability'),\n",
       " ('Solids', 'ph'),\n",
       " ('Solids', 'Conductivity'),\n",
       " ('Solids', 'Trihalomethanes'),\n",
       " ('Conductivity', 'Organic_carbon'),\n",
       " ('Trihalomethanes', 'Turbidity'),\n",
       " ('Hardness', 'ph'),\n",
       " ('Hardness', 'Solids'),\n",
       " ('Hardness', 'Chloramines'),\n",
       " ('Hardness', 'Sulfate'),\n",
       " ('Hardness', 'Conductivity'),\n",
       " ('Hardness', 'Organic_carbon'),\n",
       " ('Hardness', 'Trihalomethanes'),\n",
       " ('Hardness', 'Turbidity'),\n",
       " ('Hardness', 'Potability')]"
      ]
     },
     "execution_count": 16,
     "metadata": {},
     "output_type": "execute_result"
    }
   ],
   "source": [
    "# printing the edges according to the generated model\n",
    "edges = list(model.edges())\n",
    "edges"
   ]
  },
  {
   "cell_type": "markdown",
   "metadata": {},
   "source": [
    "#### Observation:\n",
    "This network structure was giving very low accuracy on our test set.  \n",
    "Hence we had to construct the bayesian network ourselves."
   ]
  },
  {
   "cell_type": "markdown",
   "metadata": {},
   "source": [
    "### Case Study on Parameters affecting the water quality\n",
    "\n",
    "To understand construct the network we did a case study of the domain.  \n",
    "After going through several research papers and published articles, we came at the below conclusions on each of the affecting factor.\n",
    "\n",
    "1. **pH value:**  \n",
    "PH is an important parameter in evaluating the acid–base balance of water.  \n",
    "It is also the indicator of acidic or alkaline condition of water status.  \n",
    "WHO has recommended maximum permissible limit of pH from 6.5 to 8.5.  \n",
    "The current investigation ranges were 6.52–6.83 which are in the range of WHO standards.\n",
    "\n",
    "\n",
    "2. **Hardness:**  \n",
    "Hardness is mainly caused by calcium and magnesium salts.  \n",
    "These salts are dissolved from geologic deposits through which water travels.  \n",
    "The time water is in contact with hardness producing material helps determine how much hardness there is in raw water.  \n",
    "Hardness was originally defined as the capacity of water to precipitate soap caused by Calcium and Magnesium.\n",
    "\n",
    "\n",
    "3. **Solids (Total dissolved solids - TDS):**  \n",
    "Water has the ability to dissolve a wide range of inorganic and some organic minerals or salts such as potassium, calcium, sodium, bicarbonates, chlorides, magnesium, sulfates etc.  \n",
    "These minerals produced un-wanted taste and diluted color in appearance of water.  \n",
    "This is the important parameter for the use of water.  \n",
    "The water with high TDS value indicates that water is highly mineralized.  \n",
    "Desirable limit for TDS is 500 mg/l and maximum limit is 1000 mg/l which prescribed for drinking purpose.\n",
    "\n",
    "\n",
    "4. **Chloramines:**  \n",
    "Chlorine and chloramine are the major disinfectants used in public water systems.  \n",
    "Chloramines are most commonly formed when ammonia is added to chlorine to treat drinking water.  \n",
    "Chlorine levels up to 4 milligrams per liter (mg/L or 4 parts per million (ppm)) are considered safe in drinking water.\n",
    "\n",
    "\n",
    "5. **Sulfate:**  \n",
    "Sulfates are naturally occurring substances that are found in minerals, soil, and rocks.  \n",
    "They are present in ambient air, groundwater, plants and food.  \n",
    "The principal commercial use of sulfate is in the chemical industry.  \n",
    "Sulfate concentration in seawater is about 2,700 milligrams per liter (mg/L).  \n",
    "It ranges from 3 to 30 mg/L in most freshwater supplies, although much higher concentrations (1000 mg/L) are found in some geographic locations.\n",
    "\n",
    "\n",
    "6. **Conductivity:**  \n",
    "Pure water is not a good conductor of electric current rather’s a good insulator.  \n",
    "Increase in ions concentration enhances the electrical conductivity of water.  \n",
    "Generally, the amount of dissolved solids in water determines the electrical conductivity.  \n",
    "Electrical conductivity (EC) actually measures the ionic process of a solution that enables it to transmit current.  \n",
    "According to WHO standards, EC value should not exceeded 400 μS/cm.\n",
    "\n",
    "\n",
    "7. **Organic_carbon:**  \n",
    "Total Organic Carbon (TOC) in source waters comes from decaying natural organic matter (NOM) as well as synthetic sources.  \n",
    "TOC is a measure of the total amount of carbon in organic compounds in pure water.  \n",
    "According to US EPA < 2 mg/L as TOC in treated/drinking water, and < 4 mg/Lit in source water which is use for treatment.\n",
    "\n",
    "\n",
    "8. **Trihalomethanes:**  \n",
    "THMs are chemicals which may be found in water treated with chlorine.  \n",
    "The concentration of THMs in drinking water varies according to the level of organic material in the water, the amount of chlorine required to treat the water, and the temperature of the water that is being treated.  \n",
    "THM levels up to 80 ppm is considered safe in drinking water.\n",
    "\n",
    "\n",
    "9. **Turbidity:**  \n",
    "The turbidity of water depends on the quantity of solid matter present in the suspended state.  \n",
    "It is a measure of light emitting properties of water and the test is used to indicate the quality of waste discharge with respect to colloidal matter.  \n",
    "The mean turbidity value obtained for Wondo Genet Campus (0.98 NTU) is lower than the WHO recommended value of 5.00 NTU.\n",
    "\n",
    "\n",
    "10. **Potability:**  \n",
    "Indicates if water is safe for human consumption where 1 means Potable and 0 means Not potable.\n",
    "\n",
    "\n"
   ]
  },
  {
   "cell_type": "markdown",
   "metadata": {},
   "source": [
    "From the above assumptions we came at the below connections between the factors\n",
    "\n",
    "1. Ph → potability\n",
    "\n",
    "2. Solids → hardness\n",
    "\n",
    "3. Solids → potability\n",
    "\n",
    "4. Chloramines → potability\n",
    "\n",
    "5. Sulphate→ Solids\n",
    "\n",
    "6. Solids → Conductivity\n",
    "\n",
    "7. Organic_carbon → Potability\n",
    "\n",
    "8. Organic_carbon → Chloramines\n",
    "\n",
    "Based on the above connections we created the tree structure.\n"
   ]
  },
  {
   "cell_type": "code",
   "execution_count": 17,
   "metadata": {},
   "outputs": [
    {
     "data": {
      "image/png": "[encoded data removed]",
      "text/plain": [
       "<Figure size 1080x720 with 1 Axes>"
      ]
     },
     "metadata": {},
     "output_type": "display_data"
    }
   ],
   "source": [
    "edges_manual = list([\n",
    "        ('ph', 'Potability'), \n",
    "        ('Sulfate', 'Solids'),\n",
    "        ('Solids','Hardness'),\n",
    "        ('Solids','Turbidity'),\n",
    "        ('Solids','Conductivity'),\n",
    "        ('Turbidity', 'Potability'),\n",
    "        ('Conductivity','Potability'),\n",
    "        ('Organic_carbon','Chloramines'),\n",
    "        ('Chloramines','Trihalomethanes'),\n",
    "        ('Chloramines','Potability'),\n",
    "        ('Trihalomethanes','Potability')])\n",
    "\n",
    "manual_model = BayesianModel(edges_manual)\n",
    "\n",
    "%matplotlib inline\n",
    "_ = plt.figure(figsize = (15,10))\n",
    "nx.draw(manual_model, pos=nx.spring_layout(manual_model), with_labels=True, node_size=2000, node_color=\"orange\", width=4, font_size=20)\n",
    "_ = plt.show()"
   ]
  },
  {
   "cell_type": "markdown",
   "metadata": {},
   "source": [
    "## 5. Model fitting and Generating Inferences"
   ]
  },
  {
   "cell_type": "code",
   "execution_count": 18,
   "metadata": {},
   "outputs": [],
   "source": [
    "bayesian_model = BayesianModel(edges_manual)"
   ]
  },
  {
   "cell_type": "code",
   "execution_count": 19,
   "metadata": {},
   "outputs": [],
   "source": [
    "# Fitting the data to the model using Maximum Likelihood Estimator\n",
    "bayesian_model.fit(df_train, estimator=MaximumLikelihoodEstimator)"
   ]
  },
  {
   "cell_type": "code",
   "execution_count": 20,
   "metadata": {},
   "outputs": [],
   "source": [
    "# Defining the target varaible\n",
    "target = 'Potability'"
   ]
  },
  {
   "cell_type": "code",
   "execution_count": 21,
   "metadata": {},
   "outputs": [
    {
     "data": {
      "text/plain": [
       "['ph', 'Turbidity', 'Conductivity', 'Chloramines', 'Trihalomethanes']"
      ]
     },
     "execution_count": 21,
     "metadata": {},
     "output_type": "execute_result"
    }
   ],
   "source": [
    "# Acc to our model and tree the parents of the target variable are\n",
    "bayesian_model.get_parents(target)"
   ]
  },
  {
   "cell_type": "code",
   "execution_count": 22,
   "metadata": {},
   "outputs": [],
   "source": [
    "# Doing exact inference using Variable Elimination\n",
    "infer = VariableElimination(bayesian_model)"
   ]
  },
  {
   "cell_type": "markdown",
   "metadata": {},
   "source": [
    "#### Joint Distribution and sulphate and potability"
   ]
  },
  {
   "cell_type": "code",
   "execution_count": 23,
   "metadata": {},
   "outputs": [
    {
     "name": "stderr",
     "output_type": "stream",
     "text": [
      "Finding Elimination Order: : 100%|█████████████████████████████████████████████████████████████████████████████████████████████████████████| 7/7 [00:00<00:00, 1166.94it/s]\n",
      "Eliminating: Solids: 100%|███████████████████████████████████████████████████████████████████████████████████████████████████████████████████| 7/7 [00:01<00:00,  5.82it/s]\n"
     ]
    },
    {
     "name": "stdout",
     "output_type": "stream",
     "text": [
      "+---------------+---------------------------+---------------------------+\n",
      "| Potability    | Sulfate                   |   phi(Potability,Sulfate) |\n",
      "+===============+===========================+===========================+\n",
      "| Potability(0) | Sulfate(129.0 to 280.99)  |                    0.0002 |\n",
      "+---------------+---------------------------+---------------------------+\n",
      "| Potability(0) | Sulfate(280.99 to 297.32) |                    0.0003 |\n",
      "+---------------+---------------------------+---------------------------+\n",
      "| Potability(0) | Sulfate(297.32 to 307.71) |                    0.0013 |\n",
      "+---------------+---------------------------+---------------------------+\n",
      "| Potability(0) | Sulfate(307.71 to 316.67) |                    0.0038 |\n",
      "+---------------+---------------------------+---------------------------+\n",
      "| Potability(0) | Sulfate(316.67 to 323.36) |                    0.0152 |\n",
      "+---------------+---------------------------+---------------------------+\n",
      "| Potability(0) | Sulfate(323.36 to 329.32) |                    0.0452 |\n",
      "+---------------+---------------------------+---------------------------+\n",
      "| Potability(0) | Sulfate(329.32 to 336.06) |                    0.1096 |\n",
      "+---------------+---------------------------+---------------------------+\n",
      "| Potability(0) | Sulfate(336.06 to 342.94) |                    0.1658 |\n",
      "+---------------+---------------------------+---------------------------+\n",
      "| Potability(0) | Sulfate(342.94 to 350.77) |                    0.1110 |\n",
      "+---------------+---------------------------+---------------------------+\n",
      "| Potability(0) | Sulfate(350.77 to 360.01) |                    0.0552 |\n",
      "+---------------+---------------------------+---------------------------+\n",
      "| Potability(0) | Sulfate(360.01 to 371.93) |                    0.0200 |\n",
      "+---------------+---------------------------+---------------------------+\n",
      "| Potability(0) | Sulfate(371.93 to 388.75) |                    0.0048 |\n",
      "+---------------+---------------------------+---------------------------+\n",
      "| Potability(0) | Sulfate(388.75 to 481.03) |                    0.0012 |\n",
      "+---------------+---------------------------+---------------------------+\n",
      "| Potability(1) | Sulfate(129.0 to 280.99)  |                    0.0001 |\n",
      "+---------------+---------------------------+---------------------------+\n",
      "| Potability(1) | Sulfate(280.99 to 297.32) |                    0.0003 |\n",
      "+---------------+---------------------------+---------------------------+\n",
      "| Potability(1) | Sulfate(297.32 to 307.71) |                    0.0012 |\n",
      "+---------------+---------------------------+---------------------------+\n",
      "| Potability(1) | Sulfate(307.71 to 316.67) |                    0.0034 |\n",
      "+---------------+---------------------------+---------------------------+\n",
      "| Potability(1) | Sulfate(316.67 to 323.36) |                    0.0133 |\n",
      "+---------------+---------------------------+---------------------------+\n",
      "| Potability(1) | Sulfate(323.36 to 329.32) |                    0.0395 |\n",
      "+---------------+---------------------------+---------------------------+\n",
      "| Potability(1) | Sulfate(329.32 to 336.06) |                    0.0958 |\n",
      "+---------------+---------------------------+---------------------------+\n",
      "| Potability(1) | Sulfate(336.06 to 342.94) |                    0.1449 |\n",
      "+---------------+---------------------------+---------------------------+\n",
      "| Potability(1) | Sulfate(342.94 to 350.77) |                    0.0971 |\n",
      "+---------------+---------------------------+---------------------------+\n",
      "| Potability(1) | Sulfate(350.77 to 360.01) |                    0.0482 |\n",
      "+---------------+---------------------------+---------------------------+\n",
      "| Potability(1) | Sulfate(360.01 to 371.93) |                    0.0175 |\n",
      "+---------------+---------------------------+---------------------------+\n",
      "| Potability(1) | Sulfate(371.93 to 388.75) |                    0.0042 |\n",
      "+---------------+---------------------------+---------------------------+\n",
      "| Potability(1) | Sulfate(388.75 to 481.03) |                    0.0010 |\n",
      "+---------------+---------------------------+---------------------------+\n"
     ]
    }
   ],
   "source": [
    "_ = print(infer.query(variables=[target, 'Sulfate'], joint=True))"
   ]
  },
  {
   "cell_type": "code",
   "execution_count": 24,
   "metadata": {},
   "outputs": [
    {
     "data": {
      "text/plain": [
       "[<TabularCPD representing P(ph:13) at 0x1ee77fb46d0>,\n",
       " <TabularCPD representing P(Potability:2 | Chloramines:13, Conductivity:13, Trihalomethanes:13, Turbidity:13, ph:13) at 0x1ee779503a0>,\n",
       " <TabularCPD representing P(Sulfate:13) at 0x1ee77fc9880>,\n",
       " <TabularCPD representing P(Solids:13 | Sulfate:13) at 0x1ee779716d0>,\n",
       " <TabularCPD representing P(Hardness:13 | Solids:13) at 0x1ee77fb38e0>,\n",
       " <TabularCPD representing P(Turbidity:13 | Solids:13) at 0x1ee779b2d60>,\n",
       " <TabularCPD representing P(Conductivity:13 | Solids:13) at 0x1ee77faedf0>,\n",
       " <TabularCPD representing P(Organic_carbon:13) at 0x1ee77fb45b0>,\n",
       " <TabularCPD representing P(Chloramines:13 | Organic_carbon:13) at 0x1ee779b2340>,\n",
       " <TabularCPD representing P(Trihalomethanes:13 | Chloramines:13) at 0x1ee779b2580>]"
      ]
     },
     "execution_count": 24,
     "metadata": {},
     "output_type": "execute_result"
    }
   ],
   "source": [
    "# conditional probability distributions\n",
    "bayesian_model.get_cpds()"
   ]
  },
  {
   "cell_type": "code",
   "execution_count": 25,
   "metadata": {},
   "outputs": [],
   "source": [
    "# Code for printing the cpd \n",
    "#print(bayesian_model.get_cpds(\"Potability\"))"
   ]
  },
  {
   "cell_type": "markdown",
   "metadata": {},
   "source": [
    "#### Local Independencies"
   ]
  },
  {
   "cell_type": "code",
   "execution_count": 26,
   "metadata": {},
   "outputs": [
    {
     "data": {
      "text/plain": [
       "(ph ⟂ Chloramines, Turbidity, Sulfate, Organic_carbon, Potability, Trihalomethanes, Conductivity | Hardness, Solids)\n",
       "(Solids ⟂ Chloramines, Potability | Sulfate, Hardness)\n",
       "(Chloramines ⟂ Turbidity, Organic_carbon, ph, Potability, Trihalomethanes, Conductivity, Solids | Sulfate, Hardness)\n",
       "(Conductivity ⟂ Chloramines, Turbidity, Sulfate, ph, Potability, Trihalomethanes | Hardness, Solids)\n",
       "(Organic_carbon ⟂ Chloramines, Turbidity, Sulfate, ph, Potability, Trihalomethanes, Solids | Conductivity, Hardness)\n",
       "(Trihalomethanes ⟂ Chloramines, Sulfate, ph, Organic_carbon, Potability, Conductivity | Hardness, Solids)\n",
       "(Turbidity ⟂ Chloramines, Sulfate, ph, Organic_carbon, Potability, Conductivity, Solids | Trihalomethanes, Hardness)\n",
       "(Potability ⟂ Chloramines, Turbidity, Organic_carbon, ph, Trihalomethanes, Conductivity, Solids | Sulfate, Hardness)"
      ]
     },
     "execution_count": 26,
     "metadata": {},
     "output_type": "execute_result"
    }
   ],
   "source": [
    "model.local_independencies(list(df.columns))"
   ]
  },
  {
   "cell_type": "markdown",
   "metadata": {},
   "source": [
    "## 6. Assignment Question: 1\n",
    "1. Construct a Bayesian Belief Network for the given data. [30% weightage]"
   ]
  },
  {
   "cell_type": "code",
   "execution_count": 27,
   "metadata": {},
   "outputs": [
    {
     "data": {
      "image/png": "[encoded data removed]",
      "text/plain": [
       "<Figure size 1080x720 with 1 Axes>"
      ]
     },
     "metadata": {},
     "output_type": "display_data"
    }
   ],
   "source": [
    "# Kindly refer to the steps and the process of creation of this network defined earlier\n",
    "\n",
    "_ = plt.figure(figsize=(15,10))\n",
    "nx.draw(manual_model, pos=nx.spring_layout(manual_model), with_labels=True, node_size=2000, node_color=\"orange\", width=4, font_size=20)\n",
    "plt.show()"
   ]
  },
  {
   "attachments": {
    "image.png": {
     "image/png": "[encoded data removed]"
    }
   },
   "cell_type": "markdown",
   "metadata": {},
   "source": [
    "## 7. Assignment Question: 2\n",
    "\n",
    "Predict the water quality for the following data: [10%weightage]\n",
    "\n",
    "![image.png](attachment:image.png)"
   ]
  },
  {
   "cell_type": "markdown",
   "metadata": {},
   "source": [
    "Here as we have discretized the data, hence we need to find the ranges the above variables belongs to.  \n",
    "The below function is for that purpose."
   ]
  },
  {
   "cell_type": "code",
   "execution_count": 28,
   "metadata": {},
   "outputs": [],
   "source": [
    "to_fetch = bin_df_equal_frequency.T"
   ]
  },
  {
   "cell_type": "code",
   "execution_count": 29,
   "metadata": {},
   "outputs": [],
   "source": [
    "def variable(col, value):\n",
    "    if ((to_fetch[col][1]) > value):\n",
    "        return(str(round(min(df_copy[col].unique()), 2)) + \" to \" + str(round(bin_df_equal_frequency[1][col], 2)))\n",
    "    for i in range(2, len(to_fetch) - 1):\n",
    "        if ((to_fetch[col][i]) > value):\n",
    "            return(str(round(bin_df_equal_frequency[i-1][col], 2)) + \" to \" + str(round(bin_df_equal_frequency[i][col], 2)))\n",
    "    else:\n",
    "        return(str(round(bin_df_equal_frequency[i][col], 2)) + \" to \" + str(round(max(df_copy[col].unique()), 2)))"
   ]
  },
  {
   "cell_type": "markdown",
   "metadata": {},
   "source": [
    "**Variable is a function which takes an input value and return the interval according to the bins.**"
   ]
  },
  {
   "cell_type": "code",
   "execution_count": 30,
   "metadata": {},
   "outputs": [],
   "source": [
    "ph = variable(\"ph\", 3.72)\n",
    "hardness = variable(\"Hardness\", 204.89) \n",
    "solids = variable(\"Solids\", 20791.32)\n",
    "chloramines = variable(\"Chloramines\", 7.3) \n",
    "sulfate = variable(\"Sulfate\", 368.5) \n",
    "conductivity = variable(\"Conductivity\", 564.30)\n",
    "turbidity = variable(\"Turbidity\", 2.96) "
   ]
  },
  {
   "cell_type": "code",
   "execution_count": 31,
   "metadata": {},
   "outputs": [
    {
     "name": "stdout",
     "output_type": "stream",
     "text": [
      "Mapping Question-2 Input values with the values in our dataset\n",
      "---------------------------------------------------\n",
      "Value of Ph           :  0.0 to 4.94\n",
      "Value of Hardness     :  199.42 to 205.23\n",
      "Value of Solids       :  20116.95 to 21828.8\n",
      "Value of Chloramines  :  7.28 to 7.57\n",
      "Value of Sulfate      :  360.01 to 371.93\n",
      "Value of Conductivity :  547.35 to 753.34\n",
      "Value of Turbidity    :  2.86 to 3.17\n"
     ]
    }
   ],
   "source": [
    "print(\"Mapping Question-2 Input values with the values in our dataset\")\n",
    "print(\"---------------------------------------------------\")\n",
    "print(\"Value of Ph           : \", ph)\n",
    "print(\"Value of Hardness     : \", hardness)\n",
    "print(\"Value of Solids       : \", solids)\n",
    "print(\"Value of Chloramines  : \", chloramines)\n",
    "print(\"Value of Sulfate      : \", sulfate)\n",
    "print(\"Value of Conductivity : \", conductivity)\n",
    "print(\"Value of Turbidity    : \", turbidity)"
   ]
  },
  {
   "cell_type": "code",
   "execution_count": 32,
   "metadata": {},
   "outputs": [
    {
     "name": "stderr",
     "output_type": "stream",
     "text": [
      "Finding Elimination Order: : 100%|██████████████████████████████████████████████████████████████████████████████████████████████████████████| 1/1 [00:00<00:00, 334.74it/s]\n",
      "Eliminating: Trihalomethanes: 100%|█████████████████████████████████████████████████████████████████████████████████████████████████████████| 1/1 [00:00<00:00, 497.37it/s]"
     ]
    },
    {
     "name": "stdout",
     "output_type": "stream",
     "text": [
      "+---------------+-------------------+\n",
      "| Potability    |   phi(Potability) |\n",
      "+===============+===================+\n",
      "| Potability(0) |            0.5000 |\n",
      "+---------------+-------------------+\n",
      "| Potability(1) |            0.5000 |\n",
      "+---------------+-------------------+\n"
     ]
    },
    {
     "name": "stderr",
     "output_type": "stream",
     "text": [
      "\n"
     ]
    }
   ],
   "source": [
    "# predicting the water quality for the following data\n",
    "print(infer.query(variables=[target], evidence={\n",
    "    \"ph\":ph,\n",
    "    \"Hardness\":hardness,\n",
    "    \"Solids\":solids,\n",
    "    \"Chloramines\":chloramines,\n",
    "    \"Sulfate\":sulfate,\n",
    "    \"Conductivity\":conductivity,\n",
    "    \"Turbidity\":turbidity}, show_progress=True))"
   ]
  },
  {
   "cell_type": "code",
   "execution_count": 33,
   "metadata": {},
   "outputs": [
    {
     "name": "stderr",
     "output_type": "stream",
     "text": [
      "Finding Elimination Order: : 100%|██████████████████████████████████████████████████████████████████████████████████████████████████████████| 1/1 [00:00<00:00, 334.07it/s]\n",
      "Eliminating: Trihalomethanes: 100%|█████████████████████████████████████████████████████████████████████████████████████████████████████████| 1/1 [00:00<00:00, 499.80it/s]"
     ]
    },
    {
     "name": "stdout",
     "output_type": "stream",
     "text": [
      "{'Potability': 0}\n"
     ]
    },
    {
     "name": "stderr",
     "output_type": "stream",
     "text": [
      "\n"
     ]
    }
   ],
   "source": [
    "#predicting the water quality for the following data\n",
    "print(infer.map_query(variables=[target], evidence={\n",
    "    \"ph\":ph,\n",
    "    \"Hardness\":hardness,\n",
    "    \"Solids\":solids,\n",
    "    \"Chloramines\":chloramines,\n",
    "    \"Sulfate\":sulfate,\n",
    "    \"Conductivity\":conductivity,\n",
    "    \"Turbidity\":turbidity}))"
   ]
  },
  {
   "cell_type": "markdown",
   "metadata": {},
   "source": [
    "#### Observations:\n",
    "Since the potability is 0.  \n",
    "Hence the water is Non Drinkable."
   ]
  },
  {
   "attachments": {
    "image.png": {
     "image/png": "[encoded data removed]"
    }
   },
   "cell_type": "markdown",
   "metadata": {},
   "source": [
    "## 8. Assignment Question: 3\n",
    "\n",
    "Infer the probability for the data with the following properties: [10%weightage]\n",
    "\n",
    "![image.png](attachment:image.png)"
   ]
  },
  {
   "cell_type": "code",
   "execution_count": 34,
   "metadata": {},
   "outputs": [],
   "source": [
    "ph = variable(\"ph\", 10)\n",
    "hardness = variable(\"Hardness\", 248) \n",
    "solids = variable(\"Solids\", 28749)\n",
    "chloramines = variable(\"Chloramines\", 7.5) \n",
    "sulfate = variable(\"Sulfate\", 393) \n",
    "conductivity = variable(\"Conductivity\", 283)\n",
    "turbidity = variable(\"Turbidity\", 2.67)\n",
    "org_carbon = variable(\"Organic_carbon\", 13.78)\n",
    "trihalo = variable(\"Trihalomethanes\", 84.6)\n",
    "pot = 1"
   ]
  },
  {
   "cell_type": "code",
   "execution_count": 35,
   "metadata": {},
   "outputs": [
    {
     "name": "stdout",
     "output_type": "stream",
     "text": [
      "Mapping Question-3 Input values with the values in our dataset\n",
      "--------------------------------------------------------------\n",
      "Value of Ph              :  9.24 to 14.0\n",
      "Value of Hardness        :  240.98 to 323.12\n",
      "Value of Solids          :  27925.05 to 30972.6\n",
      "Value of Chloramines     :  7.28 to 7.57\n",
      "Value of Sulfate         :  388.75 to 481.03\n",
      "Value of Conductivity    :  181.48 to 315.13\n",
      "Value of Turbidity       :  1.45 to 2.86\n",
      "Value of Organic Carbon  :  13.29 to 13.94\n",
      "Value of Trihalomethanes :  82.4 to 88.69\n",
      "Value of Potability      :  1\n"
     ]
    }
   ],
   "source": [
    "print(\"Mapping Question-3 Input values with the values in our dataset\")\n",
    "print(\"--------------------------------------------------------------\")\n",
    "print(\"Value of Ph              : \", ph)\n",
    "print(\"Value of Hardness        : \", hardness)\n",
    "print(\"Value of Solids          : \", solids)\n",
    "print(\"Value of Chloramines     : \", chloramines)\n",
    "print(\"Value of Sulfate         : \", sulfate)\n",
    "print(\"Value of Conductivity    : \", conductivity)\n",
    "print(\"Value of Turbidity       : \", turbidity)\n",
    "print(\"Value of Organic Carbon  : \", org_carbon)\n",
    "print(\"Value of Trihalomethanes : \", trihalo)\n",
    "print(\"Value of Potability      : \", pot)"
   ]
  },
  {
   "attachments": {
    "image.png": {
     "image/png": "[encoded data removed]"
    }
   },
   "cell_type": "markdown",
   "metadata": {},
   "source": [
    "We are asked to find the probability of occuring the above conditions. This can be done using chain rule.  \n",
    "![image.png](attachment:image.png)"
   ]
  },
  {
   "cell_type": "markdown",
   "metadata": {},
   "source": [
    "According to the Chain Rule, \n",
    "\n",
    "P(ph,har,sol,chl,sul,con,tur,org,tri,pot)=  P(pot|tri,org,tur,con,sul,chl,sol,har,ph)* P(tri|org,tur,con,sul,chl,sol,har,ph)* P(org|tur,con,sul,chl,sol,har,ph) * P(tur|con,sul,chl,sol,har,ph) * P(con|sul,chl,sol,har,ph) * P(sul|chl,sol,har,ph) * P(chl|sol,har,ph) * P(sol|har,ph) * P(har|ph) * P(ph)  \n",
    "\n",
    "Then we need to find each of these values using infer method of variable elimination."
   ]
  },
  {
   "cell_type": "markdown",
   "metadata": {},
   "source": [
    "#### P(pot|tri,org,tur,con,sul,chl,sol,har,ph)"
   ]
  },
  {
   "cell_type": "code",
   "execution_count": 36,
   "metadata": {},
   "outputs": [
    {
     "name": "stderr",
     "output_type": "stream",
     "text": [
      "Finding Elimination Order: : : 0it [00:00, ?it/s]\n",
      "0it [00:00, ?it/s]"
     ]
    },
    {
     "name": "stdout",
     "output_type": "stream",
     "text": [
      "+---------------+-------------------+\n",
      "| Potability    |   phi(Potability) |\n",
      "+===============+===================+\n",
      "| Potability(0) |            0.5000 |\n",
      "+---------------+-------------------+\n",
      "| Potability(1) |            0.5000 |\n",
      "+---------------+-------------------+\n"
     ]
    },
    {
     "name": "stderr",
     "output_type": "stream",
     "text": [
      "\n"
     ]
    }
   ],
   "source": [
    "print(infer.query(variables=[\"Potability\"],evidence={\n",
    "    \"Trihalomethanes\":trihalo,\n",
    "    \"Organic_carbon\":org_carbon,\n",
    "    \"Turbidity\":turbidity,\n",
    "    \"Conductivity\":conductivity,\n",
    "    \"Sulfate\":sulfate,\n",
    "    \"Chloramines\":chloramines,\n",
    "    \"Solids\":solids,\n",
    "    \"Hardness\":hardness,\n",
    "    \"ph\":ph}, show_progress=True))\n",
    "\n",
    "term1 = 0.5"
   ]
  },
  {
   "cell_type": "markdown",
   "metadata": {},
   "source": [
    "Here we need is potability = 1   \n",
    "P(pot|tri,org,tur,con,sul,chl,sol,har,ph) = 0.5"
   ]
  },
  {
   "cell_type": "markdown",
   "metadata": {},
   "source": [
    "#### P(tri|org,tur,con,sul,chl,sol,har,ph)"
   ]
  },
  {
   "cell_type": "code",
   "execution_count": 37,
   "metadata": {},
   "outputs": [
    {
     "name": "stderr",
     "output_type": "stream",
     "text": [
      "Finding Elimination Order: : : 0it [00:00, ?it/s]\n",
      "0it [00:00, ?it/s]"
     ]
    },
    {
     "name": "stdout",
     "output_type": "stream",
     "text": [
      "+---------------------------------+------------------------+\n",
      "| Trihalomethanes                 |   phi(Trihalomethanes) |\n",
      "+=================================+========================+\n",
      "| Trihalomethanes(0.74 to 43.38)  |                 0.0013 |\n",
      "+---------------------------------+------------------------+\n",
      "| Trihalomethanes(43.38 to 50.57) |                 0.0013 |\n",
      "+---------------------------------+------------------------+\n",
      "| Trihalomethanes(50.57 to 55.05) |                 0.0051 |\n",
      "+---------------------------------+------------------------+\n",
      "| Trihalomethanes(55.05 to 59.3)  |                 0.0360 |\n",
      "+---------------------------------+------------------------+\n",
      "| Trihalomethanes(59.3 to 62.2)   |                 0.0746 |\n",
      "+---------------------------------+------------------------+\n",
      "| Trihalomethanes(62.2 to 65.09)  |                 0.1583 |\n",
      "+---------------------------------+------------------------+\n",
      "| Trihalomethanes(65.09 to 68.23) |                 0.2239 |\n",
      "+---------------------------------+------------------------+\n",
      "| Trihalomethanes(68.23 to 71.15) |                 0.2291 |\n",
      "+---------------------------------+------------------------+\n",
      "| Trihalomethanes(71.15 to 74.46) |                 0.1634 |\n",
      "+---------------------------------+------------------------+\n",
      "| Trihalomethanes(74.46 to 77.94) |                 0.0695 |\n",
      "+---------------------------------+------------------------+\n",
      "| Trihalomethanes(77.94 to 82.4)  |                 0.0232 |\n",
      "+---------------------------------+------------------------+\n",
      "| Trihalomethanes(82.4 to 88.69)  |                 0.0129 |\n",
      "+---------------------------------+------------------------+\n",
      "| Trihalomethanes(88.69 to 124.0) |                 0.0013 |\n",
      "+---------------------------------+------------------------+\n",
      "0.012870012870012871\n"
     ]
    },
    {
     "name": "stderr",
     "output_type": "stream",
     "text": [
      "\n"
     ]
    }
   ],
   "source": [
    "term_infer2 = (infer.query(variables=[\"Trihalomethanes\"], evidence={\n",
    "    \"Organic_carbon\":org_carbon,\n",
    "    \"Turbidity\":turbidity,\n",
    "    \"Conductivity\":conductivity,\n",
    "    \"Sulfate\":sulfate,\n",
    "    \"Chloramines\":chloramines,\n",
    "    \"Solids\":solids,\n",
    "    \"Hardness\":hardness,\n",
    "    \"ph\":ph}, show_progress=True))\n",
    "\n",
    "print(term_infer2)\n",
    "term2 = term_infer2.values[big_label[list_of_col.index(term_infer2.variables[0])].index(trihalo)]\n",
    "print(term2)"
   ]
  },
  {
   "cell_type": "markdown",
   "metadata": {},
   "source": [
    "#### P(org|tur,con,sul,chl,sol,har,ph)"
   ]
  },
  {
   "cell_type": "code",
   "execution_count": 38,
   "metadata": {},
   "outputs": [
    {
     "name": "stderr",
     "output_type": "stream",
     "text": [
      "Finding Elimination Order: : : 0it [00:00, ?it/s]\n",
      "0it [00:00, ?it/s]"
     ]
    },
    {
     "name": "stdout",
     "output_type": "stream",
     "text": [
      "+--------------------------------+-----------------------+\n",
      "| Organic_carbon                 |   phi(Organic_carbon) |\n",
      "+================================+=======================+\n",
      "| Organic_carbon(10.97 to 11.87) |                0.0219 |\n",
      "+--------------------------------+-----------------------+\n",
      "| Organic_carbon(11.87 to 12.58) |                0.0669 |\n",
      "+--------------------------------+-----------------------+\n",
      "| Organic_carbon(12.58 to 13.29) |                0.1300 |\n",
      "+--------------------------------+-----------------------+\n",
      "| Organic_carbon(13.29 to 13.94) |                0.2394 |\n",
      "+--------------------------------+-----------------------+\n",
      "| Organic_carbon(13.94 to 14.53) |                0.2304 |\n",
      "+--------------------------------+-----------------------+\n",
      "| Organic_carbon(14.53 to 15.22) |                0.1725 |\n",
      "+--------------------------------+-----------------------+\n",
      "| Organic_carbon(15.22 to 15.96) |                0.0901 |\n",
      "+--------------------------------+-----------------------+\n",
      "| Organic_carbon(15.96 to 16.76) |                0.0296 |\n",
      "+--------------------------------+-----------------------+\n",
      "| Organic_carbon(16.76 to 17.73) |                0.0064 |\n",
      "+--------------------------------+-----------------------+\n",
      "| Organic_carbon(17.73 to 18.94) |                0.0000 |\n",
      "+--------------------------------+-----------------------+\n",
      "| Organic_carbon(18.94 to 28.3)  |                0.0000 |\n",
      "+--------------------------------+-----------------------+\n",
      "| Organic_carbon(2.2 to 9.61)    |                0.0000 |\n",
      "+--------------------------------+-----------------------+\n",
      "| Organic_carbon(9.61 to 10.97)  |                0.0129 |\n",
      "+--------------------------------+-----------------------+\n",
      "0.1724581724581725\n"
     ]
    },
    {
     "name": "stderr",
     "output_type": "stream",
     "text": [
      "\n"
     ]
    }
   ],
   "source": [
    "term_infe3 = (infer.query(variables=[\"Organic_carbon\"], evidence={\n",
    "    \"Turbidity\":turbidity,\n",
    "    \"Conductivity\":conductivity,\n",
    "    \"Sulfate\":sulfate,\n",
    "    \"Chloramines\":chloramines,\n",
    "    \"Solids\":solids,\n",
    "    \"Hardness\":hardness,\n",
    "    \"ph\":ph}, show_progress=True))\n",
    "\n",
    "print(term_infe3)\n",
    "term3 = term_infe3.values[big_label[list_of_col.index(term_infe3.variables[0])].index(org_carbon)]\n",
    "print(term3)"
   ]
  },
  {
   "cell_type": "markdown",
   "metadata": {},
   "source": [
    "####  P(tur|con,sul,chl,sol,har,ph)"
   ]
  },
  {
   "cell_type": "code",
   "execution_count": 39,
   "metadata": {},
   "outputs": [
    {
     "name": "stderr",
     "output_type": "stream",
     "text": [
      "Finding Elimination Order: : : 0it [00:00, ?it/s]\n",
      "0it [00:00, ?it/s]"
     ]
    },
    {
     "name": "stdout",
     "output_type": "stream",
     "text": [
      "+-------------------------+------------------+\n",
      "| Turbidity               |   phi(Turbidity) |\n",
      "+=========================+==================+\n",
      "| Turbidity(1.45 to 2.86) |           0.0000 |\n",
      "+-------------------------+------------------+\n",
      "| Turbidity(2.86 to 3.17) |           0.0000 |\n",
      "+-------------------------+------------------+\n",
      "| Turbidity(3.17 to 3.4)  |           0.0667 |\n",
      "+-------------------------+------------------+\n",
      "| Turbidity(3.4 to 3.58)  |           0.0667 |\n",
      "+-------------------------+------------------+\n",
      "| Turbidity(3.58 to 3.74) |           0.1333 |\n",
      "+-------------------------+------------------+\n",
      "| Turbidity(3.74 to 3.88) |           0.2000 |\n",
      "+-------------------------+------------------+\n",
      "| Turbidity(3.88 to 4.04) |           0.1333 |\n",
      "+-------------------------+------------------+\n",
      "| Turbidity(4.04 to 4.2)  |           0.1333 |\n",
      "+-------------------------+------------------+\n",
      "| Turbidity(4.2 to 4.36)  |           0.1333 |\n",
      "+-------------------------+------------------+\n",
      "| Turbidity(4.36 to 4.55) |           0.1333 |\n",
      "+-------------------------+------------------+\n",
      "| Turbidity(4.55 to 4.77) |           0.0000 |\n",
      "+-------------------------+------------------+\n",
      "| Turbidity(4.77 to 5.09) |           0.0000 |\n",
      "+-------------------------+------------------+\n",
      "| Turbidity(5.09 to 6.74) |           0.0000 |\n",
      "+-------------------------+------------------+\n",
      "0.0\n"
     ]
    },
    {
     "name": "stderr",
     "output_type": "stream",
     "text": [
      "\n"
     ]
    }
   ],
   "source": [
    "term_infer4 = (infer.query(variables=[\"Turbidity\"], evidence={\n",
    "    \"Conductivity\":conductivity,\n",
    "    \"Sulfate\":sulfate,\n",
    "    \"Chloramines\":chloramines,\n",
    "    \"Solids\":solids,\n",
    "    \"Hardness\":hardness,\n",
    "    \"ph\":ph}, show_progress=True))\n",
    "\n",
    "print(term_infer4)\n",
    "term4 = term_infer4.values[big_label[list_of_col.index(term_infer4.variables[0])].index(turbidity)]\n",
    "print(term4)"
   ]
  },
  {
   "cell_type": "markdown",
   "metadata": {},
   "source": [
    "#### P(con|sul,chl,sol,har,ph)"
   ]
  },
  {
   "cell_type": "code",
   "execution_count": 40,
   "metadata": {},
   "outputs": [
    {
     "name": "stderr",
     "output_type": "stream",
     "text": [
      "Finding Elimination Order: : : 0it [00:00, ?it/s]\n",
      "0it [00:00, ?it/s]"
     ]
    },
    {
     "name": "stdout",
     "output_type": "stream",
     "text": [
      "+--------------------------------+---------------------+\n",
      "| Conductivity                   |   phi(Conductivity) |\n",
      "+================================+=====================+\n",
      "| Conductivity(181.48 to 315.13) |              0.0000 |\n",
      "+--------------------------------+---------------------+\n",
      "| Conductivity(315.13 to 341.34) |              0.0000 |\n",
      "+--------------------------------+---------------------+\n",
      "| Conductivity(341.34 to 360.71) |              0.0667 |\n",
      "+--------------------------------+---------------------+\n",
      "| Conductivity(360.71 to 379.58) |              0.2000 |\n",
      "+--------------------------------+---------------------+\n",
      "| Conductivity(379.58 to 397.22) |              0.2667 |\n",
      "+--------------------------------+---------------------+\n",
      "| Conductivity(397.22 to 413.55) |              0.2667 |\n",
      "+--------------------------------+---------------------+\n",
      "| Conductivity(413.55 to 430.39) |              0.0667 |\n",
      "+--------------------------------+---------------------+\n",
      "| Conductivity(430.39 to 446.84) |              0.0000 |\n",
      "+--------------------------------+---------------------+\n",
      "| Conductivity(446.84 to 468.4)  |              0.0667 |\n",
      "+--------------------------------+---------------------+\n",
      "| Conductivity(468.4 to 487.45)  |              0.0667 |\n",
      "+--------------------------------+---------------------+\n",
      "| Conductivity(487.45 to 512.04) |              0.0000 |\n",
      "+--------------------------------+---------------------+\n",
      "| Conductivity(512.04 to 547.35) |              0.0000 |\n",
      "+--------------------------------+---------------------+\n",
      "| Conductivity(547.35 to 753.34) |              0.0000 |\n",
      "+--------------------------------+---------------------+\n",
      "0.0\n"
     ]
    },
    {
     "name": "stderr",
     "output_type": "stream",
     "text": [
      "\n"
     ]
    }
   ],
   "source": [
    "term_infer5 = (infer.query(variables=[\"Conductivity\"], evidence={\n",
    "    \"Sulfate\":sulfate,\n",
    "    \"Chloramines\":chloramines,\n",
    "    \"Solids\":solids,\n",
    "    \"Hardness\":hardness,\n",
    "    \"ph\":ph}, show_progress=True))\n",
    "\n",
    "print(term_infer5)\n",
    "term5 = term_infer5.values[big_label[list_of_col.index(term_infer5.variables[0])].index(conductivity)]\n",
    "print(term5)"
   ]
  },
  {
   "cell_type": "markdown",
   "metadata": {},
   "source": [
    "#### P(sul|chl,sol,har,ph)"
   ]
  },
  {
   "cell_type": "code",
   "execution_count": 41,
   "metadata": {},
   "outputs": [
    {
     "name": "stderr",
     "output_type": "stream",
     "text": [
      "Finding Elimination Order: : : 0it [00:00, ?it/s]\n",
      "0it [00:00, ?it/s]\n"
     ]
    },
    {
     "name": "stdout",
     "output_type": "stream",
     "text": [
      "+---------------------------+----------------+\n",
      "| Sulfate                   |   phi(Sulfate) |\n",
      "+===========================+================+\n",
      "| Sulfate(129.0 to 280.99)  |         0.0000 |\n",
      "+---------------------------+----------------+\n",
      "| Sulfate(280.99 to 297.32) |         0.0000 |\n",
      "+---------------------------+----------------+\n",
      "| Sulfate(297.32 to 307.71) |         0.0000 |\n",
      "+---------------------------+----------------+\n",
      "| Sulfate(307.71 to 316.67) |         0.0000 |\n",
      "+---------------------------+----------------+\n",
      "| Sulfate(316.67 to 323.36) |         0.0667 |\n",
      "+---------------------------+----------------+\n",
      "| Sulfate(323.36 to 329.32) |         0.0667 |\n",
      "+---------------------------+----------------+\n",
      "| Sulfate(329.32 to 336.06) |         0.4000 |\n",
      "+---------------------------+----------------+\n",
      "| Sulfate(336.06 to 342.94) |         0.2000 |\n",
      "+---------------------------+----------------+\n",
      "| Sulfate(342.94 to 350.77) |         0.1333 |\n",
      "+---------------------------+----------------+\n",
      "| Sulfate(350.77 to 360.01) |         0.0000 |\n",
      "+---------------------------+----------------+\n",
      "| Sulfate(360.01 to 371.93) |         0.1333 |\n",
      "+---------------------------+----------------+\n",
      "| Sulfate(371.93 to 388.75) |         0.0000 |\n",
      "+---------------------------+----------------+\n",
      "| Sulfate(388.75 to 481.03) |         0.0000 |\n",
      "+---------------------------+----------------+\n",
      "0.0\n"
     ]
    }
   ],
   "source": [
    "term_infer6 = (infer.query(variables=[\"Sulfate\"], evidence={\n",
    "    \"Chloramines\":chloramines,\n",
    "    \"Solids\":solids,\n",
    "    \"Hardness\":hardness,\n",
    "    \"ph\":ph}, show_progress=True))\n",
    "\n",
    "print(term_infer6)\n",
    "term6 = term_infer6.values[big_label[list_of_col.index(term_infer6.variables[0])].index(sulfate)]\n",
    "print(term6)"
   ]
  },
  {
   "cell_type": "markdown",
   "metadata": {},
   "source": [
    "#### P(chl|sol,har,ph)"
   ]
  },
  {
   "cell_type": "code",
   "execution_count": 42,
   "metadata": {},
   "outputs": [
    {
     "name": "stderr",
     "output_type": "stream",
     "text": [
      "Finding Elimination Order: : 100%|██████████████████████████████████████████████████████████████████████████████████████████████████████████| 1/1 [00:00<00:00, 998.41it/s]\n",
      "Eliminating: Organic_carbon: 100%|██████████████████████████████████████████████████████████████████████████████████████████████████████████| 1/1 [00:00<00:00, 499.92it/s]\n"
     ]
    },
    {
     "name": "stdout",
     "output_type": "stream",
     "text": [
      "+----------------------------+--------------------+\n",
      "| Chloramines                |   phi(Chloramines) |\n",
      "+============================+====================+\n",
      "| Chloramines(0.35 to 4.95)  |             0.0006 |\n",
      "+----------------------------+--------------------+\n",
      "| Chloramines(4.95 to 5.61)  |             0.0012 |\n",
      "+----------------------------+--------------------+\n",
      "| Chloramines(5.61 to 6.05)  |             0.0103 |\n",
      "+----------------------------+--------------------+\n",
      "| Chloramines(6.05 to 6.37)  |             0.0266 |\n",
      "+----------------------------+--------------------+\n",
      "| Chloramines(6.37 to 6.67)  |             0.0719 |\n",
      "+----------------------------+--------------------+\n",
      "| Chloramines(6.67 to 6.98)  |             0.1697 |\n",
      "+----------------------------+--------------------+\n",
      "| Chloramines(6.98 to 7.28)  |             0.2447 |\n",
      "+----------------------------+--------------------+\n",
      "| Chloramines(7.28 to 7.57)  |             0.2428 |\n",
      "+----------------------------+--------------------+\n",
      "| Chloramines(7.57 to 7.85)  |             0.1387 |\n",
      "+----------------------------+--------------------+\n",
      "| Chloramines(7.85 to 8.21)  |             0.0691 |\n",
      "+----------------------------+--------------------+\n",
      "| Chloramines(8.21 to 8.66)  |             0.0159 |\n",
      "+----------------------------+--------------------+\n",
      "| Chloramines(8.66 to 9.38)  |             0.0053 |\n",
      "+----------------------------+--------------------+\n",
      "| Chloramines(9.38 to 13.13) |             0.0031 |\n",
      "+----------------------------+--------------------+\n",
      "0.2428124999999999\n"
     ]
    }
   ],
   "source": [
    "term_infer7 = (infer.query(variables=[\"Chloramines\"], evidence={\"Solids\":solids, \"Hardness\":hardness,\"ph\":ph}, show_progress=True))\n",
    "print(term_infer7)\n",
    "term7 = term_infer7.values[big_label[list_of_col.index(term_infer7.variables[0])].index(chloramines)]\n",
    "print(term7)"
   ]
  },
  {
   "cell_type": "markdown",
   "metadata": {},
   "source": [
    "#### P(sol|har,ph) "
   ]
  },
  {
   "cell_type": "code",
   "execution_count": 43,
   "metadata": {},
   "outputs": [
    {
     "name": "stderr",
     "output_type": "stream",
     "text": [
      "Finding Elimination Order: : 100%|█████████████████████████████████████████████████████████████████████████████████████████████████████████| 1/1 [00:00<00:00, 1000.55it/s]\n",
      "Eliminating: Sulfate: 100%|█████████████████████████████████████████████████████████████████████████████████████████████████████████████████| 1/1 [00:00<00:00, 499.98it/s]\n"
     ]
    },
    {
     "name": "stdout",
     "output_type": "stream",
     "text": [
      "+------------------------------+---------------+\n",
      "| Solids                       |   phi(Solids) |\n",
      "+==============================+===============+\n",
      "| Solids(10924.93 to 13371.93) |        0.0000 |\n",
      "+------------------------------+---------------+\n",
      "| Solids(13371.93 to 15176.79) |        0.0000 |\n",
      "+------------------------------+---------------+\n",
      "| Solids(15176.79 to 16913.21) |        0.2857 |\n",
      "+------------------------------+---------------+\n",
      "| Solids(16913.21 to 18509.26) |        0.0000 |\n",
      "+------------------------------+---------------+\n",
      "| Solids(18509.26 to 20116.95) |        0.2857 |\n",
      "+------------------------------+---------------+\n",
      "| Solids(20116.95 to 21828.8)  |        0.1429 |\n",
      "+------------------------------+---------------+\n",
      "| Solids(21828.8 to 23623.73)  |        0.0000 |\n",
      "+------------------------------+---------------+\n",
      "| Solids(23623.73 to 25677.48) |        0.1429 |\n",
      "+------------------------------+---------------+\n",
      "| Solids(25677.48 to 27925.05) |        0.1429 |\n",
      "+------------------------------+---------------+\n",
      "| Solids(27925.05 to 30972.6)  |        0.0000 |\n",
      "+------------------------------+---------------+\n",
      "| Solids(30972.6 to 35297.61)  |        0.0000 |\n",
      "+------------------------------+---------------+\n",
      "| Solids(320.94 to 10924.93)   |        0.0000 |\n",
      "+------------------------------+---------------+\n",
      "| Solids(35297.61 to 61227.2)  |        0.0000 |\n",
      "+------------------------------+---------------+\n",
      "0.0\n"
     ]
    }
   ],
   "source": [
    "term_infer8 = (infer.query(variables=[\"Solids\"], evidence={\"Hardness\":hardness, \"ph\":ph}, show_progress=True))\n",
    "print(term_infer8)\n",
    "term8 = term_infer8.values[big_label[list_of_col.index(term_infer8.variables[0])].index(solids)]\n",
    "print(term8)"
   ]
  },
  {
   "cell_type": "markdown",
   "metadata": {},
   "source": [
    "#### P(har|ph) "
   ]
  },
  {
   "cell_type": "code",
   "execution_count": 44,
   "metadata": {},
   "outputs": [
    {
     "name": "stderr",
     "output_type": "stream",
     "text": [
      "Finding Elimination Order: : 100%|██████████████████████████████████████████████████████████████████████████████████████████████████████████| 2/2 [00:00<00:00, 998.76it/s]\n",
      "Eliminating: Solids: 100%|██████████████████████████████████████████████████████████████████████████████████████████████████████████████████| 2/2 [00:00<00:00, 399.80it/s]\n"
     ]
    },
    {
     "name": "stdout",
     "output_type": "stream",
     "text": [
      "+----------------------------+-----------------+\n",
      "| Hardness                   |   phi(Hardness) |\n",
      "+============================+=================+\n",
      "| Hardness(150.08 to 163.94) |          0.0009 |\n",
      "+----------------------------+-----------------+\n",
      "| Hardness(163.94 to 174.67) |          0.0056 |\n",
      "+----------------------------+-----------------+\n",
      "| Hardness(174.67 to 182.07) |          0.0222 |\n",
      "+----------------------------+-----------------+\n",
      "| Hardness(182.07 to 187.8)  |          0.0613 |\n",
      "+----------------------------+-----------------+\n",
      "| Hardness(187.8 to 193.71)  |          0.1409 |\n",
      "+----------------------------+-----------------+\n",
      "| Hardness(193.71 to 199.42) |          0.2569 |\n",
      "+----------------------------+-----------------+\n",
      "| Hardness(199.42 to 205.23) |          0.2678 |\n",
      "+----------------------------+-----------------+\n",
      "| Hardness(205.23 to 211.62) |          0.1569 |\n",
      "+----------------------------+-----------------+\n",
      "| Hardness(211.62 to 218.73) |          0.0578 |\n",
      "+----------------------------+-----------------+\n",
      "| Hardness(218.73 to 228.16) |          0.0228 |\n",
      "+----------------------------+-----------------+\n",
      "| Hardness(228.16 to 240.98) |          0.0044 |\n",
      "+----------------------------+-----------------+\n",
      "| Hardness(240.98 to 323.12) |          0.0022 |\n",
      "+----------------------------+-----------------+\n",
      "| Hardness(47.43 to 150.08)  |          0.0003 |\n",
      "+----------------------------+-----------------+\n",
      "0.0003125\n"
     ]
    }
   ],
   "source": [
    "term_infer9 = (infer.query(variables=[\"Hardness\"],evidence={\"ph\":ph}, show_progress=True))\n",
    "print(term_infer9)\n",
    "term9 = term_infer9.values[big_label[list_of_col.index(term_infer9.variables[0])].index(hardness)]\n",
    "print(term9)"
   ]
  },
  {
   "cell_type": "markdown",
   "metadata": {},
   "source": [
    "#### P(ph)"
   ]
  },
  {
   "cell_type": "code",
   "execution_count": 45,
   "metadata": {},
   "outputs": [
    {
     "name": "stderr",
     "output_type": "stream",
     "text": [
      "Finding Elimination Order: : : 0it [00:00, ?it/s]\n",
      "0it [00:00, ?it/s]\n"
     ]
    },
    {
     "name": "stdout",
     "output_type": "stream",
     "text": [
      "+------------------+-----------+\n",
      "| ph               |   phi(ph) |\n",
      "+==================+===========+\n",
      "| ph(0.0 to 4.94)  |    0.0013 |\n",
      "+------------------+-----------+\n",
      "| ph(4.94 to 5.6)  |    0.0016 |\n",
      "+------------------+-----------+\n",
      "| ph(5.6 to 6.04)  |    0.0041 |\n",
      "+------------------+-----------+\n",
      "| ph(6.04 to 6.35) |    0.0309 |\n",
      "+------------------+-----------+\n",
      "| ph(6.35 to 6.64) |    0.0841 |\n",
      "+------------------+-----------+\n",
      "| ph(6.64 to 6.92) |    0.2137 |\n",
      "+------------------+-----------+\n",
      "| ph(6.92 to 7.18) |    0.3006 |\n",
      "+------------------+-----------+\n",
      "| ph(7.18 to 7.46) |    0.2206 |\n",
      "+------------------+-----------+\n",
      "| ph(7.46 to 7.77) |    0.0959 |\n",
      "+------------------+-----------+\n",
      "| ph(7.77 to 8.09) |    0.0366 |\n",
      "+------------------+-----------+\n",
      "| ph(8.09 to 8.55) |    0.0084 |\n",
      "+------------------+-----------+\n",
      "| ph(8.55 to 9.24) |    0.0009 |\n",
      "+------------------+-----------+\n",
      "| ph(9.24 to 14.0) |    0.0013 |\n",
      "+------------------+-----------+\n",
      "0.00125\n"
     ]
    }
   ],
   "source": [
    "term_infer10 = (infer.query(variables=[\"ph\"], show_progress=True))\n",
    "print(term_infer10)\n",
    "term10 = term_infer10.values[big_label[list_of_col.index(term_infer10.variables[0])].index(ph)]\n",
    "print(term10)"
   ]
  },
  {
   "cell_type": "code",
   "execution_count": 46,
   "metadata": {},
   "outputs": [
    {
     "name": "stdout",
     "output_type": "stream",
     "text": [
      "Probability of the given instance of variables :  0.0\n"
     ]
    }
   ],
   "source": [
    "# According to the Chain Rule\n",
    "req_prob = (term1 * term2 * term3 * term4 * term5 * term6 * term7 * term8 * term9 * term10)\n",
    "print(\"Probability of the given instance of variables : \",req_prob)"
   ]
  },
  {
   "cell_type": "markdown",
   "metadata": {},
   "source": [
    "## 9. Assignment Question: 4"
   ]
  },
  {
   "cell_type": "markdown",
   "metadata": {},
   "source": [
    "Find the probability of the quality of water being good and the attributes take the following values: low ph, high in hardness, with high presence of solids, and other chemicals. [10%weightage]"
   ]
  },
  {
   "cell_type": "code",
   "execution_count": 47,
   "metadata": {
    "scrolled": true
   },
   "outputs": [
    {
     "name": "stderr",
     "output_type": "stream",
     "text": [
      "Finding Elimination Order: : 100%|█████████████████████████████████████████████████████████████████████████████████████████████████████████| 7/7 [00:00<00:00, 1398.37it/s]\n",
      "Eliminating: Solids: 100%|███████████████████████████████████████████████████████████████████████████████████████████████████████████████████| 7/7 [00:00<00:00, 38.35it/s]"
     ]
    },
    {
     "name": "stdout",
     "output_type": "stream",
     "text": [
      "+---------------+-------------------+\n",
      "| Potability    |   phi(Potability) |\n",
      "+===============+===================+\n",
      "| Potability(0) |            0.5014 |\n",
      "+---------------+-------------------+\n",
      "| Potability(1) |            0.4986 |\n",
      "+---------------+-------------------+\n"
     ]
    },
    {
     "name": "stderr",
     "output_type": "stream",
     "text": [
      "\n"
     ]
    }
   ],
   "source": [
    "print(infer.query(variables=[\"Potability\"], evidence={\"ph\":big_label[0][0], \"ph\":big_label[0][1]}, show_progress=True))"
   ]
  },
  {
   "cell_type": "code",
   "execution_count": 48,
   "metadata": {},
   "outputs": [
    {
     "name": "stderr",
     "output_type": "stream",
     "text": [
      "Finding Elimination Order: : 100%|█████████████████████████████████████████████████████████████████████████████████████████████████████████| 8/8 [00:00<00:00, 1990.42it/s]\n",
      "Eliminating: Solids: 100%|███████████████████████████████████████████████████████████████████████████████████████████████████████████████████| 8/8 [00:00<00:00, 21.22it/s]"
     ]
    },
    {
     "name": "stdout",
     "output_type": "stream",
     "text": [
      "+---------------+-------------------+\n",
      "| Potability    |   phi(Potability) |\n",
      "+===============+===================+\n",
      "| Potability(0) |            0.5334 |\n",
      "+---------------+-------------------+\n",
      "| Potability(1) |            0.4666 |\n",
      "+---------------+-------------------+\n"
     ]
    },
    {
     "name": "stderr",
     "output_type": "stream",
     "text": [
      "\n"
     ]
    }
   ],
   "source": [
    "print(infer.query(variables=[\"Potability\"], evidence={\"Hardness\":big_label[1][-1]}, show_progress=True))"
   ]
  },
  {
   "cell_type": "code",
   "execution_count": 49,
   "metadata": {},
   "outputs": [
    {
     "name": "stderr",
     "output_type": "stream",
     "text": [
      "Finding Elimination Order: : 100%|██████████████████████████████████████████████████████████████████████████████████████████████████████████| 6/6 [00:00<00:00, 854.73it/s]\n",
      "Eliminating: Conductivity: 100%|█████████████████████████████████████████████████████████████████████████████████████████████████████████████| 6/6 [00:00<00:00, 32.61it/s]"
     ]
    },
    {
     "name": "stdout",
     "output_type": "stream",
     "text": [
      "+---------------+-------------------+\n",
      "| Potability    |   phi(Potability) |\n",
      "+===============+===================+\n",
      "| Potability(0) |            0.5479 |\n",
      "+---------------+-------------------+\n",
      "| Potability(1) |            0.4521 |\n",
      "+---------------+-------------------+\n"
     ]
    },
    {
     "name": "stderr",
     "output_type": "stream",
     "text": [
      "\n"
     ]
    }
   ],
   "source": [
    "print(infer.query(variables=[\"Potability\"], evidence={\"Solids\":big_label[2][-1]}, show_progress=True))"
   ]
  },
  {
   "cell_type": "code",
   "execution_count": 50,
   "metadata": {},
   "outputs": [
    {
     "name": "stderr",
     "output_type": "stream",
     "text": [
      "Finding Elimination Order: : 100%|█████████████████████████████████████████████████████████████████████████████████████████████████████████| 6/6 [00:00<00:00, 1198.77it/s]\n",
      "Eliminating: Solids: 100%|███████████████████████████████████████████████████████████████████████████████████████████████████████████████████| 6/6 [00:00<00:00, 35.71it/s]\n"
     ]
    },
    {
     "name": "stdout",
     "output_type": "stream",
     "text": [
      "+---------------+-------------------+\n",
      "| Potability    |   phi(Potability) |\n",
      "+===============+===================+\n",
      "| Potability(0) |            0.4975 |\n",
      "+---------------+-------------------+\n",
      "| Potability(1) |            0.5025 |\n",
      "+---------------+-------------------+\n"
     ]
    }
   ],
   "source": [
    "print(infer.query(variables=[\"Potability\"], evidence={\"Chloramines\":big_label[3][-2], \"Chloramines\":big_label[3][-1]}, show_progress=True))"
   ]
  },
  {
   "cell_type": "code",
   "execution_count": 51,
   "metadata": {},
   "outputs": [
    {
     "name": "stderr",
     "output_type": "stream",
     "text": [
      "Finding Elimination Order: : 100%|█████████████████████████████████████████████████████████████████████████████████████████████████████████| 7/7 [00:00<00:00, 1165.41it/s]\n",
      "Eliminating: Chloramines: 100%|██████████████████████████████████████████████████████████████████████████████████████████████████████████████| 7/7 [00:00<00:00, 40.46it/s]\n"
     ]
    },
    {
     "name": "stdout",
     "output_type": "stream",
     "text": [
      "+---------------+-------------------+\n",
      "| Potability    |   phi(Potability) |\n",
      "+===============+===================+\n",
      "| Potability(0) |            0.4990 |\n",
      "+---------------+-------------------+\n",
      "| Potability(1) |            0.5010 |\n",
      "+---------------+-------------------+\n"
     ]
    }
   ],
   "source": [
    "print(infer.query(variables=[\"Potability\"], evidence={\"Trihalomethanes\":big_label[7][-1]}, show_progress=True))"
   ]
  },
  {
   "cell_type": "code",
   "execution_count": 52,
   "metadata": {
    "scrolled": true
   },
   "outputs": [
    {
     "name": "stderr",
     "output_type": "stream",
     "text": [
      "Finding Elimination Order: : 100%|██████████████████████████████████████████████████████████████████████████████████████████████████████████| 7/7 [00:00<00:00, 396.49it/s]\n",
      "Eliminating: Solids: 100%|███████████████████████████████████████████████████████████████████████████████████████████████████████████████████| 7/7 [00:01<00:00,  5.74it/s]"
     ]
    },
    {
     "name": "stdout",
     "output_type": "stream",
     "text": [
      "+---------------+-------------------+\n",
      "| Potability    |   phi(Potability) |\n",
      "+===============+===================+\n",
      "| Potability(0) |            0.5321 |\n",
      "+---------------+-------------------+\n",
      "| Potability(1) |            0.4679 |\n",
      "+---------------+-------------------+\n"
     ]
    },
    {
     "name": "stderr",
     "output_type": "stream",
     "text": [
      "\n"
     ]
    }
   ],
   "source": [
    "print(infer.query(variables=[\"Potability\"], evidence={\"Sulfate\":big_label[4][-1], \"Sulfate\":big_label[4][-1]}, show_progress=True))"
   ]
  },
  {
   "cell_type": "markdown",
   "metadata": {},
   "source": [
    "### THE END"
   ]
  }
 ],
 "metadata": {
  "kernelspec": {
   "display_name": "Python 3",
   "language": "python",
   "name": "python3"
  },
  "language_info": {
   "codemirror_mode": {
    "name": "ipython",
    "version": 3
   },
   "file_extension": ".py",
   "mimetype": "text/x-python",
   "name": "python",
   "nbconvert_exporter": "python",
   "pygments_lexer": "ipython3",
   "version": "3.9.0"
  }
 },
 "nbformat": 4,
 "nbformat_minor": 5
}
