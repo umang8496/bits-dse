{
 "cells": [
  {
   "cell_type": "markdown",
   "id": "41238bfd",
   "metadata": {},
   "source": [
    "# Assignment 2: Water Quallity Analysis"
   ]
  },
  {
   "cell_type": "markdown",
   "id": "c5e51230",
   "metadata": {},
   "source": [
    "## Table of Contents\n",
    "\n",
    "1) Importing necessary modules for the notebook\n",
    "\n",
    "2) Dataset preprocessing\n",
    "\n",
    "3) Discretization of numerical data\n",
    "\n",
    "4) Parameter learning and Network structure\n",
    "\n",
    "5) Model fitting and Generating Inferences\n",
    "\n",
    "6) Assignment Question 1\n",
    "\n",
    "7) Assignment Question 2\n",
    "\n",
    "8) Assignment Question 3\n",
    "\n",
    "9) Assignment Question 4\n",
    "\n"
   ]
  },
  {
   "cell_type": "markdown",
   "id": "f3c086f8",
   "metadata": {},
   "source": [
    "### 1) Importing necessary modules for the notebook"
   ]
  },
  {
   "cell_type": "code",
   "execution_count": 1,
   "id": "50724c9b",
   "metadata": {},
   "outputs": [],
   "source": [
    "import pandas as pd\n",
    "import numpy as np\n",
    "\n",
    "from pgmpy.estimators import HillClimbSearch, MaximumLikelihoodEstimator, BicScore\n",
    "from pgmpy.models import BayesianModel\n",
    "from pgmpy.inference import VariableElimination\n",
    "from pgmpy.inference import BeliefPropagation\n",
    "\n",
    "from feature_engine.discretisation import EqualFrequencyDiscretiser\n",
    "from feature_engine.discretisation import EqualWidthDiscretiser\n",
    "\n",
    "import networkx as nx\n",
    "import pylab as plt\n",
    "import time\n",
    "\n",
    "import warnings\n",
    "warnings.filterwarnings('ignore')\n",
    "\n",
    "from IPython.core.interactiveshell import InteractiveShell\n",
    "InteractiveShell.ast_node_interactivity = \"all\""
   ]
  },
  {
   "cell_type": "markdown",
   "id": "6eb95e0c",
   "metadata": {},
   "source": [
    "### 2) Dataset preprocessing"
   ]
  },
  {
   "cell_type": "code",
   "execution_count": 2,
   "id": "e78bafe7",
   "metadata": {},
   "outputs": [],
   "source": [
    "df=pd.read_csv(\"water_potability.csv\")"
   ]
  },
  {
   "cell_type": "code",
   "execution_count": 3,
   "id": "6f792f00",
   "metadata": {},
   "outputs": [
    {
     "data": {
      "text/plain": [
       "(3276, 10)"
      ]
     },
     "execution_count": 3,
     "metadata": {},
     "output_type": "execute_result"
    }
   ],
   "source": [
    "df.shape"
   ]
  },
  {
   "cell_type": "code",
   "execution_count": 4,
   "id": "6b3f6e74",
   "metadata": {},
   "outputs": [
    {
     "data": {
      "text/html": [
       "<div>\n",
       "<style scoped>\n",
       "    .dataframe tbody tr th:only-of-type {\n",
       "        vertical-align: middle;\n",
       "    }\n",
       "\n",
       "    .dataframe tbody tr th {\n",
       "        vertical-align: top;\n",
       "    }\n",
       "\n",
       "    .dataframe thead th {\n",
       "        text-align: right;\n",
       "    }\n",
       "</style>\n",
       "<table border=\"1\" class=\"dataframe\">\n",
       "  <thead>\n",
       "    <tr style=\"text-align: right;\">\n",
       "      <th></th>\n",
       "      <th>ph</th>\n",
       "      <th>Hardness</th>\n",
       "      <th>Solids</th>\n",
       "      <th>Chloramines</th>\n",
       "      <th>Sulfate</th>\n",
       "      <th>Conductivity</th>\n",
       "      <th>Organic_carbon</th>\n",
       "      <th>Trihalomethanes</th>\n",
       "      <th>Turbidity</th>\n",
       "      <th>Potability</th>\n",
       "    </tr>\n",
       "  </thead>\n",
       "  <tbody>\n",
       "    <tr>\n",
       "      <th>count</th>\n",
       "      <td>2785.000000</td>\n",
       "      <td>3276.000000</td>\n",
       "      <td>3276.000000</td>\n",
       "      <td>3276.000000</td>\n",
       "      <td>2495.000000</td>\n",
       "      <td>3276.000000</td>\n",
       "      <td>3276.000000</td>\n",
       "      <td>3114.000000</td>\n",
       "      <td>3276.000000</td>\n",
       "      <td>3276.000000</td>\n",
       "    </tr>\n",
       "    <tr>\n",
       "      <th>mean</th>\n",
       "      <td>7.080795</td>\n",
       "      <td>196.369496</td>\n",
       "      <td>22014.092526</td>\n",
       "      <td>7.122277</td>\n",
       "      <td>333.775777</td>\n",
       "      <td>426.205111</td>\n",
       "      <td>14.284970</td>\n",
       "      <td>66.396293</td>\n",
       "      <td>3.966786</td>\n",
       "      <td>0.390110</td>\n",
       "    </tr>\n",
       "    <tr>\n",
       "      <th>std</th>\n",
       "      <td>1.594320</td>\n",
       "      <td>32.879761</td>\n",
       "      <td>8768.570828</td>\n",
       "      <td>1.583085</td>\n",
       "      <td>41.416840</td>\n",
       "      <td>80.824064</td>\n",
       "      <td>3.308162</td>\n",
       "      <td>16.175008</td>\n",
       "      <td>0.780382</td>\n",
       "      <td>0.487849</td>\n",
       "    </tr>\n",
       "    <tr>\n",
       "      <th>min</th>\n",
       "      <td>0.000000</td>\n",
       "      <td>47.432000</td>\n",
       "      <td>320.942611</td>\n",
       "      <td>0.352000</td>\n",
       "      <td>129.000000</td>\n",
       "      <td>181.483754</td>\n",
       "      <td>2.200000</td>\n",
       "      <td>0.738000</td>\n",
       "      <td>1.450000</td>\n",
       "      <td>0.000000</td>\n",
       "    </tr>\n",
       "    <tr>\n",
       "      <th>25%</th>\n",
       "      <td>6.093092</td>\n",
       "      <td>176.850538</td>\n",
       "      <td>15666.690297</td>\n",
       "      <td>6.127421</td>\n",
       "      <td>307.699498</td>\n",
       "      <td>365.734414</td>\n",
       "      <td>12.065801</td>\n",
       "      <td>55.844536</td>\n",
       "      <td>3.439711</td>\n",
       "      <td>0.000000</td>\n",
       "    </tr>\n",
       "    <tr>\n",
       "      <th>50%</th>\n",
       "      <td>7.036752</td>\n",
       "      <td>196.967627</td>\n",
       "      <td>20927.833607</td>\n",
       "      <td>7.130299</td>\n",
       "      <td>333.073546</td>\n",
       "      <td>421.884968</td>\n",
       "      <td>14.218338</td>\n",
       "      <td>66.622485</td>\n",
       "      <td>3.955028</td>\n",
       "      <td>0.000000</td>\n",
       "    </tr>\n",
       "    <tr>\n",
       "      <th>75%</th>\n",
       "      <td>8.062066</td>\n",
       "      <td>216.667456</td>\n",
       "      <td>27332.762127</td>\n",
       "      <td>8.114887</td>\n",
       "      <td>359.950170</td>\n",
       "      <td>481.792304</td>\n",
       "      <td>16.557652</td>\n",
       "      <td>77.337473</td>\n",
       "      <td>4.500320</td>\n",
       "      <td>1.000000</td>\n",
       "    </tr>\n",
       "    <tr>\n",
       "      <th>max</th>\n",
       "      <td>14.000000</td>\n",
       "      <td>323.124000</td>\n",
       "      <td>61227.196008</td>\n",
       "      <td>13.127000</td>\n",
       "      <td>481.030642</td>\n",
       "      <td>753.342620</td>\n",
       "      <td>28.300000</td>\n",
       "      <td>124.000000</td>\n",
       "      <td>6.739000</td>\n",
       "      <td>1.000000</td>\n",
       "    </tr>\n",
       "  </tbody>\n",
       "</table>\n",
       "</div>"
      ],
      "text/plain": [
       "                ph     Hardness        Solids  Chloramines      Sulfate  \\\n",
       "count  2785.000000  3276.000000   3276.000000  3276.000000  2495.000000   \n",
       "mean      7.080795   196.369496  22014.092526     7.122277   333.775777   \n",
       "std       1.594320    32.879761   8768.570828     1.583085    41.416840   \n",
       "min       0.000000    47.432000    320.942611     0.352000   129.000000   \n",
       "25%       6.093092   176.850538  15666.690297     6.127421   307.699498   \n",
       "50%       7.036752   196.967627  20927.833607     7.130299   333.073546   \n",
       "75%       8.062066   216.667456  27332.762127     8.114887   359.950170   \n",
       "max      14.000000   323.124000  61227.196008    13.127000   481.030642   \n",
       "\n",
       "       Conductivity  Organic_carbon  Trihalomethanes    Turbidity   Potability  \n",
       "count   3276.000000     3276.000000      3114.000000  3276.000000  3276.000000  \n",
       "mean     426.205111       14.284970        66.396293     3.966786     0.390110  \n",
       "std       80.824064        3.308162        16.175008     0.780382     0.487849  \n",
       "min      181.483754        2.200000         0.738000     1.450000     0.000000  \n",
       "25%      365.734414       12.065801        55.844536     3.439711     0.000000  \n",
       "50%      421.884968       14.218338        66.622485     3.955028     0.000000  \n",
       "75%      481.792304       16.557652        77.337473     4.500320     1.000000  \n",
       "max      753.342620       28.300000       124.000000     6.739000     1.000000  "
      ]
     },
     "execution_count": 4,
     "metadata": {},
     "output_type": "execute_result"
    }
   ],
   "source": [
    "df.describe()"
   ]
  },
  {
   "cell_type": "code",
   "execution_count": 5,
   "id": "682fde1b",
   "metadata": {},
   "outputs": [
    {
     "data": {
      "text/plain": [
       "ph                 491\n",
       "Hardness             0\n",
       "Solids               0\n",
       "Chloramines          0\n",
       "Sulfate            781\n",
       "Conductivity         0\n",
       "Organic_carbon       0\n",
       "Trihalomethanes    162\n",
       "Turbidity            0\n",
       "Potability           0\n",
       "dtype: int64"
      ]
     },
     "execution_count": 5,
     "metadata": {},
     "output_type": "execute_result"
    }
   ],
   "source": [
    "df.isnull().sum()"
   ]
  },
  {
   "cell_type": "code",
   "execution_count": 6,
   "id": "3ef77a35",
   "metadata": {},
   "outputs": [],
   "source": [
    "#We are filling the missing values using linear interpolation\n",
    "df=df.interpolate(method ='linear', limit_direction ='forward')"
   ]
  },
  {
   "cell_type": "code",
   "execution_count": 7,
   "id": "e853af9a",
   "metadata": {},
   "outputs": [
    {
     "data": {
      "text/plain": [
       "ph                 1\n",
       "Hardness           0\n",
       "Solids             0\n",
       "Chloramines        0\n",
       "Sulfate            0\n",
       "Conductivity       0\n",
       "Organic_carbon     0\n",
       "Trihalomethanes    0\n",
       "Turbidity          0\n",
       "Potability         0\n",
       "dtype: int64"
      ]
     },
     "execution_count": 7,
     "metadata": {},
     "output_type": "execute_result"
    }
   ],
   "source": [
    "df.isnull().sum()"
   ]
  },
  {
   "cell_type": "code",
   "execution_count": 8,
   "id": "ddb318c0",
   "metadata": {},
   "outputs": [],
   "source": [
    "df=df.dropna()\n",
    "df_copy=df.copy()"
   ]
  },
  {
   "cell_type": "code",
   "execution_count": 9,
   "id": "fd5f0b22",
   "metadata": {},
   "outputs": [
    {
     "data": {
      "text/plain": [
       "(3275, 10)"
      ]
     },
     "execution_count": 9,
     "metadata": {},
     "output_type": "execute_result"
    }
   ],
   "source": [
    "df.shape"
   ]
  },
  {
   "cell_type": "markdown",
   "id": "3f1337b3",
   "metadata": {},
   "source": [
    "### 3) Discretization of numerical data"
   ]
  },
  {
   "cell_type": "markdown",
   "id": "3659cbed",
   "metadata": {},
   "source": [
    "We are using PGMPY library for the creation of bayesian networks. Bayesian Networks dont support continuous data hence we need to make it as categorical. Discretization is the method of doing the above process.\n",
    "\n",
    "As a general standard we will check which numerical features need to be binned, the feature which has more than, 32 unique values should be binned."
   ]
  },
  {
   "cell_type": "code",
   "execution_count": 10,
   "id": "e9a267ca",
   "metadata": {},
   "outputs": [
    {
     "name": "stdout",
     "output_type": "stream",
     "text": [
      "ph  :  3275\n",
      "Hardness  :  3275\n",
      "Solids  :  3275\n",
      "Chloramines  :  3275\n",
      "Sulfate  :  3271\n",
      "Conductivity  :  3275\n",
      "Organic_carbon  :  3275\n",
      "Trihalomethanes  :  3275\n",
      "Turbidity  :  3275\n",
      "Potability  :  2\n"
     ]
    }
   ],
   "source": [
    "#Check the number of unique values of each column and if it is more than 32 adding to bin_list array\n",
    "bin_list=[]\n",
    "for col in df.columns:\n",
    "    print(col,\" : \",len(df[col].unique()))\n",
    "    if (len(df[col].unique())>32):\n",
    "        bin_list.append(col)"
   ]
  },
  {
   "cell_type": "markdown",
   "id": "f18d9a50",
   "metadata": {},
   "source": [
    "As you can see other the Potability every column is having more than 32 unique values hence we need to discretize these columns.\n",
    "\n",
    "\n",
    "We have prepared the list of features (bin_list) which we will bin using EqualFrequencyDiscretiser (it divides continuous numerical variables into intervals that contain approximately the same proportion of observations) from feature engine library. "
   ]
  },
  {
   "cell_type": "code",
   "execution_count": 11,
   "id": "ab2f4438",
   "metadata": {},
   "outputs": [],
   "source": [
    "#bin size = no of the bins\n",
    "bin_size=9\n",
    "disc = EqualFrequencyDiscretiser(q=bin_size, variables=bin_list)\n",
    "df_binned=disc.fit(df[bin_list])\n",
    "equalfrequency_discretizer_dict=disc.binner_dict_\n",
    "bin_df_equalfrequency=pd.DataFrame.from_dict(equalfrequency_discretizer_dict,orient='index')"
   ]
  },
  {
   "cell_type": "markdown",
   "id": "1656d5d3",
   "metadata": {},
   "source": [
    "We have chosen bin size considering the computational power of our local machines. It may affect the accuracy , but always the higher the better."
   ]
  },
  {
   "cell_type": "code",
   "execution_count": 12,
   "id": "0461f5ed",
   "metadata": {},
   "outputs": [
    {
     "data": {
      "text/html": [
       "<div>\n",
       "<style scoped>\n",
       "    .dataframe tbody tr th:only-of-type {\n",
       "        vertical-align: middle;\n",
       "    }\n",
       "\n",
       "    .dataframe tbody tr th {\n",
       "        vertical-align: top;\n",
       "    }\n",
       "\n",
       "    .dataframe thead th {\n",
       "        text-align: right;\n",
       "    }\n",
       "</style>\n",
       "<table border=\"1\" class=\"dataframe\">\n",
       "  <thead>\n",
       "    <tr style=\"text-align: right;\">\n",
       "      <th></th>\n",
       "      <th>0</th>\n",
       "      <th>1</th>\n",
       "      <th>2</th>\n",
       "      <th>3</th>\n",
       "      <th>4</th>\n",
       "      <th>5</th>\n",
       "      <th>6</th>\n",
       "      <th>7</th>\n",
       "      <th>8</th>\n",
       "      <th>9</th>\n",
       "    </tr>\n",
       "  </thead>\n",
       "  <tbody>\n",
       "    <tr>\n",
       "      <th>ph</th>\n",
       "      <td>-inf</td>\n",
       "      <td>5.296049</td>\n",
       "      <td>5.985891</td>\n",
       "      <td>6.450641</td>\n",
       "      <td>6.865175</td>\n",
       "      <td>7.261479</td>\n",
       "      <td>7.675307</td>\n",
       "      <td>8.141622</td>\n",
       "      <td>8.891968</td>\n",
       "      <td>inf</td>\n",
       "    </tr>\n",
       "    <tr>\n",
       "      <th>Hardness</th>\n",
       "      <td>-inf</td>\n",
       "      <td>156.946905</td>\n",
       "      <td>173.504515</td>\n",
       "      <td>184.230148</td>\n",
       "      <td>192.428866</td>\n",
       "      <td>200.645263</td>\n",
       "      <td>209.682915</td>\n",
       "      <td>219.699979</td>\n",
       "      <td>233.981224</td>\n",
       "      <td>inf</td>\n",
       "    </tr>\n",
       "    <tr>\n",
       "      <th>Solids</th>\n",
       "      <td>-inf</td>\n",
       "      <td>12136.794115</td>\n",
       "      <td>14992.240084</td>\n",
       "      <td>17445.874524</td>\n",
       "      <td>19860.024785</td>\n",
       "      <td>22207.481462</td>\n",
       "      <td>25026.358111</td>\n",
       "      <td>28207.928883</td>\n",
       "      <td>33054.252321</td>\n",
       "      <td>inf</td>\n",
       "    </tr>\n",
       "    <tr>\n",
       "      <th>Chloramines</th>\n",
       "      <td>-inf</td>\n",
       "      <td>5.270798</td>\n",
       "      <td>6.011492</td>\n",
       "      <td>6.476640</td>\n",
       "      <td>6.906943</td>\n",
       "      <td>7.331501</td>\n",
       "      <td>7.730364</td>\n",
       "      <td>8.261699</td>\n",
       "      <td>9.006877</td>\n",
       "      <td>inf</td>\n",
       "    </tr>\n",
       "    <tr>\n",
       "      <th>Sulfate</th>\n",
       "      <td>-inf</td>\n",
       "      <td>288.621461</td>\n",
       "      <td>306.545636</td>\n",
       "      <td>319.027371</td>\n",
       "      <td>328.361619</td>\n",
       "      <td>337.458158</td>\n",
       "      <td>348.391946</td>\n",
       "      <td>361.131756</td>\n",
       "      <td>379.630434</td>\n",
       "      <td>inf</td>\n",
       "    </tr>\n",
       "    <tr>\n",
       "      <th>Conductivity</th>\n",
       "      <td>-inf</td>\n",
       "      <td>328.382089</td>\n",
       "      <td>358.369364</td>\n",
       "      <td>385.477846</td>\n",
       "      <td>410.397538</td>\n",
       "      <td>434.050970</td>\n",
       "      <td>461.269990</td>\n",
       "      <td>489.866832</td>\n",
       "      <td>528.180756</td>\n",
       "      <td>inf</td>\n",
       "    </tr>\n",
       "    <tr>\n",
       "      <th>Organic_carbon</th>\n",
       "      <td>-inf</td>\n",
       "      <td>10.353134</td>\n",
       "      <td>11.792621</td>\n",
       "      <td>12.818967</td>\n",
       "      <td>13.805958</td>\n",
       "      <td>14.704217</td>\n",
       "      <td>15.696763</td>\n",
       "      <td>16.865047</td>\n",
       "      <td>18.339186</td>\n",
       "      <td>inf</td>\n",
       "    </tr>\n",
       "    <tr>\n",
       "      <th>Trihalomethanes</th>\n",
       "      <td>-inf</td>\n",
       "      <td>47.010763</td>\n",
       "      <td>54.567509</td>\n",
       "      <td>60.185527</td>\n",
       "      <td>64.372715</td>\n",
       "      <td>68.847135</td>\n",
       "      <td>73.258221</td>\n",
       "      <td>78.363454</td>\n",
       "      <td>85.339727</td>\n",
       "      <td>inf</td>\n",
       "    </tr>\n",
       "    <tr>\n",
       "      <th>Turbidity</th>\n",
       "      <td>-inf</td>\n",
       "      <td>3.000009</td>\n",
       "      <td>3.377246</td>\n",
       "      <td>3.640296</td>\n",
       "      <td>3.845160</td>\n",
       "      <td>4.081660</td>\n",
       "      <td>4.307225</td>\n",
       "      <td>4.575900</td>\n",
       "      <td>4.930449</td>\n",
       "      <td>inf</td>\n",
       "    </tr>\n",
       "  </tbody>\n",
       "</table>\n",
       "</div>"
      ],
      "text/plain": [
       "                   0             1             2             3             4  \\\n",
       "ph              -inf      5.296049      5.985891      6.450641      6.865175   \n",
       "Hardness        -inf    156.946905    173.504515    184.230148    192.428866   \n",
       "Solids          -inf  12136.794115  14992.240084  17445.874524  19860.024785   \n",
       "Chloramines     -inf      5.270798      6.011492      6.476640      6.906943   \n",
       "Sulfate         -inf    288.621461    306.545636    319.027371    328.361619   \n",
       "Conductivity    -inf    328.382089    358.369364    385.477846    410.397538   \n",
       "Organic_carbon  -inf     10.353134     11.792621     12.818967     13.805958   \n",
       "Trihalomethanes -inf     47.010763     54.567509     60.185527     64.372715   \n",
       "Turbidity       -inf      3.000009      3.377246      3.640296      3.845160   \n",
       "\n",
       "                            5             6             7             8    9  \n",
       "ph                   7.261479      7.675307      8.141622      8.891968  inf  \n",
       "Hardness           200.645263    209.682915    219.699979    233.981224  inf  \n",
       "Solids           22207.481462  25026.358111  28207.928883  33054.252321  inf  \n",
       "Chloramines          7.331501      7.730364      8.261699      9.006877  inf  \n",
       "Sulfate            337.458158    348.391946    361.131756    379.630434  inf  \n",
       "Conductivity       434.050970    461.269990    489.866832    528.180756  inf  \n",
       "Organic_carbon      14.704217     15.696763     16.865047     18.339186  inf  \n",
       "Trihalomethanes     68.847135     73.258221     78.363454     85.339727  inf  \n",
       "Turbidity            4.081660      4.307225      4.575900      4.930449  inf  "
      ]
     },
     "execution_count": 12,
     "metadata": {},
     "output_type": "execute_result"
    }
   ],
   "source": [
    "bin_df_equalfrequency"
   ]
  },
  {
   "cell_type": "code",
   "execution_count": 13,
   "id": "bade57ab",
   "metadata": {},
   "outputs": [
    {
     "data": {
      "text/html": [
       "<div>\n",
       "<style scoped>\n",
       "    .dataframe tbody tr th:only-of-type {\n",
       "        vertical-align: middle;\n",
       "    }\n",
       "\n",
       "    .dataframe tbody tr th {\n",
       "        vertical-align: top;\n",
       "    }\n",
       "\n",
       "    .dataframe thead th {\n",
       "        text-align: right;\n",
       "    }\n",
       "</style>\n",
       "<table border=\"1\" class=\"dataframe\">\n",
       "  <thead>\n",
       "    <tr style=\"text-align: right;\">\n",
       "      <th></th>\n",
       "      <th>ph</th>\n",
       "      <th>Hardness</th>\n",
       "      <th>Solids</th>\n",
       "      <th>Chloramines</th>\n",
       "      <th>Sulfate</th>\n",
       "      <th>Conductivity</th>\n",
       "      <th>Organic_carbon</th>\n",
       "      <th>Trihalomethanes</th>\n",
       "      <th>Turbidity</th>\n",
       "      <th>Potability</th>\n",
       "    </tr>\n",
       "  </thead>\n",
       "  <tbody>\n",
       "    <tr>\n",
       "      <th>1</th>\n",
       "      <td>3.716080</td>\n",
       "      <td>129.422921</td>\n",
       "      <td>18630.057858</td>\n",
       "      <td>6.635246</td>\n",
       "      <td>364.639673</td>\n",
       "      <td>592.885359</td>\n",
       "      <td>15.180013</td>\n",
       "      <td>56.329076</td>\n",
       "      <td>4.500656</td>\n",
       "      <td>0</td>\n",
       "    </tr>\n",
       "    <tr>\n",
       "      <th>2</th>\n",
       "      <td>8.099124</td>\n",
       "      <td>224.236259</td>\n",
       "      <td>19909.541732</td>\n",
       "      <td>9.275884</td>\n",
       "      <td>360.762904</td>\n",
       "      <td>418.606213</td>\n",
       "      <td>16.868637</td>\n",
       "      <td>66.420093</td>\n",
       "      <td>3.055934</td>\n",
       "      <td>0</td>\n",
       "    </tr>\n",
       "    <tr>\n",
       "      <th>3</th>\n",
       "      <td>8.316766</td>\n",
       "      <td>214.373394</td>\n",
       "      <td>22018.417441</td>\n",
       "      <td>8.059332</td>\n",
       "      <td>356.886136</td>\n",
       "      <td>363.266516</td>\n",
       "      <td>18.436524</td>\n",
       "      <td>100.341674</td>\n",
       "      <td>4.628771</td>\n",
       "      <td>0</td>\n",
       "    </tr>\n",
       "    <tr>\n",
       "      <th>4</th>\n",
       "      <td>9.092223</td>\n",
       "      <td>181.101509</td>\n",
       "      <td>17978.986339</td>\n",
       "      <td>6.546600</td>\n",
       "      <td>310.135738</td>\n",
       "      <td>398.410813</td>\n",
       "      <td>11.558279</td>\n",
       "      <td>31.997993</td>\n",
       "      <td>4.075075</td>\n",
       "      <td>0</td>\n",
       "    </tr>\n",
       "    <tr>\n",
       "      <th>5</th>\n",
       "      <td>5.584087</td>\n",
       "      <td>188.313324</td>\n",
       "      <td>28748.687739</td>\n",
       "      <td>7.544869</td>\n",
       "      <td>326.678363</td>\n",
       "      <td>280.467916</td>\n",
       "      <td>8.399735</td>\n",
       "      <td>54.917862</td>\n",
       "      <td>2.559708</td>\n",
       "      <td>0</td>\n",
       "    </tr>\n",
       "  </tbody>\n",
       "</table>\n",
       "</div>"
      ],
      "text/plain": [
       "         ph    Hardness        Solids  Chloramines     Sulfate  Conductivity  \\\n",
       "1  3.716080  129.422921  18630.057858     6.635246  364.639673    592.885359   \n",
       "2  8.099124  224.236259  19909.541732     9.275884  360.762904    418.606213   \n",
       "3  8.316766  214.373394  22018.417441     8.059332  356.886136    363.266516   \n",
       "4  9.092223  181.101509  17978.986339     6.546600  310.135738    398.410813   \n",
       "5  5.584087  188.313324  28748.687739     7.544869  326.678363    280.467916   \n",
       "\n",
       "   Organic_carbon  Trihalomethanes  Turbidity  Potability  \n",
       "1       15.180013        56.329076   4.500656           0  \n",
       "2       16.868637        66.420093   3.055934           0  \n",
       "3       18.436524       100.341674   4.628771           0  \n",
       "4       11.558279        31.997993   4.075075           0  \n",
       "5        8.399735        54.917862   2.559708           0  "
      ]
     },
     "execution_count": 13,
     "metadata": {},
     "output_type": "execute_result"
    }
   ],
   "source": [
    "df.head()"
   ]
  },
  {
   "cell_type": "markdown",
   "id": "f709aa10",
   "metadata": {},
   "source": [
    "The discretization is done , but to increase the meaning and easy querying of dataset we need to rename each value in each column corresponding to the range of bin it represents. The below code is for that "
   ]
  },
  {
   "cell_type": "code",
   "execution_count": 14,
   "id": "57ba23cf",
   "metadata": {},
   "outputs": [
    {
     "name": "stdout",
     "output_type": "stream",
     "text": [
      "ph : Min =  0.0  Max =  14.0\n",
      "\n",
      "['0.0 to 5.3', '5.3 to 5.99', '5.99 to 6.45', '6.45 to 6.87', '6.87 to 7.26', '7.26 to 7.68', '7.68 to 8.14', '8.14 to 8.89', '8.89 to 14.0']\n",
      "\n",
      "Hardness : Min =  47.43  Max =  323.12\n",
      "\n",
      "['47.43 to 156.95', '156.95 to 173.5', '173.5 to 184.23', '184.23 to 192.43', '192.43 to 200.65', '200.65 to 209.68', '209.68 to 219.7', '219.7 to 233.98', '233.98 to 323.12']\n",
      "\n",
      "Solids : Min =  320.94  Max =  61227.2\n",
      "\n",
      "['320.94 to 12136.79', '12136.79 to 14992.24', '14992.24 to 17445.87', '17445.87 to 19860.02', '19860.02 to 22207.48', '22207.48 to 25026.36', '25026.36 to 28207.93', '28207.93 to 33054.25', '33054.25 to 61227.2']\n",
      "\n",
      "Chloramines : Min =  0.35  Max =  13.13\n",
      "\n",
      "['0.35 to 5.27', '5.27 to 6.01', '6.01 to 6.48', '6.48 to 6.91', '6.91 to 7.33', '7.33 to 7.73', '7.73 to 8.26', '8.26 to 9.01', '9.01 to 13.13']\n",
      "\n",
      "Sulfate : Min =  129.0  Max =  481.03\n",
      "\n",
      "['129.0 to 288.62', '288.62 to 306.55', '306.55 to 319.03', '319.03 to 328.36', '328.36 to 337.46', '337.46 to 348.39', '348.39 to 361.13', '361.13 to 379.63', '379.63 to 481.03']\n",
      "\n",
      "Conductivity : Min =  181.48  Max =  753.34\n",
      "\n",
      "['181.48 to 328.38', '328.38 to 358.37', '358.37 to 385.48', '385.48 to 410.4', '410.4 to 434.05', '434.05 to 461.27', '461.27 to 489.87', '489.87 to 528.18', '528.18 to 753.34']\n",
      "\n",
      "Organic_carbon : Min =  2.2  Max =  28.3\n",
      "\n",
      "['2.2 to 10.35', '10.35 to 11.79', '11.79 to 12.82', '12.82 to 13.81', '13.81 to 14.7', '14.7 to 15.7', '15.7 to 16.87', '16.87 to 18.34', '18.34 to 28.3']\n",
      "\n",
      "Trihalomethanes : Min =  0.74  Max =  124.0\n",
      "\n",
      "['0.74 to 47.01', '47.01 to 54.57', '54.57 to 60.19', '60.19 to 64.37', '64.37 to 68.85', '68.85 to 73.26', '73.26 to 78.36', '78.36 to 85.34', '85.34 to 124.0']\n",
      "\n",
      "Turbidity : Min =  1.45  Max =  6.74\n",
      "\n",
      "['1.45 to 3.0', '3.0 to 3.38', '3.38 to 3.64', '3.64 to 3.85', '3.85 to 4.08', '4.08 to 4.31', '4.31 to 4.58', '4.58 to 4.93', '4.93 to 6.74']\n",
      "\n"
     ]
    }
   ],
   "source": [
    "j=0\n",
    "for col in bin_list:\n",
    "    print(col,\": Min = \",round(min(df[col].unique()),2),\" Max = \", round(max(df[col].unique()),2))\n",
    "    print()\n",
    "    f_ele=str(round(min(df[col].unique()),2))+\" to \"+str(round(bin_df_equalfrequency[1][col],2))\n",
    "    label=[]\n",
    "    label.append(f_ele)\n",
    "    for i in range(1,bin_size-1):\n",
    "        ele=str(round(bin_df_equalfrequency[i][bin_list[j]],2))+\" to \"+str(round(bin_df_equalfrequency[i+1][bin_list[j]],2))\n",
    "        label.append(ele)\n",
    "    l_ele=str(round(bin_df_equalfrequency[i+1][bin_list[j]],2))+\" to \"+str(round(max(df[col].unique()),2))\n",
    "    label.append(l_ele)\n",
    "    df[col] = pd.cut(df[col],bin_size, labels= label)\n",
    "    j+=1\n",
    "    print(label)\n",
    "    print()\n",
    "        "
   ]
  },
  {
   "cell_type": "code",
   "execution_count": 15,
   "id": "c8f62ecd",
   "metadata": {},
   "outputs": [
    {
     "data": {
      "text/html": [
       "<div>\n",
       "<style scoped>\n",
       "    .dataframe tbody tr th:only-of-type {\n",
       "        vertical-align: middle;\n",
       "    }\n",
       "\n",
       "    .dataframe tbody tr th {\n",
       "        vertical-align: top;\n",
       "    }\n",
       "\n",
       "    .dataframe thead th {\n",
       "        text-align: right;\n",
       "    }\n",
       "</style>\n",
       "<table border=\"1\" class=\"dataframe\">\n",
       "  <thead>\n",
       "    <tr style=\"text-align: right;\">\n",
       "      <th></th>\n",
       "      <th>ph</th>\n",
       "      <th>Hardness</th>\n",
       "      <th>Solids</th>\n",
       "      <th>Chloramines</th>\n",
       "      <th>Sulfate</th>\n",
       "      <th>Conductivity</th>\n",
       "      <th>Organic_carbon</th>\n",
       "      <th>Trihalomethanes</th>\n",
       "      <th>Turbidity</th>\n",
       "      <th>Potability</th>\n",
       "    </tr>\n",
       "  </thead>\n",
       "  <tbody>\n",
       "    <tr>\n",
       "      <th>1</th>\n",
       "      <td>5.99 to 6.45</td>\n",
       "      <td>173.5 to 184.23</td>\n",
       "      <td>14992.24 to 17445.87</td>\n",
       "      <td>6.91 to 7.33</td>\n",
       "      <td>348.39 to 361.13</td>\n",
       "      <td>461.27 to 489.87</td>\n",
       "      <td>13.81 to 14.7</td>\n",
       "      <td>64.37 to 68.85</td>\n",
       "      <td>4.08 to 4.31</td>\n",
       "      <td>0</td>\n",
       "    </tr>\n",
       "    <tr>\n",
       "      <th>2</th>\n",
       "      <td>7.26 to 7.68</td>\n",
       "      <td>200.65 to 209.68</td>\n",
       "      <td>14992.24 to 17445.87</td>\n",
       "      <td>7.73 to 8.26</td>\n",
       "      <td>337.46 to 348.39</td>\n",
       "      <td>385.48 to 410.4</td>\n",
       "      <td>14.7 to 15.7</td>\n",
       "      <td>64.37 to 68.85</td>\n",
       "      <td>3.38 to 3.64</td>\n",
       "      <td>0</td>\n",
       "    </tr>\n",
       "    <tr>\n",
       "      <th>3</th>\n",
       "      <td>7.26 to 7.68</td>\n",
       "      <td>200.65 to 209.68</td>\n",
       "      <td>17445.87 to 19860.02</td>\n",
       "      <td>7.33 to 7.73</td>\n",
       "      <td>337.46 to 348.39</td>\n",
       "      <td>358.37 to 385.48</td>\n",
       "      <td>14.7 to 15.7</td>\n",
       "      <td>78.36 to 85.34</td>\n",
       "      <td>4.08 to 4.31</td>\n",
       "      <td>0</td>\n",
       "    </tr>\n",
       "    <tr>\n",
       "      <th>4</th>\n",
       "      <td>7.26 to 7.68</td>\n",
       "      <td>192.43 to 200.65</td>\n",
       "      <td>14992.24 to 17445.87</td>\n",
       "      <td>6.91 to 7.33</td>\n",
       "      <td>328.36 to 337.46</td>\n",
       "      <td>385.48 to 410.4</td>\n",
       "      <td>12.82 to 13.81</td>\n",
       "      <td>54.57 to 60.19</td>\n",
       "      <td>3.85 to 4.08</td>\n",
       "      <td>0</td>\n",
       "    </tr>\n",
       "    <tr>\n",
       "      <th>5</th>\n",
       "      <td>6.45 to 6.87</td>\n",
       "      <td>192.43 to 200.65</td>\n",
       "      <td>19860.02 to 22207.48</td>\n",
       "      <td>7.33 to 7.73</td>\n",
       "      <td>337.46 to 348.39</td>\n",
       "      <td>328.38 to 358.37</td>\n",
       "      <td>11.79 to 12.82</td>\n",
       "      <td>60.19 to 64.37</td>\n",
       "      <td>3.0 to 3.38</td>\n",
       "      <td>0</td>\n",
       "    </tr>\n",
       "  </tbody>\n",
       "</table>\n",
       "</div>"
      ],
      "text/plain": [
       "             ph          Hardness                Solids   Chloramines  \\\n",
       "1  5.99 to 6.45   173.5 to 184.23  14992.24 to 17445.87  6.91 to 7.33   \n",
       "2  7.26 to 7.68  200.65 to 209.68  14992.24 to 17445.87  7.73 to 8.26   \n",
       "3  7.26 to 7.68  200.65 to 209.68  17445.87 to 19860.02  7.33 to 7.73   \n",
       "4  7.26 to 7.68  192.43 to 200.65  14992.24 to 17445.87  6.91 to 7.33   \n",
       "5  6.45 to 6.87  192.43 to 200.65  19860.02 to 22207.48  7.33 to 7.73   \n",
       "\n",
       "            Sulfate      Conductivity  Organic_carbon Trihalomethanes  \\\n",
       "1  348.39 to 361.13  461.27 to 489.87   13.81 to 14.7  64.37 to 68.85   \n",
       "2  337.46 to 348.39   385.48 to 410.4    14.7 to 15.7  64.37 to 68.85   \n",
       "3  337.46 to 348.39  358.37 to 385.48    14.7 to 15.7  78.36 to 85.34   \n",
       "4  328.36 to 337.46   385.48 to 410.4  12.82 to 13.81  54.57 to 60.19   \n",
       "5  337.46 to 348.39  328.38 to 358.37  11.79 to 12.82  60.19 to 64.37   \n",
       "\n",
       "      Turbidity  Potability  \n",
       "1  4.08 to 4.31           0  \n",
       "2  3.38 to 3.64           0  \n",
       "3  4.08 to 4.31           0  \n",
       "4  3.85 to 4.08           0  \n",
       "5   3.0 to 3.38           0  "
      ]
     },
     "execution_count": 15,
     "metadata": {},
     "output_type": "execute_result"
    }
   ],
   "source": [
    "df.head()"
   ]
  },
  {
   "cell_type": "code",
   "execution_count": 16,
   "id": "83aa71fc",
   "metadata": {},
   "outputs": [
    {
     "data": {
      "text/plain": [
       "(3275, 10)"
      ]
     },
     "execution_count": 16,
     "metadata": {},
     "output_type": "execute_result"
    },
    {
     "data": {
      "text/plain": [
       "(3200, 10)"
      ]
     },
     "execution_count": 16,
     "metadata": {},
     "output_type": "execute_result"
    },
    {
     "data": {
      "text/plain": [
       "(75, 9)"
      ]
     },
     "execution_count": 16,
     "metadata": {},
     "output_type": "execute_result"
    }
   ],
   "source": [
    "#df_train= pd.concat([df[:500],df[1411:]])\n",
    "df_train= df[:3200]\n",
    "df_test = df[3200:]\n",
    "df_test = df_test.iloc[: , :-1]\n",
    "df.shape\n",
    "df_train.shape\n",
    "df_test.shape"
   ]
  },
  {
   "cell_type": "markdown",
   "id": "d874a3ee",
   "metadata": {},
   "source": [
    "### 4) Parameter learning and Network structure"
   ]
  },
  {
   "cell_type": "markdown",
   "id": "a79f0f59",
   "metadata": {},
   "source": [
    "To understand construct the network we did a casestudy of the domain. After going through several research papers and published articles  we came at the below conclusions on each of the affecting factor\n",
    "\n",
    "1. pH value:\n",
    "PH is an important parameter in evaluating the acid–base balance of water. It is also the indicator of acidic or alkaline condition of water status. WHO has recommended maximum permissible limit of pH from 6.5 to 8.5. The current investigation ranges were 6.52–6.83 which are in the range of WHO standards.\n",
    "\n",
    "\n",
    "2. Hardness:\n",
    "Hardness is mainly caused by calcium and magnesium salts. These salts are dissolved from geologic deposits through which water travels. The length of time water is in contact with hardness producing material helps determine how much hardness there is in raw water. Hardness was originally defined as the capacity of water to precipitate soap caused by Calcium and Magnesium.\n",
    "\n",
    "\n",
    "3. Solids (Total dissolved solids - TDS):\n",
    "Water has the ability to dissolve a wide range of inorganic and some organic minerals or salts such as potassium, calcium, sodium, bicarbonates, chlorides, magnesium, sulfates etc. These minerals produced un-wanted taste and diluted color in appearance of water. This is the important parameter for the use of water. The water with high TDS value indicates that water is highly mineralized. Desirable limit for TDS is 500 mg/l and maximum limit is 1000 mg/l which prescribed for drinking purpose.\n",
    "\n",
    "\n",
    "4. Chloramines:\n",
    "Chlorine and chloramine are the major disinfectants used in public water systems. Chloramines are most commonly formed when ammonia is added to chlorine to treat drinking water. Chlorine levels up to 4 milligrams per liter (mg/L or 4 parts per million (ppm)) are considered safe in drinking water.\n",
    "\n",
    "\n",
    "5. Sulfate:\n",
    "Sulfates are naturally occurring substances that are found in minerals, soil, and rocks. They are present in ambient air, groundwater, plants, and food. The principal commercial use of sulfate is in the chemical industry. Sulfate concentration in seawater is about 2,700 milligrams per liter (mg/L). It ranges from 3 to 30 mg/L in most freshwater supplies, although much higher concentrations (1000 mg/L) are found in some geographic locations.\n",
    "\n",
    "\n",
    "6. Conductivity:\n",
    "Pure water is not a good conductor of electric current rather’s a good insulator. Increase in ions concentration enhances the electrical conductivity of water. Generally, the amount of dissolved solids in water determines the electrical conductivity. Electrical conductivity (EC) actually measures the ionic process of a solution that enables it to transmit current. According to WHO standards, EC value should not exceeded 400 μS/cm.\n",
    "\n",
    "\n",
    "7. Organic_carbon:\n",
    "Total Organic Carbon (TOC) in source waters comes from decaying natural organic matter (NOM) as well as synthetic sources. TOC is a measure of the total amount of carbon in organic compounds in pure water. According to US EPA < 2 mg/L as TOC in treated / drinking water, and < 4 mg/Lit in source water which is use for treatment.\n",
    "\n",
    "\n",
    "8. Trihalomethanes:\n",
    "THMs are chemicals which may be found in water treated with chlorine. The concentration of THMs in drinking water varies according to the level of organic material in the water, the amount of chlorine required to treat the water, and the temperature of the water that is being treated. THM levels up to 80 ppm is considered safe in drinking water.\n",
    "\n",
    "\n",
    "9. Turbidity:\n",
    "The turbidity of water depends on the quantity of solid matter present in the suspended state. It is a measure of light emitting properties of water and the test is used to indicate the quality of waste discharge with respect to colloidal matter. The mean turbidity value obtained for Wondo Genet Campus (0.98 NTU) is lower than the WHO recommended value of 5.00 NTU.\n",
    "\n",
    "\n",
    "10. Potability:\n",
    "Indicates if water is safe for human consumption where 1 means Potable and 0 means Not potable.\n",
    "\n",
    "\n"
   ]
  },
  {
   "cell_type": "markdown",
   "id": "755a6f12",
   "metadata": {},
   "source": [
    "From the above assumptions we came at the below connections between the factors\n",
    "\n",
    "1) Ph → potability\n",
    "\n",
    "2) Solids → hardness\n",
    "\n",
    "3) Solids → potability\n",
    "\n",
    "4) Chloramines → potability\n",
    "\n",
    "5) Sulphate→ Solids\n",
    "\n",
    "6) Solids → Conductivity\n",
    "\n",
    "7) Organic_carbon → Potability\n",
    "\n",
    "8) Organic_carbon → Chloramines\n"
   ]
  },
  {
   "cell_type": "code",
   "execution_count": 17,
   "id": "f55475b8",
   "metadata": {},
   "outputs": [
    {
     "data": {
      "text/plain": [
       "<Figure size 1080x720 with 0 Axes>"
      ]
     },
     "execution_count": 17,
     "metadata": {},
     "output_type": "execute_result"
    },
    {
     "data": {
      "image/png": "[encoded data removed]",
      "text/plain": [
       "<Figure size 1080x720 with 1 Axes>"
      ]
     },
     "metadata": {},
     "output_type": "display_data"
    }
   ],
   "source": [
    "edges_manual=list([('ph', 'Potability'), ('Sulfate', 'Solids'),('Solids','Hardness'),('Solids','Turbidity'),\n",
    "       ('Solids','Conductivity'),('Turbidity', 'Potability'),('Conductivity','Potability'),\n",
    "       ('Organic_carbon','Chloramines'),('Chloramines','Trihalomethanes'),('Chloramines','Potability'),\n",
    "      ('Trihalomethanes','Potability')])\n",
    "manual_model = BayesianModel(edges_manual)\n",
    "%matplotlib inline\n",
    "plt.figure(figsize=(15,10))\n",
    "nx.draw(manual_model, pos= nx.spring_layout(manual_model), with_labels=True, node_size=2000, node_color=\"orange\", width = 4, font_size = 20)\n",
    "plt.show()"
   ]
  },
  {
   "cell_type": "markdown",
   "id": "c5b9611f",
   "metadata": {},
   "source": [
    "This network structure was giving very low accuracy on our test set. Hence we had to go with tree generation algorithms.\n",
    "\n",
    "#### Different types of parameter learning and tree generation techniques\n",
    "\n",
    "1) Hill climb search\n",
    "\n",
    "2) Tree search\n",
    "\n",
    "3) Mmhc Estimator\n",
    "\n",
    "4) Exhaustive search"
   ]
  },
  {
   "cell_type": "markdown",
   "id": "e31d7c2c",
   "metadata": {},
   "source": [
    "We tried all of the algorithms and found that \"Tree Search algorithm\" with the estimator type \"tan\" is giving the maximum accuracy. Hence we are fixing that algorithm for our network structure generation "
   ]
  },
  {
   "cell_type": "code",
   "execution_count": 18,
   "id": "377684b9",
   "metadata": {},
   "outputs": [
    {
     "name": "stderr",
     "output_type": "stream",
     "text": [
      "Building tree: 100%|████████████████████████████████████████████████████████████████| 45/45.0 [00:00<00:00, 188.60it/s]\n"
     ]
    },
    {
     "data": {
      "image/png": "[encoded data removed]",
      "text/plain": [
       "<Figure size 432x288 with 1 Axes>"
      ]
     },
     "metadata": {},
     "output_type": "display_data"
    }
   ],
   "source": [
    "from pgmpy.estimators import TreeSearch\n",
    "\n",
    "\n",
    "est = TreeSearch(df_train)\n",
    "\n",
    "model = est.estimate(estimator_type='tan')\n",
    "\n",
    "nx.draw_circular(model, with_labels=True, arrowsize=20,node_color=\"orange\",\n",
    "\n",
    "                 alpha=1)\n",
    "\n",
    "plt.show()"
   ]
  },
  {
   "cell_type": "code",
   "execution_count": 19,
   "id": "e7252fc1",
   "metadata": {},
   "outputs": [
    {
     "data": {
      "text/plain": [
       "[('Sulfate', 'Solids'),\n",
       " ('Sulfate', 'Chloramines'),\n",
       " ('Sulfate', 'Potability'),\n",
       " ('Sulfate', 'Organic_carbon'),\n",
       " ('Solids', 'ph'),\n",
       " ('Solids', 'Conductivity'),\n",
       " ('Organic_carbon', 'Trihalomethanes'),\n",
       " ('Trihalomethanes', 'Turbidity'),\n",
       " ('Hardness', 'ph'),\n",
       " ('Hardness', 'Solids'),\n",
       " ('Hardness', 'Chloramines'),\n",
       " ('Hardness', 'Sulfate'),\n",
       " ('Hardness', 'Conductivity'),\n",
       " ('Hardness', 'Organic_carbon'),\n",
       " ('Hardness', 'Trihalomethanes'),\n",
       " ('Hardness', 'Turbidity'),\n",
       " ('Hardness', 'Potability')]"
      ]
     },
     "execution_count": 19,
     "metadata": {},
     "output_type": "execute_result"
    }
   ],
   "source": [
    "#printing the edges according to the generated model\n",
    "edges=list(model.edges())\n",
    "edges"
   ]
  },
  {
   "cell_type": "markdown",
   "id": "75e18890",
   "metadata": {},
   "source": [
    "### 5) Model fitting and Generating Inferences"
   ]
  },
  {
   "cell_type": "code",
   "execution_count": 20,
   "id": "dd120531",
   "metadata": {},
   "outputs": [],
   "source": [
    "bayesian_model = BayesianModel(edges_manual)"
   ]
  },
  {
   "cell_type": "code",
   "execution_count": 21,
   "id": "5820948a",
   "metadata": {},
   "outputs": [],
   "source": [
    "# Fitting the data to the model using Maximum Likelihood Estimator\n",
    "bayesian_model.fit(df_train, estimator=MaximumLikelihoodEstimator)"
   ]
  },
  {
   "cell_type": "code",
   "execution_count": 22,
   "id": "e727e0a3",
   "metadata": {},
   "outputs": [],
   "source": [
    "#Defining the target varaible\n",
    "target = 'Potability'"
   ]
  },
  {
   "cell_type": "code",
   "execution_count": 23,
   "id": "74b33a1b",
   "metadata": {},
   "outputs": [
    {
     "data": {
      "text/plain": [
       "['Sulfate', 'Hardness']"
      ]
     },
     "execution_count": 23,
     "metadata": {},
     "output_type": "execute_result"
    }
   ],
   "source": [
    "#Acc to our model and tree the parents of the target variable are\n",
    "model.get_parents(target)"
   ]
  },
  {
   "cell_type": "code",
   "execution_count": 24,
   "id": "1793a3a4",
   "metadata": {},
   "outputs": [],
   "source": [
    "# Doing exact inference using Variable Elimination\n",
    "infer = VariableElimination(bayesian_model)"
   ]
  },
  {
   "cell_type": "markdown",
   "id": "74d7b716",
   "metadata": {},
   "source": [
    "#### Joint Distribution and sulphate and potability"
   ]
  },
  {
   "cell_type": "code",
   "execution_count": 25,
   "id": "7df17c01",
   "metadata": {},
   "outputs": [
    {
     "name": "stderr",
     "output_type": "stream",
     "text": [
      "Finding Elimination Order: : 100%|███████████████████████████████████████████████████████████████| 7/7 [00:00<?, ?it/s]\n",
      "Eliminating: Conductivity: 100%|█████████████████████████████████████████████████████████| 7/7 [00:03<00:00,  1.79it/s]"
     ]
    },
    {
     "name": "stdout",
     "output_type": "stream",
     "text": [
      "+---------------------------+---------------+---------------------------+\n",
      "| Sulfate                   | Potability    |   phi(Sulfate,Potability) |\n",
      "+===========================+===============+===========================+\n",
      "| Sulfate(129.0 to 288.62)  | Potability(0) |                    0.0002 |\n",
      "+---------------------------+---------------+---------------------------+\n",
      "| Sulfate(129.0 to 288.62)  | Potability(1) |                    0.0001 |\n",
      "+---------------------------+---------------+---------------------------+\n",
      "| Sulfate(288.62 to 306.55) | Potability(0) |                    0.0015 |\n",
      "+---------------------------+---------------+---------------------------+\n",
      "| Sulfate(288.62 to 306.55) | Potability(1) |                    0.0010 |\n",
      "+---------------------------+---------------+---------------------------+\n",
      "| Sulfate(306.55 to 319.03) | Potability(0) |                    0.0079 |\n",
      "+---------------------------+---------------+---------------------------+\n",
      "| Sulfate(306.55 to 319.03) | Potability(1) |                    0.0055 |\n",
      "+---------------------------+---------------+---------------------------+\n",
      "| Sulfate(319.03 to 328.36) | Potability(0) |                    0.0481 |\n",
      "+---------------------------+---------------+---------------------------+\n",
      "| Sulfate(319.03 to 328.36) | Potability(1) |                    0.0338 |\n",
      "+---------------------------+---------------+---------------------------+\n",
      "| Sulfate(328.36 to 337.46) | Potability(0) |                    0.1787 |\n",
      "+---------------------------+---------------+---------------------------+\n",
      "| Sulfate(328.36 to 337.46) | Potability(1) |                    0.1253 |\n",
      "+---------------------------+---------------+---------------------------+\n",
      "| Sulfate(337.46 to 348.39) | Potability(0) |                    0.2292 |\n",
      "+---------------------------+---------------+---------------------------+\n",
      "| Sulfate(337.46 to 348.39) | Potability(1) |                    0.1608 |\n",
      "+---------------------------+---------------+---------------------------+\n",
      "| Sulfate(348.39 to 361.13) | Potability(0) |                    0.0962 |\n",
      "+---------------------------+---------------+---------------------------+\n",
      "| Sulfate(348.39 to 361.13) | Potability(1) |                    0.0675 |\n",
      "+---------------------------+---------------+---------------------------+\n",
      "| Sulfate(361.13 to 379.63) | Potability(0) |                    0.0229 |\n",
      "+---------------------------+---------------+---------------------------+\n",
      "| Sulfate(361.13 to 379.63) | Potability(1) |                    0.0161 |\n",
      "+---------------------------+---------------+---------------------------+\n",
      "| Sulfate(379.63 to 481.03) | Potability(0) |                    0.0029 |\n",
      "+---------------------------+---------------+---------------------------+\n",
      "| Sulfate(379.63 to 481.03) | Potability(1) |                    0.0021 |\n",
      "+---------------------------+---------------+---------------------------+\n"
     ]
    },
    {
     "name": "stderr",
     "output_type": "stream",
     "text": [
      "\n"
     ]
    }
   ],
   "source": [
    "print(infer.query(variables=[target, 'Sulfate'], joint= True))"
   ]
  },
  {
   "cell_type": "code",
   "execution_count": 26,
   "id": "e2f68f12",
   "metadata": {},
   "outputs": [
    {
     "data": {
      "text/plain": [
       "[<TabularCPD representing P(ph:9) at 0x17cb2dfe340>,\n",
       " <TabularCPD representing P(Potability:2 | Chloramines:9, Conductivity:9, Trihalomethanes:9, Turbidity:9, ph:9) at 0x17cb2d7d5b0>,\n",
       " <TabularCPD representing P(Sulfate:9) at 0x17cb2dfe3a0>,\n",
       " <TabularCPD representing P(Solids:9 | Sulfate:9) at 0x17cb2e109a0>,\n",
       " <TabularCPD representing P(Hardness:9 | Solids:9) at 0x17cb2e22250>,\n",
       " <TabularCPD representing P(Turbidity:9 | Solids:9) at 0x17cb2e10580>,\n",
       " <TabularCPD representing P(Conductivity:9 | Solids:9) at 0x17cb2d7d1f0>,\n",
       " <TabularCPD representing P(Organic_carbon:9) at 0x17cb2e0aaf0>,\n",
       " <TabularCPD representing P(Chloramines:9 | Organic_carbon:9) at 0x17cb2e10790>,\n",
       " <TabularCPD representing P(Trihalomethanes:9 | Chloramines:9) at 0x17cb2e10a30>]"
      ]
     },
     "execution_count": 26,
     "metadata": {},
     "output_type": "execute_result"
    }
   ],
   "source": [
    "bayesian_model.get_cpds()"
   ]
  },
  {
   "cell_type": "code",
   "execution_count": 27,
   "id": "dc50c8ad",
   "metadata": {},
   "outputs": [],
   "source": [
    "#Code for printing the cpd \n",
    "#print(bayesian_model.get_cpds(\"Potability\"))"
   ]
  },
  {
   "cell_type": "markdown",
   "id": "75130fb9",
   "metadata": {},
   "source": [
    "#### Local Independencies"
   ]
  },
  {
   "cell_type": "code",
   "execution_count": 28,
   "id": "d78d1d25",
   "metadata": {},
   "outputs": [
    {
     "data": {
      "text/plain": [
       "(ph ⟂ Trihalomethanes, Turbidity, Potability, Organic_carbon, Sulfate, Chloramines, Conductivity | Solids, Hardness)\n",
       "(Solids ⟂ Trihalomethanes, Potability, Organic_carbon, Chloramines, Turbidity | Sulfate, Hardness)\n",
       "(Chloramines ⟂ Turbidity, Solids, Potability, Organic_carbon, Trihalomethanes, ph, Conductivity | Sulfate, Hardness)\n",
       "(Conductivity ⟂ Trihalomethanes, Turbidity, Potability, Organic_carbon, Sulfate, Chloramines, ph | Solids, Hardness)\n",
       "(Organic_carbon ⟂ Solids, Potability, Conductivity, Chloramines, ph | Sulfate, Hardness)\n",
       "(Trihalomethanes ⟂ Solids, Potability, Conductivity, Sulfate, Chloramines, ph | Organic_carbon, Hardness)\n",
       "(Turbidity ⟂ Solids, Potability, Organic_carbon, Sulfate, Chloramines, ph, Conductivity | Trihalomethanes, Hardness)\n",
       "(Potability ⟂ Turbidity, Solids, Organic_carbon, Chloramines, Trihalomethanes, ph, Conductivity | Sulfate, Hardness)"
      ]
     },
     "execution_count": 28,
     "metadata": {},
     "output_type": "execute_result"
    }
   ],
   "source": [
    "model.local_independencies(list(df.columns))"
   ]
  },
  {
   "cell_type": "markdown",
   "id": "81b76283",
   "metadata": {},
   "source": [
    "### 6) Assignment Question 1\n",
    "\n",
    "\n",
    "1. Construct a Bayesian Belief Network for the given data. [30% weightage]"
   ]
  },
  {
   "cell_type": "code",
   "execution_count": 29,
   "id": "7ddfb346",
   "metadata": {},
   "outputs": [
    {
     "data": {
      "text/plain": [
       "<Figure size 1080x720 with 0 Axes>"
      ]
     },
     "execution_count": 29,
     "metadata": {},
     "output_type": "execute_result"
    },
    {
     "data": {
      "image/png": "[encoded data removed]",
      "text/plain": [
       "<Figure size 1080x720 with 1 Axes>"
      ]
     },
     "metadata": {},
     "output_type": "display_data"
    }
   ],
   "source": [
    "#Kindly refer to the steps and the process of creation of this network defined earlier\n",
    "\n",
    "%matplotlib inline\n",
    "plt.figure(figsize=(15,10))\n",
    "nx.draw(model, pos= nx.spring_layout(model), with_labels=True, node_size=2000, node_color=\"orange\", width = 4, font_size = 20)\n",
    "plt.show()"
   ]
  },
  {
   "attachments": {
    "image.png": {
     "image/png": "[encoded data removed]"
    }
   },
   "cell_type": "markdown",
   "id": "c4d6d702",
   "metadata": {},
   "source": [
    "### 7) Assignment -- Question no 2:\n",
    "\n",
    "Predict the water quality for the following data: [10%weightage]\n",
    "\n",
    "![image.png](attachment:image.png)"
   ]
  },
  {
   "cell_type": "markdown",
   "id": "5753c486",
   "metadata": {},
   "source": [
    "Here as we have discretized the data: hence we need to find the ranges the above variables belongs to . The below function is for that purpose\n"
   ]
  },
  {
   "cell_type": "code",
   "execution_count": 30,
   "id": "21311a1b",
   "metadata": {},
   "outputs": [],
   "source": [
    "to_fetch=bin_df_equalfrequency.T"
   ]
  },
  {
   "cell_type": "code",
   "execution_count": 31,
   "id": "ea11980b",
   "metadata": {},
   "outputs": [],
   "source": [
    "def variable(col,value):\n",
    "    if (to_fetch[col][1]>value):\n",
    "        return(str(round(min(df_copy[col].unique()),2))+\" to \"+str(round(bin_df_equalfrequency[1][col],2)))\n",
    "    for i in range(2,len(to_fetch)-1):\n",
    "        if (to_fetch[col][i])>value:\n",
    "            return(str(round(bin_df_equalfrequency[i-1][col],2))+\" to \"+str(round(bin_df_equalfrequency[i][col],2)))\n",
    "    else:\n",
    "        return(str(round(bin_df_equalfrequency[i][col],2))+\" to \"+str(round(max(df_copy[col].unique()),2)))"
   ]
  },
  {
   "cell_type": "code",
   "execution_count": 32,
   "id": "8b20a993",
   "metadata": {},
   "outputs": [],
   "source": [
    "ph=variable(\"ph\",3.72)\n",
    "hardness=variable(\"Hardness\",204.89) \n",
    "solids=variable(\"Solids\",20791.32)\n",
    "chloramines=variable(\"Chloramines\",7.3) \n",
    "sulfate=variable(\"Sulfate\",368.5) \n",
    "conductivity=variable(\"Conductivity\",564.30)\n",
    "turbidity=variable(\"Turbidity\",2.96) "
   ]
  },
  {
   "cell_type": "code",
   "execution_count": 33,
   "id": "25a717ed",
   "metadata": {},
   "outputs": [
    {
     "name": "stderr",
     "output_type": "stream",
     "text": [
      "Finding Elimination Order: : 100%|███████████████████████████████████████████████████████████████| 1/1 [00:00<?, ?it/s]\n",
      "Eliminating: Trihalomethanes: 100%|██████████████████████████████████████████████████████████████| 1/1 [00:00<?, ?it/s]"
     ]
    },
    {
     "name": "stdout",
     "output_type": "stream",
     "text": [
      "+---------------+-------------------+\n",
      "| Potability    |   phi(Potability) |\n",
      "+===============+===================+\n",
      "| Potability(0) |            0.5000 |\n",
      "+---------------+-------------------+\n",
      "| Potability(1) |            0.5000 |\n",
      "+---------------+-------------------+\n"
     ]
    },
    {
     "name": "stderr",
     "output_type": "stream",
     "text": [
      "\n"
     ]
    }
   ],
   "source": [
    "#predicting the water quality for the following data\n",
    "print(infer.query(variables=[target],evidence={\"ph\":ph,\"Hardness\":hardness,\"Solids\":solids,\"Chloramines\":chloramines,\n",
    "                                               \"Sulfate\":sulfate,\"Conductivity\":conductivity,\"Turbidity\":turbidity},show_progress=True))"
   ]
  },
  {
   "cell_type": "code",
   "execution_count": 34,
   "id": "f59bcbb8",
   "metadata": {},
   "outputs": [
    {
     "name": "stderr",
     "output_type": "stream",
     "text": [
      "Finding Elimination Order: : 100%|███████████████████████████████████████████████████████| 1/1 [00:00<00:00, 64.01it/s]\n",
      "Eliminating: Trihalomethanes: 100%|██████████████████████████████████████████████████████| 1/1 [00:00<00:00, 64.02it/s]"
     ]
    },
    {
     "name": "stdout",
     "output_type": "stream",
     "text": [
      "{'Potability': 0}\n"
     ]
    },
    {
     "name": "stderr",
     "output_type": "stream",
     "text": [
      "\n"
     ]
    }
   ],
   "source": [
    "#predicting the water quality for the following data\n",
    "print(infer.map_query(variables=[target],evidence={\"ph\":ph,\"Hardness\":hardness,\"Solids\":solids,\"Chloramines\":chloramines,\n",
    "                                               \"Sulfate\":sulfate,\"Conductivity\":conductivity,\"Turbidity\":turbidity}))"
   ]
  },
  {
   "attachments": {
    "image.png": {
     "image/png": "[encoded data removed]"
    }
   },
   "cell_type": "markdown",
   "id": "a058d1f8",
   "metadata": {},
   "source": [
    "### 8)Assignment -- Question no 3\n",
    "\n",
    "Infer the probability for the data with the following properties: [10%weightage]\n",
    "\n",
    "![image.png](attachment:image.png)"
   ]
  },
  {
   "cell_type": "code",
   "execution_count": 35,
   "id": "574074e3",
   "metadata": {},
   "outputs": [],
   "source": [
    "ph=variable(\"ph\",10)\n",
    "hardness=variable(\"Hardness\",248) \n",
    "solids=variable(\"Solids\",28749)\n",
    "chloramines=variable(\"Chloramines\",7.5) \n",
    "sulfate=variable(\"Sulfate\",393) \n",
    "conductivity=variable(\"Conductivity\",283)\n",
    "turbidity=variable(\"Turbidity\",2.67)\n",
    "org_carbon=variable(\"Organic_carbon\",13.78)\n",
    "trihalo=variable(\"Trihalomethanes\",84.6)\n",
    "pot=1"
   ]
  },
  {
   "attachments": {
    "image.png": {
     "image/png": "[encoded data removed]"
    }
   },
   "cell_type": "markdown",
   "id": "31d9666f",
   "metadata": {},
   "source": [
    "we are asked to find the probability of occuring the above conditions. This can be done using chain rule \n",
    "\n",
    "![image.png](attachment:image.png)"
   ]
  },
  {
   "cell_type": "markdown",
   "id": "42ebcead",
   "metadata": {},
   "source": [
    "Acc: to chain rule \n",
    "\n",
    "P(ph,har,sol,chl,sul,con,tur,org,tri,pot)=  P(pot|tri,org,tur,con,sul,chl,sol,har,ph)* P(tri|org,tur,con,sul,chl,sol,har,ph)* P(org|tur,con,sul,chl,sol,har,ph) * P(tur|con,sul,chl,sol,har,ph) * P(con|sul,chl,sol,har,ph) * P(sul|chl,sol,har,ph) * P(chl|sol,har,ph) * P(sol|har,ph) * P(har|ph) * P(ph)"
   ]
  },
  {
   "cell_type": "markdown",
   "id": "ea0682ae",
   "metadata": {},
   "source": [
    "Then we need to find each of these values using infer method of variable elimination"
   ]
  },
  {
   "cell_type": "markdown",
   "id": "5441b409",
   "metadata": {},
   "source": [
    "#### P(pot|tri,org,tur,con,sul,chl,sol,har,ph)"
   ]
  },
  {
   "cell_type": "code",
   "execution_count": 36,
   "id": "c2525ade",
   "metadata": {},
   "outputs": [
    {
     "name": "stderr",
     "output_type": "stream",
     "text": [
      "Finding Elimination Order: : : 0it [00:00, ?it/s]\n",
      "0it [00:00, ?it/s]"
     ]
    },
    {
     "name": "stdout",
     "output_type": "stream",
     "text": [
      "+---------------+-------------------+\n",
      "| Potability    |   phi(Potability) |\n",
      "+===============+===================+\n",
      "| Potability(0) |            0.5000 |\n",
      "+---------------+-------------------+\n",
      "| Potability(1) |            0.5000 |\n",
      "+---------------+-------------------+\n"
     ]
    },
    {
     "name": "stderr",
     "output_type": "stream",
     "text": [
      "\n"
     ]
    }
   ],
   "source": [
    "print(infer.query(variables=[\"Potability\"],evidence={\"Trihalomethanes\":trihalo,\"Organic_carbon\":org_carbon,\"Turbidity\":turbidity,\n",
    "                                                     \"Conductivity\":conductivity,\"Sulfate\":sulfate,\"Chloramines\":chloramines,\n",
    "                                                     \"Solids\":solids,\"Hardness\":hardness,\"ph\":ph},show_progress=True\n",
    "                                                     ))"
   ]
  },
  {
   "cell_type": "markdown",
   "id": "91c24cfc",
   "metadata": {},
   "source": [
    "Here we need is potability =1 \n",
    "P(pot|tri,org,tur,con,sul,chl,sol,har,ph) = 0.5"
   ]
  },
  {
   "cell_type": "markdown",
   "id": "28931ca3",
   "metadata": {},
   "source": [
    "#### P(tri|org,tur,con,sul,chl,sol,har,ph)"
   ]
  },
  {
   "cell_type": "code",
   "execution_count": 37,
   "id": "67794e40",
   "metadata": {},
   "outputs": [
    {
     "name": "stderr",
     "output_type": "stream",
     "text": [
      "Finding Elimination Order: : : 0it [00:00, ?it/s]\n",
      "0it [00:00, ?it/s]"
     ]
    },
    {
     "name": "stdout",
     "output_type": "stream",
     "text": [
      "+---------------------------------+------------------------+\n",
      "| Trihalomethanes                 |   phi(Trihalomethanes) |\n",
      "+=================================+========================+\n",
      "| Trihalomethanes(0.74 to 47.01)  |                 0.0011 |\n",
      "+---------------------------------+------------------------+\n",
      "| Trihalomethanes(47.01 to 54.57) |                 0.0066 |\n",
      "+---------------------------------+------------------------+\n",
      "| Trihalomethanes(54.57 to 60.19) |                 0.0617 |\n",
      "+---------------------------------+------------------------+\n",
      "| Trihalomethanes(60.19 to 64.37) |                 0.1718 |\n",
      "+---------------------------------+------------------------+\n",
      "| Trihalomethanes(64.37 to 68.85) |                 0.3271 |\n",
      "+---------------------------------+------------------------+\n",
      "| Trihalomethanes(68.85 to 73.26) |                 0.2819 |\n",
      "+---------------------------------+------------------------+\n",
      "| Trihalomethanes(73.26 to 78.36) |                 0.1178 |\n",
      "+---------------------------------+------------------------+\n",
      "| Trihalomethanes(78.36 to 85.34) |                 0.0275 |\n",
      "+---------------------------------+------------------------+\n",
      "| Trihalomethanes(85.34 to 124.0) |                 0.0044 |\n",
      "+---------------------------------+------------------------+\n"
     ]
    },
    {
     "name": "stderr",
     "output_type": "stream",
     "text": [
      "\n"
     ]
    }
   ],
   "source": [
    "print(infer.query(variables=[\"Trihalomethanes\"],evidence={\"Organic_carbon\":org_carbon,\"Turbidity\":turbidity,\n",
    "                                                     \"Conductivity\":conductivity,\"Sulfate\":sulfate,\"Chloramines\":chloramines,\n",
    "                                                     \"Solids\":solids,\"Hardness\":hardness,\"ph\":ph},show_progress=True\n",
    "                                                     ))"
   ]
  },
  {
   "cell_type": "markdown",
   "id": "f79bafb6",
   "metadata": {},
   "source": [
    "#### P(org|tur,con,sul,chl,sol,har,ph)"
   ]
  },
  {
   "cell_type": "code",
   "execution_count": 38,
   "id": "59429ce2",
   "metadata": {},
   "outputs": [
    {
     "name": "stderr",
     "output_type": "stream",
     "text": [
      "Finding Elimination Order: : : 0it [00:00, ?it/s]\n",
      "0it [00:00, ?it/s]"
     ]
    },
    {
     "name": "stdout",
     "output_type": "stream",
     "text": [
      "+--------------------------------+-----------------------+\n",
      "| Organic_carbon                 |   phi(Organic_carbon) |\n",
      "+================================+=======================+\n",
      "| Organic_carbon(10.35 to 11.79) |                0.0253 |\n",
      "+--------------------------------+-----------------------+\n",
      "| Organic_carbon(11.79 to 12.82) |                0.1244 |\n",
      "+--------------------------------+-----------------------+\n",
      "| Organic_carbon(12.82 to 13.81) |                0.2687 |\n",
      "+--------------------------------+-----------------------+\n",
      "| Organic_carbon(13.81 to 14.7)  |                0.3238 |\n",
      "+--------------------------------+-----------------------+\n",
      "| Organic_carbon(14.7 to 15.7)   |                0.1982 |\n",
      "+--------------------------------+-----------------------+\n",
      "| Organic_carbon(15.7 to 16.87)  |                0.0507 |\n",
      "+--------------------------------+-----------------------+\n",
      "| Organic_carbon(16.87 to 18.34) |                0.0044 |\n",
      "+--------------------------------+-----------------------+\n",
      "| Organic_carbon(18.34 to 28.3)  |                0.0000 |\n",
      "+--------------------------------+-----------------------+\n",
      "| Organic_carbon(2.2 to 10.35)   |                0.0044 |\n",
      "+--------------------------------+-----------------------+\n"
     ]
    },
    {
     "name": "stderr",
     "output_type": "stream",
     "text": [
      "\n"
     ]
    }
   ],
   "source": [
    "print(infer.query(variables=[\"Organic_carbon\"],evidence={\"Turbidity\":turbidity,\n",
    "                                                     \"Conductivity\":conductivity,\"Sulfate\":sulfate,\"Chloramines\":chloramines,\n",
    "                                                     \"Solids\":solids,\"Hardness\":hardness,\"ph\":ph},show_progress=True\n",
    "                                                     ))"
   ]
  },
  {
   "cell_type": "markdown",
   "id": "929fa20e",
   "metadata": {},
   "source": [
    "####  P(tur|con,sul,chl,sol,har,ph)"
   ]
  },
  {
   "cell_type": "code",
   "execution_count": 39,
   "id": "494da0d9",
   "metadata": {},
   "outputs": [
    {
     "name": "stderr",
     "output_type": "stream",
     "text": [
      "Finding Elimination Order: : : 0it [00:00, ?it/s]\n",
      "0it [00:00, ?it/s]"
     ]
    },
    {
     "name": "stdout",
     "output_type": "stream",
     "text": [
      "+-------------------------+------------------+\n",
      "| Turbidity               |   phi(Turbidity) |\n",
      "+=========================+==================+\n",
      "| Turbidity(1.45 to 3.0)  |           0.0588 |\n",
      "+-------------------------+------------------+\n",
      "| Turbidity(3.0 to 3.38)  |           0.0588 |\n",
      "+-------------------------+------------------+\n",
      "| Turbidity(3.38 to 3.64) |           0.1176 |\n",
      "+-------------------------+------------------+\n",
      "| Turbidity(3.64 to 3.85) |           0.2353 |\n",
      "+-------------------------+------------------+\n",
      "| Turbidity(3.85 to 4.08) |           0.1765 |\n",
      "+-------------------------+------------------+\n",
      "| Turbidity(4.08 to 4.31) |           0.2353 |\n",
      "+-------------------------+------------------+\n",
      "| Turbidity(4.31 to 4.58) |           0.1176 |\n",
      "+-------------------------+------------------+\n",
      "| Turbidity(4.58 to 4.93) |           0.0000 |\n",
      "+-------------------------+------------------+\n",
      "| Turbidity(4.93 to 6.74) |           0.0000 |\n",
      "+-------------------------+------------------+\n"
     ]
    },
    {
     "name": "stderr",
     "output_type": "stream",
     "text": [
      "\n"
     ]
    }
   ],
   "source": [
    "print(infer.query(variables=[\"Turbidity\"],evidence={\"Conductivity\":conductivity,\"Sulfate\":sulfate,\"Chloramines\":chloramines,\n",
    "                                                     \"Solids\":solids,\"Hardness\":hardness,\"ph\":ph},show_progress=True\n",
    "                                                     ))"
   ]
  },
  {
   "cell_type": "markdown",
   "id": "954a5a12",
   "metadata": {},
   "source": [
    "#### P(con|sul,chl,sol,har,ph)"
   ]
  },
  {
   "cell_type": "code",
   "execution_count": 40,
   "id": "4984eae9",
   "metadata": {},
   "outputs": [
    {
     "name": "stderr",
     "output_type": "stream",
     "text": [
      "Finding Elimination Order: : : 0it [00:00, ?it/s]\n",
      "0it [00:00, ?it/s]"
     ]
    },
    {
     "name": "stdout",
     "output_type": "stream",
     "text": [
      "+--------------------------------+---------------------+\n",
      "| Conductivity                   |   phi(Conductivity) |\n",
      "+================================+=====================+\n",
      "| Conductivity(181.48 to 328.38) |              0.0000 |\n",
      "+--------------------------------+---------------------+\n",
      "| Conductivity(328.38 to 358.37) |              0.0000 |\n",
      "+--------------------------------+---------------------+\n",
      "| Conductivity(358.37 to 385.48) |              0.4118 |\n",
      "+--------------------------------+---------------------+\n",
      "| Conductivity(385.48 to 410.4)  |              0.4118 |\n",
      "+--------------------------------+---------------------+\n",
      "| Conductivity(410.4 to 434.05)  |              0.1176 |\n",
      "+--------------------------------+---------------------+\n",
      "| Conductivity(434.05 to 461.27) |              0.0000 |\n",
      "+--------------------------------+---------------------+\n",
      "| Conductivity(461.27 to 489.87) |              0.0588 |\n",
      "+--------------------------------+---------------------+\n",
      "| Conductivity(489.87 to 528.18) |              0.0000 |\n",
      "+--------------------------------+---------------------+\n",
      "| Conductivity(528.18 to 753.34) |              0.0000 |\n",
      "+--------------------------------+---------------------+\n"
     ]
    },
    {
     "name": "stderr",
     "output_type": "stream",
     "text": [
      "\n"
     ]
    }
   ],
   "source": [
    "print(infer.query(variables=[\"Conductivity\"],evidence={\"Sulfate\":sulfate,\"Chloramines\":chloramines,\n",
    "                                                     \"Solids\":solids,\"Hardness\":hardness,\"ph\":ph},show_progress=True\n",
    "                                                     ))"
   ]
  },
  {
   "cell_type": "markdown",
   "id": "d0840d56",
   "metadata": {},
   "source": [
    "#### P(sul|chl,sol,har,ph)"
   ]
  },
  {
   "cell_type": "code",
   "execution_count": 41,
   "id": "35b8e76c",
   "metadata": {},
   "outputs": [
    {
     "name": "stderr",
     "output_type": "stream",
     "text": [
      "Finding Elimination Order: : : 0it [00:00, ?it/s]\n",
      "0it [00:00, ?it/s]"
     ]
    },
    {
     "name": "stdout",
     "output_type": "stream",
     "text": [
      "+---------------------------+----------------+\n",
      "| Sulfate                   |   phi(Sulfate) |\n",
      "+===========================+================+\n",
      "| Sulfate(129.0 to 288.62)  |         0.0000 |\n",
      "+---------------------------+----------------+\n",
      "| Sulfate(288.62 to 306.55) |         0.0000 |\n",
      "+---------------------------+----------------+\n",
      "| Sulfate(306.55 to 319.03) |         0.0000 |\n",
      "+---------------------------+----------------+\n",
      "| Sulfate(319.03 to 328.36) |         0.2353 |\n",
      "+---------------------------+----------------+\n",
      "| Sulfate(328.36 to 337.46) |         0.4118 |\n",
      "+---------------------------+----------------+\n",
      "| Sulfate(337.46 to 348.39) |         0.1765 |\n",
      "+---------------------------+----------------+\n",
      "| Sulfate(348.39 to 361.13) |         0.0588 |\n",
      "+---------------------------+----------------+\n",
      "| Sulfate(361.13 to 379.63) |         0.1176 |\n",
      "+---------------------------+----------------+\n",
      "| Sulfate(379.63 to 481.03) |         0.0000 |\n",
      "+---------------------------+----------------+\n"
     ]
    },
    {
     "name": "stderr",
     "output_type": "stream",
     "text": [
      "\n"
     ]
    }
   ],
   "source": [
    "print(infer.query(variables=[\"Sulfate\"],evidence={\"Chloramines\":chloramines,\n",
    "                                                     \"Solids\":solids,\"Hardness\":hardness,\"ph\":ph},show_progress=True\n",
    "                                                     ))"
   ]
  },
  {
   "cell_type": "markdown",
   "id": "a83df1bf",
   "metadata": {},
   "source": [
    "#### P(chl|sol,har,ph)"
   ]
  },
  {
   "cell_type": "code",
   "execution_count": 42,
   "id": "a6b8f2e0",
   "metadata": {},
   "outputs": [
    {
     "name": "stderr",
     "output_type": "stream",
     "text": [
      "Finding Elimination Order: : 100%|███████████████████████████████████████████████████████████████| 1/1 [00:00<?, ?it/s]\n",
      "Eliminating: Organic_carbon: 100%|███████████████████████████████████████████████████████████████| 1/1 [00:00<?, ?it/s]"
     ]
    },
    {
     "name": "stdout",
     "output_type": "stream",
     "text": [
      "+----------------------------+--------------------+\n",
      "| Chloramines                |   phi(Chloramines) |\n",
      "+============================+====================+\n",
      "| Chloramines(0.35 to 5.27)  |             0.0013 |\n",
      "+----------------------------+--------------------+\n",
      "| Chloramines(5.27 to 6.01)  |             0.0088 |\n",
      "+----------------------------+--------------------+\n",
      "| Chloramines(6.01 to 6.48)  |             0.0453 |\n",
      "+----------------------------+--------------------+\n",
      "| Chloramines(6.48 to 6.91)  |             0.1703 |\n",
      "+----------------------------+--------------------+\n",
      "| Chloramines(6.91 to 7.33)  |             0.3594 |\n",
      "+----------------------------+--------------------+\n",
      "| Chloramines(7.33 to 7.73)  |             0.2838 |\n",
      "+----------------------------+--------------------+\n",
      "| Chloramines(7.73 to 8.26)  |             0.1091 |\n",
      "+----------------------------+--------------------+\n",
      "| Chloramines(8.26 to 9.01)  |             0.0175 |\n",
      "+----------------------------+--------------------+\n",
      "| Chloramines(9.01 to 13.13) |             0.0047 |\n",
      "+----------------------------+--------------------+\n"
     ]
    },
    {
     "name": "stderr",
     "output_type": "stream",
     "text": [
      "\n"
     ]
    }
   ],
   "source": [
    "print(infer.query(variables=[\"Chloramines\"],evidence={\"Solids\":solids,\"Hardness\":hardness,\"ph\":ph},show_progress=True\n",
    "                                                     ))"
   ]
  },
  {
   "cell_type": "markdown",
   "id": "f77b782d",
   "metadata": {},
   "source": [
    "#### P(sol|har,ph) "
   ]
  },
  {
   "cell_type": "code",
   "execution_count": 43,
   "id": "a116e101",
   "metadata": {},
   "outputs": [
    {
     "name": "stderr",
     "output_type": "stream",
     "text": [
      "Finding Elimination Order: : 100%|███████████████████████████████████████████████████████████████| 1/1 [00:00<?, ?it/s]\n",
      "Eliminating: Sulfate: 100%|██████████████████████████████████████████████████████████████████████| 1/1 [00:00<?, ?it/s]"
     ]
    },
    {
     "name": "stdout",
     "output_type": "stream",
     "text": [
      "+------------------------------+---------------+\n",
      "| Solids                       |   phi(Solids) |\n",
      "+==============================+===============+\n",
      "| Solids(12136.79 to 14992.24) |        0.1111 |\n",
      "+------------------------------+---------------+\n",
      "| Solids(14992.24 to 17445.87) |        0.3333 |\n",
      "+------------------------------+---------------+\n",
      "| Solids(17445.87 to 19860.02) |        0.2222 |\n",
      "+------------------------------+---------------+\n",
      "| Solids(19860.02 to 22207.48) |        0.1111 |\n",
      "+------------------------------+---------------+\n",
      "| Solids(22207.48 to 25026.36) |        0.1111 |\n",
      "+------------------------------+---------------+\n",
      "| Solids(25026.36 to 28207.93) |        0.1111 |\n",
      "+------------------------------+---------------+\n",
      "| Solids(28207.93 to 33054.25) |        0.0000 |\n",
      "+------------------------------+---------------+\n",
      "| Solids(320.94 to 12136.79)   |        0.0000 |\n",
      "+------------------------------+---------------+\n",
      "| Solids(33054.25 to 61227.2)  |        0.0000 |\n",
      "+------------------------------+---------------+\n"
     ]
    },
    {
     "name": "stderr",
     "output_type": "stream",
     "text": [
      "\n"
     ]
    }
   ],
   "source": [
    "print(infer.query(variables=[\"Solids\"],evidence={\"Hardness\":hardness,\"ph\":ph},show_progress=True\n",
    "                                                     ))"
   ]
  },
  {
   "cell_type": "markdown",
   "id": "488cf905",
   "metadata": {},
   "source": [
    "#### P(har|ph) "
   ]
  },
  {
   "cell_type": "code",
   "execution_count": 44,
   "id": "9180c9ad",
   "metadata": {},
   "outputs": [
    {
     "name": "stderr",
     "output_type": "stream",
     "text": [
      "Finding Elimination Order: : 100%|███████████████████████████████████████████████████████████████| 2/2 [00:00<?, ?it/s]\n",
      "Eliminating: Solids: 100%|███████████████████████████████████████████████████████████████████████| 2/2 [00:00<?, ?it/s]"
     ]
    },
    {
     "name": "stdout",
     "output_type": "stream",
     "text": [
      "+----------------------------+-----------------+\n",
      "| Hardness                   |   phi(Hardness) |\n",
      "+============================+=================+\n",
      "| Hardness(156.95 to 173.5)  |          0.0047 |\n",
      "+----------------------------+-----------------+\n",
      "| Hardness(173.5 to 184.23)  |          0.0366 |\n",
      "+----------------------------+-----------------+\n",
      "| Hardness(184.23 to 192.43) |          0.1581 |\n",
      "+----------------------------+-----------------+\n",
      "| Hardness(192.43 to 200.65) |          0.3556 |\n",
      "+----------------------------+-----------------+\n",
      "| Hardness(200.65 to 209.68) |          0.3162 |\n",
      "+----------------------------+-----------------+\n",
      "| Hardness(209.68 to 219.7)  |          0.1016 |\n",
      "+----------------------------+-----------------+\n",
      "| Hardness(219.7 to 233.98)  |          0.0234 |\n",
      "+----------------------------+-----------------+\n",
      "| Hardness(233.98 to 323.12) |          0.0028 |\n",
      "+----------------------------+-----------------+\n",
      "| Hardness(47.43 to 156.95)  |          0.0009 |\n",
      "+----------------------------+-----------------+\n"
     ]
    },
    {
     "name": "stderr",
     "output_type": "stream",
     "text": [
      "\n"
     ]
    }
   ],
   "source": [
    "print(infer.query(variables=[\"Hardness\"],evidence={\"ph\":ph},show_progress=True))"
   ]
  },
  {
   "cell_type": "markdown",
   "id": "bb3b8f77",
   "metadata": {},
   "source": [
    "#### P(ph)"
   ]
  },
  {
   "cell_type": "code",
   "execution_count": 45,
   "id": "bc09cf5a",
   "metadata": {},
   "outputs": [
    {
     "name": "stderr",
     "output_type": "stream",
     "text": [
      "Finding Elimination Order: : : 0it [00:00, ?it/s]\n",
      "0it [00:00, ?it/s]"
     ]
    },
    {
     "name": "stdout",
     "output_type": "stream",
     "text": [
      "+------------------+-----------+\n",
      "| ph               |   phi(ph) |\n",
      "+==================+===========+\n",
      "| ph(0.0 to 5.3)   |    0.0016 |\n",
      "+------------------+-----------+\n",
      "| ph(5.3 to 5.99)  |    0.0050 |\n",
      "+------------------+-----------+\n",
      "| ph(5.99 to 6.45) |    0.0472 |\n",
      "+------------------+-----------+\n",
      "| ph(6.45 to 6.87) |    0.2194 |\n",
      "+------------------+-----------+\n",
      "| ph(6.87 to 7.26) |    0.4231 |\n",
      "+------------------+-----------+\n",
      "| ph(7.26 to 7.68) |    0.2344 |\n",
      "+------------------+-----------+\n",
      "| ph(7.68 to 8.14) |    0.0606 |\n",
      "+------------------+-----------+\n",
      "| ph(8.14 to 8.89) |    0.0075 |\n",
      "+------------------+-----------+\n",
      "| ph(8.89 to 14.0) |    0.0013 |\n",
      "+------------------+-----------+\n"
     ]
    },
    {
     "name": "stderr",
     "output_type": "stream",
     "text": [
      "\n"
     ]
    }
   ],
   "source": [
    "print(infer.query(variables=[\"ph\"],show_progress=True))"
   ]
  },
  {
   "cell_type": "markdown",
   "id": "bb9a7bb3",
   "metadata": {},
   "source": [
    "### 9) Assignment Question 4"
   ]
  },
  {
   "cell_type": "markdown",
   "id": "661097e2",
   "metadata": {},
   "source": [
    "4.\tFind the probability of the quality of water being good and the attributes take the following values: low ph, high in hardness, with high presence of solids, and other chemicals. [10%weightage]"
   ]
  },
  {
   "cell_type": "markdown",
   "id": "9d009190",
   "metadata": {},
   "source": [
    "here we need \n",
    "\n",
    "low value of ph = 0.23 (lowest value)\n",
    "\n",
    "high in hardness =317.34 (highest value)\n",
    "\n",
    "with high presence of solids = 56488.67 (highest value)\n",
    "\n",
    "with high presence of chloramines = 13.13 (highest value)\n",
    "\n",
    "with high presence of sulphate = 481.03 (highest value)"
   ]
  },
  {
   "cell_type": "code",
   "execution_count": 46,
   "id": "44fd0901",
   "metadata": {},
   "outputs": [],
   "source": [
    "ph=variable(\"ph\",0.23)\n",
    "hardness=variable(\"Hardness\",317.34) \n",
    "solids=variable(\"Solids\",56488.67)\n",
    "chloramines=variable(\"Chloramines\",13.13) \n",
    "sulfate=variable(\"Sulfate\",481.03)"
   ]
  },
  {
   "cell_type": "code",
   "execution_count": 47,
   "id": "cf68424d",
   "metadata": {},
   "outputs": [
    {
     "name": "stderr",
     "output_type": "stream",
     "text": [
      "Finding Elimination Order: : 100%|██████████████████████████████████████████████████████| 3/3 [00:00<00:00, 373.34it/s]\n",
      "Eliminating: Conductivity: 100%|████████████████████████████████████████████████████████| 3/3 [00:00<00:00, 148.66it/s]"
     ]
    },
    {
     "name": "stdout",
     "output_type": "stream",
     "text": [
      "+---------------+-------------------+\n",
      "| Potability    |   phi(Potability) |\n",
      "+===============+===================+\n",
      "| Potability(0) |            0.5000 |\n",
      "+---------------+-------------------+\n",
      "| Potability(1) |            0.5000 |\n",
      "+---------------+-------------------+\n"
     ]
    },
    {
     "name": "stderr",
     "output_type": "stream",
     "text": [
      "\n"
     ]
    }
   ],
   "source": [
    "print(infer.query(variables=[\"Potability\"],evidence={\"ph\":ph,\"Hardness\":hardness,\"Solids\":solids,\n",
    "                                                     \"Chloramines\":chloramines,\"Sulfate\":sulfate},show_progress=True\n",
    "                                                     ))"
   ]
  },
  {
   "cell_type": "markdown",
   "id": "860e3f02",
   "metadata": {},
   "source": [
    "There fore quality of water being good given these conditions is  "
   ]
  }
 ],
 "metadata": {
  "kernelspec": {
   "display_name": "Python 3 (ipykernel)",
   "language": "python",
   "name": "python3"
  },
  "language_info": {
   "codemirror_mode": {
    "name": "ipython",
    "version": 3
   },
   "file_extension": ".py",
   "mimetype": "text/x-python",
   "name": "python",
   "nbconvert_exporter": "python",
   "pygments_lexer": "ipython3",
   "version": "3.9.6"
  }
 },
 "nbformat": 4,
 "nbformat_minor": 5
}
