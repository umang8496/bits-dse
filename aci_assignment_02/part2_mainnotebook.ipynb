{
 "cells": [
  {
   "cell_type": "code",
   "execution_count": 1,
   "id": "18c3637c",
   "metadata": {},
   "outputs": [],
   "source": [
    "import numpy as np\n",
    "import pandas as pd\n",
    "import sklearn as sk\n",
    "import scipy as scipy\n",
    "import matplotlib as matplot\n",
    "import matplotlib.pyplot as plt\n",
    "\n",
    "from sklearn import svm\n",
    "from sklearn.model_selection import train_test_split\n",
    "from sklearn.model_selection import cross_val_score\n",
    "from sklearn.tree import DecisionTreeClassifier\n",
    "\n",
    "from sklearn.ensemble import RandomForestClassifier\n",
    "\n",
    "from sklearn.impute import SimpleImputer\n",
    "\n",
    "from sklearn.tree import _tree\n",
    "from sklearn import tree\n",
    "\n",
    "from scipy.stats import pearsonr\n",
    "\n",
    "import warnings\n",
    "warnings.filterwarnings(\"ignore\")\n",
    "\n",
    "pd.set_option(\"display.precision\", 4)\n",
    "np.random.seed(2021)\n",
    "\n",
    "import warnings\n",
    "warnings.filterwarnings('ignore')\n"
   ]
  },
  {
   "cell_type": "code",
   "execution_count": 2,
   "id": "3565123f",
   "metadata": {},
   "outputs": [],
   "source": [
    "df=pd.read_csv(\"water_potability.csv\")"
   ]
  },
  {
   "cell_type": "code",
   "execution_count": 3,
   "id": "92f52dd1",
   "metadata": {},
   "outputs": [],
   "source": [
    "def numeric_type_conversion(arr):\n",
    "    for col in arr:\n",
    "        df[col] = df[col].astype('float64')"
   ]
  },
  {
   "cell_type": "code",
   "execution_count": 4,
   "id": "7173b85a",
   "metadata": {},
   "outputs": [],
   "source": [
    "arr=list(df.columns)\n",
    "arr.pop()\n",
    "numeric_type_conversion(arr)\n",
    "df[\"Potability\"] = df[\"Potability\"].astype('category')"
   ]
  },
  {
   "cell_type": "code",
   "execution_count": 5,
   "id": "ed2c5ee7",
   "metadata": {},
   "outputs": [
    {
     "data": {
      "text/plain": [
       "['ph',\n",
       " 'Hardness',\n",
       " 'Solids',\n",
       " 'Chloramines',\n",
       " 'Sulfate',\n",
       " 'Conductivity',\n",
       " 'Organic_carbon',\n",
       " 'Trihalomethanes',\n",
       " 'Turbidity']"
      ]
     },
     "execution_count": 5,
     "metadata": {},
     "output_type": "execute_result"
    }
   ],
   "source": [
    "arr"
   ]
  },
  {
   "cell_type": "code",
   "execution_count": 6,
   "id": "c4dceca2",
   "metadata": {},
   "outputs": [
    {
     "name": "stdout",
     "output_type": "stream",
     "text": [
      "<class 'pandas.core.frame.DataFrame'>\n",
      "RangeIndex: 3276 entries, 0 to 3275\n",
      "Data columns (total 10 columns):\n",
      " #   Column           Non-Null Count  Dtype   \n",
      "---  ------           --------------  -----   \n",
      " 0   ph               2785 non-null   float64 \n",
      " 1   Hardness         3276 non-null   float64 \n",
      " 2   Solids           3276 non-null   float64 \n",
      " 3   Chloramines      3276 non-null   float64 \n",
      " 4   Sulfate          2495 non-null   float64 \n",
      " 5   Conductivity     3276 non-null   float64 \n",
      " 6   Organic_carbon   3276 non-null   float64 \n",
      " 7   Trihalomethanes  3114 non-null   float64 \n",
      " 8   Turbidity        3276 non-null   float64 \n",
      " 9   Potability       3276 non-null   category\n",
      "dtypes: category(1), float64(9)\n",
      "memory usage: 233.8 KB\n"
     ]
    }
   ],
   "source": [
    "df.info()"
   ]
  },
  {
   "cell_type": "code",
   "execution_count": 7,
   "id": "4ef0a195",
   "metadata": {},
   "outputs": [
    {
     "data": {
      "text/plain": [
       "(3, ['ph', 'Sulfate', 'Trihalomethanes'])"
      ]
     },
     "execution_count": 7,
     "metadata": {},
     "output_type": "execute_result"
    }
   ],
   "source": [
    "cols_with_missing = [col for col in df.columns\n",
    "                     if df[col].isnull().any()]\n",
    "len(cols_with_missing),cols_with_missing"
   ]
  },
  {
   "cell_type": "code",
   "execution_count": 8,
   "id": "e0a49af0",
   "metadata": {},
   "outputs": [
    {
     "name": "stdout",
     "output_type": "stream",
     "text": [
      "ph  :  491\n",
      "Hardness  :  0\n",
      "Solids  :  0\n",
      "Chloramines  :  0\n",
      "Sulfate  :  781\n",
      "Conductivity  :  0\n",
      "Organic_carbon  :  0\n",
      "Trihalomethanes  :  162\n",
      "Turbidity  :  0\n",
      "Potability  :  0\n"
     ]
    }
   ],
   "source": [
    "for col in df.columns:\n",
    "    print(col,\" : \",df[col].isnull().sum())"
   ]
  },
  {
   "cell_type": "code",
   "execution_count": 9,
   "id": "1b1e685d",
   "metadata": {},
   "outputs": [],
   "source": [
    "my_imputer = SimpleImputer()\n",
    "df[arr] = pd.DataFrame(my_imputer.fit_transform(df[arr]))"
   ]
  },
  {
   "cell_type": "code",
   "execution_count": 10,
   "id": "75212361",
   "metadata": {},
   "outputs": [
    {
     "name": "stdout",
     "output_type": "stream",
     "text": [
      "ph  :  0\n",
      "Hardness  :  0\n",
      "Solids  :  0\n",
      "Chloramines  :  0\n",
      "Sulfate  :  0\n",
      "Conductivity  :  0\n",
      "Organic_carbon  :  0\n",
      "Trihalomethanes  :  0\n",
      "Turbidity  :  0\n",
      "Potability  :  0\n"
     ]
    }
   ],
   "source": [
    "for col in df.columns:\n",
    "    print(col,\" : \",df[col].isnull().sum())"
   ]
  },
  {
   "cell_type": "code",
   "execution_count": 11,
   "id": "d4545175",
   "metadata": {},
   "outputs": [
    {
     "data": {
      "text/html": [
       "<div>\n",
       "<style scoped>\n",
       "    .dataframe tbody tr th:only-of-type {\n",
       "        vertical-align: middle;\n",
       "    }\n",
       "\n",
       "    .dataframe tbody tr th {\n",
       "        vertical-align: top;\n",
       "    }\n",
       "\n",
       "    .dataframe thead th {\n",
       "        text-align: right;\n",
       "    }\n",
       "</style>\n",
       "<table border=\"1\" class=\"dataframe\">\n",
       "  <thead>\n",
       "    <tr style=\"text-align: right;\">\n",
       "      <th></th>\n",
       "      <th>ph</th>\n",
       "      <th>Hardness</th>\n",
       "      <th>Solids</th>\n",
       "      <th>Chloramines</th>\n",
       "      <th>Sulfate</th>\n",
       "      <th>Conductivity</th>\n",
       "      <th>Organic_carbon</th>\n",
       "      <th>Trihalomethanes</th>\n",
       "      <th>Turbidity</th>\n",
       "      <th>Potability</th>\n",
       "    </tr>\n",
       "  </thead>\n",
       "  <tbody>\n",
       "    <tr>\n",
       "      <th>0</th>\n",
       "      <td>7.0808</td>\n",
       "      <td>204.8905</td>\n",
       "      <td>20791.3190</td>\n",
       "      <td>7.3002</td>\n",
       "      <td>368.5164</td>\n",
       "      <td>564.3087</td>\n",
       "      <td>10.3798</td>\n",
       "      <td>86.9910</td>\n",
       "      <td>2.9631</td>\n",
       "      <td>0</td>\n",
       "    </tr>\n",
       "    <tr>\n",
       "      <th>1</th>\n",
       "      <td>3.7161</td>\n",
       "      <td>129.4229</td>\n",
       "      <td>18630.0579</td>\n",
       "      <td>6.6352</td>\n",
       "      <td>333.7758</td>\n",
       "      <td>592.8854</td>\n",
       "      <td>15.1800</td>\n",
       "      <td>56.3291</td>\n",
       "      <td>4.5007</td>\n",
       "      <td>0</td>\n",
       "    </tr>\n",
       "    <tr>\n",
       "      <th>2</th>\n",
       "      <td>8.0991</td>\n",
       "      <td>224.2363</td>\n",
       "      <td>19909.5417</td>\n",
       "      <td>9.2759</td>\n",
       "      <td>333.7758</td>\n",
       "      <td>418.6062</td>\n",
       "      <td>16.8686</td>\n",
       "      <td>66.4201</td>\n",
       "      <td>3.0559</td>\n",
       "      <td>0</td>\n",
       "    </tr>\n",
       "    <tr>\n",
       "      <th>3</th>\n",
       "      <td>8.3168</td>\n",
       "      <td>214.3734</td>\n",
       "      <td>22018.4174</td>\n",
       "      <td>8.0593</td>\n",
       "      <td>356.8861</td>\n",
       "      <td>363.2665</td>\n",
       "      <td>18.4365</td>\n",
       "      <td>100.3417</td>\n",
       "      <td>4.6288</td>\n",
       "      <td>0</td>\n",
       "    </tr>\n",
       "    <tr>\n",
       "      <th>4</th>\n",
       "      <td>9.0922</td>\n",
       "      <td>181.1015</td>\n",
       "      <td>17978.9863</td>\n",
       "      <td>6.5466</td>\n",
       "      <td>310.1357</td>\n",
       "      <td>398.4108</td>\n",
       "      <td>11.5583</td>\n",
       "      <td>31.9980</td>\n",
       "      <td>4.0751</td>\n",
       "      <td>0</td>\n",
       "    </tr>\n",
       "  </tbody>\n",
       "</table>\n",
       "</div>"
      ],
      "text/plain": [
       "       ph  Hardness      Solids  Chloramines   Sulfate  Conductivity  \\\n",
       "0  7.0808  204.8905  20791.3190       7.3002  368.5164      564.3087   \n",
       "1  3.7161  129.4229  18630.0579       6.6352  333.7758      592.8854   \n",
       "2  8.0991  224.2363  19909.5417       9.2759  333.7758      418.6062   \n",
       "3  8.3168  214.3734  22018.4174       8.0593  356.8861      363.2665   \n",
       "4  9.0922  181.1015  17978.9863       6.5466  310.1357      398.4108   \n",
       "\n",
       "   Organic_carbon  Trihalomethanes  Turbidity Potability  \n",
       "0         10.3798          86.9910     2.9631          0  \n",
       "1         15.1800          56.3291     4.5007          0  \n",
       "2         16.8686          66.4201     3.0559          0  \n",
       "3         18.4365         100.3417     4.6288          0  \n",
       "4         11.5583          31.9980     4.0751          0  "
      ]
     },
     "execution_count": 11,
     "metadata": {},
     "output_type": "execute_result"
    }
   ],
   "source": [
    "df.head()"
   ]
  },
  {
   "cell_type": "code",
   "execution_count": 12,
   "id": "4d4cc61c",
   "metadata": {},
   "outputs": [],
   "source": [
    "X=df.iloc[:,:-1]\n",
    "y=df.iloc[:,-1]"
   ]
  },
  {
   "cell_type": "code",
   "execution_count": 13,
   "id": "7a88303d",
   "metadata": {},
   "outputs": [],
   "source": [
    "clf = DecisionTreeClassifier(max_depth=3, random_state=1234)\n",
    "model = clf.fit(X, y)"
   ]
  },
  {
   "cell_type": "code",
   "execution_count": 14,
   "id": "3e8e6ddd",
   "metadata": {},
   "outputs": [
    {
     "name": "stdout",
     "output_type": "stream",
     "text": [
      "|--- Sulfate <= 258.97\n",
      "|   |--- Solids <= 21161.41\n",
      "|   |   |--- ph <= 7.95\n",
      "|   |   |   |--- class: 0\n",
      "|   |   |--- ph >  7.95\n",
      "|   |   |   |--- class: 1\n",
      "|   |--- Solids >  21161.41\n",
      "|   |   |--- ph <= 5.83\n",
      "|   |   |   |--- class: 0\n",
      "|   |   |--- ph >  5.83\n",
      "|   |   |   |--- class: 1\n",
      "|--- Sulfate >  258.97\n",
      "|   |--- Sulfate <= 387.80\n",
      "|   |   |--- ph <= 4.64\n",
      "|   |   |   |--- class: 0\n",
      "|   |   |--- ph >  4.64\n",
      "|   |   |   |--- class: 0\n",
      "|   |--- Sulfate >  387.80\n",
      "|   |   |--- ph <= 7.61\n",
      "|   |   |   |--- class: 1\n",
      "|   |   |--- ph >  7.61\n",
      "|   |   |   |--- class: 0\n",
      "\n"
     ]
    }
   ],
   "source": [
    "text_representation = tree.export_text(clf,feature_names=arr)\n",
    "print(text_representation)"
   ]
  },
  {
   "cell_type": "code",
   "execution_count": 15,
   "id": "dad38b89",
   "metadata": {},
   "outputs": [],
   "source": [
    "def get_rules(tree, feature_names, class_names):\n",
    "    tree_ = tree.tree_\n",
    "    feature_name = [\n",
    "        feature_names[i] if i != _tree.TREE_UNDEFINED else \"undefined!\"\n",
    "        for i in tree_.feature\n",
    "    ]\n",
    "\n",
    "    paths = []\n",
    "    path = []\n",
    "    \n",
    "    def recurse(node, path, paths):\n",
    "        \n",
    "        if tree_.feature[node] != _tree.TREE_UNDEFINED:\n",
    "            name = feature_name[node]\n",
    "            threshold = tree_.threshold[node]\n",
    "            p1, p2 = list(path), list(path)\n",
    "            p1 += [f\"({name} <= {np.round(threshold, 3)})\"]\n",
    "            recurse(tree_.children_left[node], p1, paths)\n",
    "            p2 += [f\"({name} > {np.round(threshold, 3)})\"]\n",
    "            recurse(tree_.children_right[node], p2, paths)\n",
    "        else:\n",
    "            path += [(tree_.value[node], tree_.n_node_samples[node])]\n",
    "            paths += [path]\n",
    "            \n",
    "    recurse(0, path, paths)\n",
    "\n",
    "    # sort by samples count\n",
    "    samples_count = [p[-1][1] for p in paths]\n",
    "    ii = list(np.argsort(samples_count))\n",
    "    paths = [paths[i] for i in reversed(ii)]\n",
    "    \n",
    "    rules = []\n",
    "    for path in paths:\n",
    "        rule = \"if \"\n",
    "        \n",
    "        for p in path[:-1]:\n",
    "            if rule != \"if \":\n",
    "                rule += \" and \"\n",
    "            rule += str(p)\n",
    "        rule += \" then \"\n",
    "        if class_names is None:\n",
    "            rule += \"response: \"+str(np.round(path[-1][0][0][0],3))\n",
    "        else:\n",
    "            classes = path[-1][0][0]\n",
    "            l = np.argmax(classes)\n",
    "            rule += f\"class: {class_names[l]} (proba: {np.round(100.0*classes[l]/np.sum(classes),2)}%)\"\n",
    "        rule += f\" | based on {path[-1][1]:,} samples\"\n",
    "        rules += [rule]\n",
    "        \n",
    "    return rules\n"
   ]
  },
  {
   "cell_type": "code",
   "execution_count": 16,
   "id": "4d74d3b5",
   "metadata": {},
   "outputs": [
    {
     "name": "stdout",
     "output_type": "stream",
     "text": [
      "if (Sulfate > 258.97) and (Sulfate <= 387.796) and (ph > 4.636) then class: Non drinkable (proba: 62.19%) | based on 2,809 samples\n",
      "if (Sulfate > 258.97) and (Sulfate > 387.796) and (ph <= 7.61) then class: Drinkable (proba: 66.04%) | based on 159 samples\n",
      "if (Sulfate > 258.97) and (Sulfate <= 387.796) and (ph <= 4.636) then class: Non drinkable (proba: 79.45%) | based on 146 samples\n",
      "if (Sulfate > 258.97) and (Sulfate > 387.796) and (ph > 7.61) then class: Non drinkable (proba: 78.08%) | based on 73 samples\n",
      "if (Sulfate <= 258.97) and (Solids > 21161.408) and (ph > 5.825) then class: Drinkable (proba: 94.34%) | based on 53 samples\n",
      "if (Sulfate <= 258.97) and (Solids <= 21161.408) and (ph <= 7.947) then class: Non drinkable (proba: 73.91%) | based on 23 samples\n",
      "if (Sulfate <= 258.97) and (Solids > 21161.408) and (ph <= 5.825) then class: Non drinkable (proba: 50.0%) | based on 8 samples\n",
      "if (Sulfate <= 258.97) and (Solids <= 21161.408) and (ph > 7.947) then class: Drinkable (proba: 100.0%) | based on 5 samples\n"
     ]
    }
   ],
   "source": [
    "rules = get_rules(clf, arr,[\"Non drinkable\",\"Drinkable\"])\n",
    "for r in rules:\n",
    "    print(r)\n"
   ]
  },
  {
   "cell_type": "code",
   "execution_count": null,
   "id": "235ef2be",
   "metadata": {},
   "outputs": [],
   "source": []
  }
 ],
 "metadata": {
  "kernelspec": {
   "display_name": "Python 3 (ipykernel)",
   "language": "python",
   "name": "python3"
  },
  "language_info": {
   "codemirror_mode": {
    "name": "ipython",
    "version": 3
   },
   "file_extension": ".py",
   "mimetype": "text/x-python",
   "name": "python",
   "nbconvert_exporter": "python",
   "pygments_lexer": "ipython3",
   "version": "3.9.6"
  }
 },
 "nbformat": 4,
 "nbformat_minor": 5
}
