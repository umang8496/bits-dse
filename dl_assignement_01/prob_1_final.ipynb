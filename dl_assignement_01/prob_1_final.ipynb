{
 "cells": [
  {
   "cell_type": "markdown",
   "id": "7eed01f0",
   "metadata": {},
   "source": [
    "### 1 Import Libraries/Dataset (0 mark)\n",
    "\n",
    "    1.1) Import the required libraries and the dataset.\n",
    "    1.2) Check the GPU available."
   ]
  },
  {
   "cell_type": "code",
   "execution_count": 1,
   "id": "c313f16b",
   "metadata": {},
   "outputs": [
    {
     "name": "stderr",
     "output_type": "stream",
     "text": [
      "[nltk_data] Downloading package punkt to C:\\Users\\Amal\n",
      "[nltk_data]     Shaji\\AppData\\Roaming\\nltk_data...\n",
      "[nltk_data]   Package punkt is already up-to-date!\n",
      "[nltk_data] Downloading package stopwords to C:\\Users\\Amal\n",
      "[nltk_data]     Shaji\\AppData\\Roaming\\nltk_data...\n",
      "[nltk_data]   Package stopwords is already up-to-date!\n"
     ]
    }
   ],
   "source": [
    "import pandas as pd\n",
    "import tensorflow as tf\n",
    "import numpy as np\n",
    "import matplotlib.pyplot as plt\n",
    "import tensorflow_hub as hub\n",
    "\n",
    "import re\n",
    "import nltk\n",
    "nltk.download('punkt')\n",
    "nltk.download('stopwords')\n",
    "from nltk.stem.porter import PorterStemmer\n",
    "import string\n",
    "from nltk.tokenize import word_tokenize\n",
    "\n",
    "import category_encoders as ce\n",
    "from time import process_time"
   ]
  },
  {
   "cell_type": "code",
   "execution_count": 2,
   "id": "67533df2",
   "metadata": {},
   "outputs": [
    {
     "name": "stdout",
     "output_type": "stream",
     "text": [
      "WARNING:tensorflow:From C:\\Users\\AMALSH~1\\AppData\\Local\\Temp/ipykernel_16900/1979868973.py:2: is_gpu_available (from tensorflow.python.framework.test_util) is deprecated and will be removed in a future version.\n",
      "Instructions for updating:\n",
      "Use `tf.config.list_physical_devices('GPU')` instead.\n",
      "GPu : [PhysicalDevice(name='/physical_device:GPU:0', device_type='GPU')]\n",
      "Cuda avail;bale in GPU :  True\n"
     ]
    }
   ],
   "source": [
    "gpu_available = tf.config.list_physical_devices('GPU')\n",
    "is_cuda_gpu_available = tf.test.is_gpu_available(cuda_only=True)\n",
    "is_cuda_gpu_min_3 = tf.test.is_gpu_available(True, (3,0))\n",
    "\n",
    "print(\"GPu :\" ,gpu_available)\n",
    "print(\"Cuda avail;bale in GPU : \", is_cuda_gpu_available)"
   ]
  },
  {
   "cell_type": "code",
   "execution_count": 3,
   "id": "d0b533a0",
   "metadata": {},
   "outputs": [],
   "source": [
    "#importing the dataset\n",
    "df = pd.read_csv(\"train.csv\")\n",
    "df_test = pd.read_csv(\"valid.csv\")"
   ]
  },
  {
   "cell_type": "code",
   "execution_count": 4,
   "id": "7388def7",
   "metadata": {},
   "outputs": [
    {
     "data": {
      "text/html": [
       "<div>\n",
       "<style scoped>\n",
       "    .dataframe tbody tr th:only-of-type {\n",
       "        vertical-align: middle;\n",
       "    }\n",
       "\n",
       "    .dataframe tbody tr th {\n",
       "        vertical-align: top;\n",
       "    }\n",
       "\n",
       "    .dataframe thead th {\n",
       "        text-align: right;\n",
       "    }\n",
       "</style>\n",
       "<table border=\"1\" class=\"dataframe\">\n",
       "  <thead>\n",
       "    <tr style=\"text-align: right;\">\n",
       "      <th></th>\n",
       "      <th>Id</th>\n",
       "      <th>Title</th>\n",
       "      <th>Body</th>\n",
       "      <th>Tags</th>\n",
       "      <th>CreationDate</th>\n",
       "      <th>Y</th>\n",
       "    </tr>\n",
       "  </thead>\n",
       "  <tbody>\n",
       "    <tr>\n",
       "      <th>0</th>\n",
       "      <td>34552656</td>\n",
       "      <td>Java: Repeat Task Every Random Seconds</td>\n",
       "      <td>&lt;p&gt;I'm already familiar with repeating tasks e...</td>\n",
       "      <td>&lt;java&gt;&lt;repeat&gt;</td>\n",
       "      <td>2016-01-01 00:21:59</td>\n",
       "      <td>LQ_CLOSE</td>\n",
       "    </tr>\n",
       "    <tr>\n",
       "      <th>1</th>\n",
       "      <td>34553034</td>\n",
       "      <td>Why are Java Optionals immutable?</td>\n",
       "      <td>&lt;p&gt;I'd like to understand why Java 8 Optionals...</td>\n",
       "      <td>&lt;java&gt;&lt;optional&gt;</td>\n",
       "      <td>2016-01-01 02:03:20</td>\n",
       "      <td>HQ</td>\n",
       "    </tr>\n",
       "    <tr>\n",
       "      <th>2</th>\n",
       "      <td>34553174</td>\n",
       "      <td>Text Overlay Image with Darkened Opacity React...</td>\n",
       "      <td>&lt;p&gt;I am attempting to overlay a title over an ...</td>\n",
       "      <td>&lt;javascript&gt;&lt;image&gt;&lt;overlay&gt;&lt;react-native&gt;&lt;opa...</td>\n",
       "      <td>2016-01-01 02:48:24</td>\n",
       "      <td>HQ</td>\n",
       "    </tr>\n",
       "    <tr>\n",
       "      <th>3</th>\n",
       "      <td>34553318</td>\n",
       "      <td>Why ternary operator in swift is so picky?</td>\n",
       "      <td>&lt;p&gt;The question is very simple, but I just cou...</td>\n",
       "      <td>&lt;swift&gt;&lt;operators&gt;&lt;whitespace&gt;&lt;ternary-operato...</td>\n",
       "      <td>2016-01-01 03:30:17</td>\n",
       "      <td>HQ</td>\n",
       "    </tr>\n",
       "    <tr>\n",
       "      <th>4</th>\n",
       "      <td>34553755</td>\n",
       "      <td>hide/show fab with scale animation</td>\n",
       "      <td>&lt;p&gt;I'm using custom floatingactionmenu. I need...</td>\n",
       "      <td>&lt;android&gt;&lt;material-design&gt;&lt;floating-action-but...</td>\n",
       "      <td>2016-01-01 05:21:48</td>\n",
       "      <td>HQ</td>\n",
       "    </tr>\n",
       "  </tbody>\n",
       "</table>\n",
       "</div>"
      ],
      "text/plain": [
       "         Id                                              Title  \\\n",
       "0  34552656             Java: Repeat Task Every Random Seconds   \n",
       "1  34553034                  Why are Java Optionals immutable?   \n",
       "2  34553174  Text Overlay Image with Darkened Opacity React...   \n",
       "3  34553318         Why ternary operator in swift is so picky?   \n",
       "4  34553755                 hide/show fab with scale animation   \n",
       "\n",
       "                                                Body  \\\n",
       "0  <p>I'm already familiar with repeating tasks e...   \n",
       "1  <p>I'd like to understand why Java 8 Optionals...   \n",
       "2  <p>I am attempting to overlay a title over an ...   \n",
       "3  <p>The question is very simple, but I just cou...   \n",
       "4  <p>I'm using custom floatingactionmenu. I need...   \n",
       "\n",
       "                                                Tags         CreationDate  \\\n",
       "0                                     <java><repeat>  2016-01-01 00:21:59   \n",
       "1                                   <java><optional>  2016-01-01 02:03:20   \n",
       "2  <javascript><image><overlay><react-native><opa...  2016-01-01 02:48:24   \n",
       "3  <swift><operators><whitespace><ternary-operato...  2016-01-01 03:30:17   \n",
       "4  <android><material-design><floating-action-but...  2016-01-01 05:21:48   \n",
       "\n",
       "          Y  \n",
       "0  LQ_CLOSE  \n",
       "1        HQ  \n",
       "2        HQ  \n",
       "3        HQ  \n",
       "4        HQ  "
      ]
     },
     "execution_count": 4,
     "metadata": {},
     "output_type": "execute_result"
    }
   ],
   "source": [
    "df.head()"
   ]
  },
  {
   "cell_type": "markdown",
   "id": "837401e9",
   "metadata": {},
   "source": [
    "### 2. Data Visualization (0.75 mark)\n",
    "\n",
    "    2.1) Print at least two records from each class of the dataset, for a sanity check that labels match the text.\n",
    "    2.2) Plot a bar graph of class distribution in the dataset. Each bar depicts the number of records belonging to a particular class in the dataset. (recommended - matplotlib/seaborn libraries)\n",
    "    2.3) Any other visualizations that seem appropriate for this problem are encouraged but not necessary, for the points.\n",
    "    2.4) Print the shapes of train and test data."
   ]
  },
  {
   "cell_type": "code",
   "execution_count": 5,
   "id": "0d9f6cbf",
   "metadata": {},
   "outputs": [
    {
     "data": {
      "text/plain": [
       "array(['LQ_CLOSE', 'HQ', 'LQ_EDIT'], dtype=object)"
      ]
     },
     "execution_count": 5,
     "metadata": {},
     "output_type": "execute_result"
    }
   ],
   "source": [
    "df.Y.unique()"
   ]
  },
  {
   "cell_type": "markdown",
   "id": "2372489f",
   "metadata": {},
   "source": [
    "2.1) Print at least two records from each class of the dataset, for a sanity check that labels match the text."
   ]
  },
  {
   "cell_type": "code",
   "execution_count": 6,
   "id": "039d2ddb",
   "metadata": {},
   "outputs": [
    {
     "name": "stdout",
     "output_type": "stream",
     "text": [
      "First 5 Records from class 'LQ_CLOSE'\n"
     ]
    },
    {
     "data": {
      "text/html": [
       "<div>\n",
       "<style scoped>\n",
       "    .dataframe tbody tr th:only-of-type {\n",
       "        vertical-align: middle;\n",
       "    }\n",
       "\n",
       "    .dataframe tbody tr th {\n",
       "        vertical-align: top;\n",
       "    }\n",
       "\n",
       "    .dataframe thead th {\n",
       "        text-align: right;\n",
       "    }\n",
       "</style>\n",
       "<table border=\"1\" class=\"dataframe\">\n",
       "  <thead>\n",
       "    <tr style=\"text-align: right;\">\n",
       "      <th></th>\n",
       "      <th>Id</th>\n",
       "      <th>Title</th>\n",
       "      <th>Body</th>\n",
       "      <th>Tags</th>\n",
       "      <th>CreationDate</th>\n",
       "      <th>Y</th>\n",
       "    </tr>\n",
       "  </thead>\n",
       "  <tbody>\n",
       "    <tr>\n",
       "      <th>0</th>\n",
       "      <td>34552656</td>\n",
       "      <td>Java: Repeat Task Every Random Seconds</td>\n",
       "      <td>&lt;p&gt;I'm already familiar with repeating tasks e...</td>\n",
       "      <td>&lt;java&gt;&lt;repeat&gt;</td>\n",
       "      <td>2016-01-01 00:21:59</td>\n",
       "      <td>LQ_CLOSE</td>\n",
       "    </tr>\n",
       "    <tr>\n",
       "      <th>5</th>\n",
       "      <td>34554026</td>\n",
       "      <td>Accessing pointer member of the structure usin...</td>\n",
       "      <td>&lt;p&gt;I have defined integer pointer inside the s...</td>\n",
       "      <td>&lt;c&gt;&lt;pointers&gt;&lt;data-structures&gt;</td>\n",
       "      <td>2016-01-01 06:21:17</td>\n",
       "      <td>LQ_CLOSE</td>\n",
       "    </tr>\n",
       "    <tr>\n",
       "      <th>11</th>\n",
       "      <td>34555643</td>\n",
       "      <td>What's the best way to store text data?</td>\n",
       "      <td>&lt;p&gt;I am kinda new to Android development, but ...</td>\n",
       "      <td>&lt;android&gt;&lt;android-file&gt;</td>\n",
       "      <td>2016-01-01 11:15:21</td>\n",
       "      <td>LQ_CLOSE</td>\n",
       "    </tr>\n",
       "    <tr>\n",
       "      <th>21</th>\n",
       "      <td>34559616</td>\n",
       "      <td>how to make sure a file's integrity in C#</td>\n",
       "      <td>&lt;p&gt;I am deploying a file along with a C# appli...</td>\n",
       "      <td>&lt;c#&gt;&lt;.net&gt;</td>\n",
       "      <td>2016-01-01 20:10:18</td>\n",
       "      <td>LQ_CLOSE</td>\n",
       "    </tr>\n",
       "    <tr>\n",
       "      <th>25</th>\n",
       "      <td>34560942</td>\n",
       "      <td>C# - Count a specific word in richTextBox1 and...</td>\n",
       "      <td>&lt;p&gt;I'm not sure, if this question is unique, b...</td>\n",
       "      <td>&lt;c#&gt;</td>\n",
       "      <td>2016-01-01 23:06:53</td>\n",
       "      <td>LQ_CLOSE</td>\n",
       "    </tr>\n",
       "  </tbody>\n",
       "</table>\n",
       "</div>"
      ],
      "text/plain": [
       "          Id                                              Title  \\\n",
       "0   34552656             Java: Repeat Task Every Random Seconds   \n",
       "5   34554026  Accessing pointer member of the structure usin...   \n",
       "11  34555643            What's the best way to store text data?   \n",
       "21  34559616          how to make sure a file's integrity in C#   \n",
       "25  34560942  C# - Count a specific word in richTextBox1 and...   \n",
       "\n",
       "                                                 Body  \\\n",
       "0   <p>I'm already familiar with repeating tasks e...   \n",
       "5   <p>I have defined integer pointer inside the s...   \n",
       "11  <p>I am kinda new to Android development, but ...   \n",
       "21  <p>I am deploying a file along with a C# appli...   \n",
       "25  <p>I'm not sure, if this question is unique, b...   \n",
       "\n",
       "                              Tags         CreationDate         Y  \n",
       "0                   <java><repeat>  2016-01-01 00:21:59  LQ_CLOSE  \n",
       "5   <c><pointers><data-structures>  2016-01-01 06:21:17  LQ_CLOSE  \n",
       "11         <android><android-file>  2016-01-01 11:15:21  LQ_CLOSE  \n",
       "21                      <c#><.net>  2016-01-01 20:10:18  LQ_CLOSE  \n",
       "25                            <c#>  2016-01-01 23:06:53  LQ_CLOSE  "
      ]
     },
     "execution_count": 6,
     "metadata": {},
     "output_type": "execute_result"
    }
   ],
   "source": [
    "print(\"First 5 Records from class 'LQ_CLOSE'\")\n",
    "rslt_df = df.loc[df['Y'] == 'LQ_CLOSE']\n",
    "lq_close_count=len(rslt_df)\n",
    "rslt_df.head(5)"
   ]
  },
  {
   "cell_type": "code",
   "execution_count": 7,
   "id": "2e7ef2c7",
   "metadata": {},
   "outputs": [
    {
     "name": "stdout",
     "output_type": "stream",
     "text": [
      "First 5 Records from class 'LQ_EDIT'\n"
     ]
    },
    {
     "data": {
      "text/html": [
       "<div>\n",
       "<style scoped>\n",
       "    .dataframe tbody tr th:only-of-type {\n",
       "        vertical-align: middle;\n",
       "    }\n",
       "\n",
       "    .dataframe tbody tr th {\n",
       "        vertical-align: top;\n",
       "    }\n",
       "\n",
       "    .dataframe thead th {\n",
       "        text-align: right;\n",
       "    }\n",
       "</style>\n",
       "<table border=\"1\" class=\"dataframe\">\n",
       "  <thead>\n",
       "    <tr style=\"text-align: right;\">\n",
       "      <th></th>\n",
       "      <th>Id</th>\n",
       "      <th>Title</th>\n",
       "      <th>Body</th>\n",
       "      <th>Tags</th>\n",
       "      <th>CreationDate</th>\n",
       "      <th>Y</th>\n",
       "    </tr>\n",
       "  </thead>\n",
       "  <tbody>\n",
       "    <tr>\n",
       "      <th>6</th>\n",
       "      <td>34554206</td>\n",
       "      <td>How To Disable 2nd Saturday 4th Saturday ,Sund...</td>\n",
       "      <td>i want to Disable 2nd Saturday 4th saturday,...</td>\n",
       "      <td>&lt;javascript&gt;&lt;jquery&gt;&lt;jquery-ui&gt;</td>\n",
       "      <td>2016-01-01 06:55:18</td>\n",
       "      <td>LQ_EDIT</td>\n",
       "    </tr>\n",
       "    <tr>\n",
       "      <th>7</th>\n",
       "      <td>34554671</td>\n",
       "      <td>Resizing containers in bootstrap</td>\n",
       "      <td>I am new to bootstrap and i would like to find...</td>\n",
       "      <td>&lt;jquery&gt;&lt;html&gt;&lt;css&gt;&lt;twitter-bootstrap&gt;</td>\n",
       "      <td>2016-01-01 08:32:05</td>\n",
       "      <td>LQ_EDIT</td>\n",
       "    </tr>\n",
       "    <tr>\n",
       "      <th>9</th>\n",
       "      <td>34554982</td>\n",
       "      <td>TextBox Value Disappears VB6</td>\n",
       "      <td>I my case I am having two form Form 1 and Form...</td>\n",
       "      <td>&lt;vb6&gt;</td>\n",
       "      <td>2016-01-01 09:27:44</td>\n",
       "      <td>LQ_EDIT</td>\n",
       "    </tr>\n",
       "    <tr>\n",
       "      <th>12</th>\n",
       "      <td>34556569</td>\n",
       "      <td>ios/objective-c/xcode: Expand Label based on q...</td>\n",
       "      <td>I have a UIlabel linked to a property that can...</td>\n",
       "      <td>&lt;ios&gt;&lt;storyboard&gt;&lt;uilabel&gt;</td>\n",
       "      <td>2016-01-01 13:33:36</td>\n",
       "      <td>LQ_EDIT</td>\n",
       "    </tr>\n",
       "    <tr>\n",
       "      <th>13</th>\n",
       "      <td>34556906</td>\n",
       "      <td>output FILE ,is this a fault?</td>\n",
       "      <td>\\r\\nmy code here\\r\\n\\r\\n        #include &lt;stdi...</td>\n",
       "      <td>&lt;c++&gt;</td>\n",
       "      <td>2016-01-01 14:20:01</td>\n",
       "      <td>LQ_EDIT</td>\n",
       "    </tr>\n",
       "  </tbody>\n",
       "</table>\n",
       "</div>"
      ],
      "text/plain": [
       "          Id                                              Title  \\\n",
       "6   34554206  How To Disable 2nd Saturday 4th Saturday ,Sund...   \n",
       "7   34554671                   Resizing containers in bootstrap   \n",
       "9   34554982                       TextBox Value Disappears VB6   \n",
       "12  34556569  ios/objective-c/xcode: Expand Label based on q...   \n",
       "13  34556906                      output FILE ,is this a fault?   \n",
       "\n",
       "                                                 Body  \\\n",
       "6     i want to Disable 2nd Saturday 4th saturday,...   \n",
       "7   I am new to bootstrap and i would like to find...   \n",
       "9   I my case I am having two form Form 1 and Form...   \n",
       "12  I have a UIlabel linked to a property that can...   \n",
       "13  \\r\\nmy code here\\r\\n\\r\\n        #include <stdi...   \n",
       "\n",
       "                                      Tags         CreationDate        Y  \n",
       "6          <javascript><jquery><jquery-ui>  2016-01-01 06:55:18  LQ_EDIT  \n",
       "7   <jquery><html><css><twitter-bootstrap>  2016-01-01 08:32:05  LQ_EDIT  \n",
       "9                                    <vb6>  2016-01-01 09:27:44  LQ_EDIT  \n",
       "12              <ios><storyboard><uilabel>  2016-01-01 13:33:36  LQ_EDIT  \n",
       "13                                   <c++>  2016-01-01 14:20:01  LQ_EDIT  "
      ]
     },
     "execution_count": 7,
     "metadata": {},
     "output_type": "execute_result"
    }
   ],
   "source": [
    "print(\"First 5 Records from class 'LQ_EDIT'\")\n",
    "rslt_df = df.loc[df['Y'] == 'LQ_EDIT']\n",
    "lq_edit_count=len(rslt_df)\n",
    "rslt_df.head(5)"
   ]
  },
  {
   "cell_type": "code",
   "execution_count": 8,
   "id": "95b204d8",
   "metadata": {},
   "outputs": [
    {
     "name": "stdout",
     "output_type": "stream",
     "text": [
      "First 5 Records from class 'HQ'\n"
     ]
    },
    {
     "data": {
      "text/html": [
       "<div>\n",
       "<style scoped>\n",
       "    .dataframe tbody tr th:only-of-type {\n",
       "        vertical-align: middle;\n",
       "    }\n",
       "\n",
       "    .dataframe tbody tr th {\n",
       "        vertical-align: top;\n",
       "    }\n",
       "\n",
       "    .dataframe thead th {\n",
       "        text-align: right;\n",
       "    }\n",
       "</style>\n",
       "<table border=\"1\" class=\"dataframe\">\n",
       "  <thead>\n",
       "    <tr style=\"text-align: right;\">\n",
       "      <th></th>\n",
       "      <th>Id</th>\n",
       "      <th>Title</th>\n",
       "      <th>Body</th>\n",
       "      <th>Tags</th>\n",
       "      <th>CreationDate</th>\n",
       "      <th>Y</th>\n",
       "    </tr>\n",
       "  </thead>\n",
       "  <tbody>\n",
       "    <tr>\n",
       "      <th>1</th>\n",
       "      <td>34553034</td>\n",
       "      <td>Why are Java Optionals immutable?</td>\n",
       "      <td>&lt;p&gt;I'd like to understand why Java 8 Optionals...</td>\n",
       "      <td>&lt;java&gt;&lt;optional&gt;</td>\n",
       "      <td>2016-01-01 02:03:20</td>\n",
       "      <td>HQ</td>\n",
       "    </tr>\n",
       "    <tr>\n",
       "      <th>2</th>\n",
       "      <td>34553174</td>\n",
       "      <td>Text Overlay Image with Darkened Opacity React...</td>\n",
       "      <td>&lt;p&gt;I am attempting to overlay a title over an ...</td>\n",
       "      <td>&lt;javascript&gt;&lt;image&gt;&lt;overlay&gt;&lt;react-native&gt;&lt;opa...</td>\n",
       "      <td>2016-01-01 02:48:24</td>\n",
       "      <td>HQ</td>\n",
       "    </tr>\n",
       "    <tr>\n",
       "      <th>3</th>\n",
       "      <td>34553318</td>\n",
       "      <td>Why ternary operator in swift is so picky?</td>\n",
       "      <td>&lt;p&gt;The question is very simple, but I just cou...</td>\n",
       "      <td>&lt;swift&gt;&lt;operators&gt;&lt;whitespace&gt;&lt;ternary-operato...</td>\n",
       "      <td>2016-01-01 03:30:17</td>\n",
       "      <td>HQ</td>\n",
       "    </tr>\n",
       "    <tr>\n",
       "      <th>4</th>\n",
       "      <td>34553755</td>\n",
       "      <td>hide/show fab with scale animation</td>\n",
       "      <td>&lt;p&gt;I'm using custom floatingactionmenu. I need...</td>\n",
       "      <td>&lt;android&gt;&lt;material-design&gt;&lt;floating-action-but...</td>\n",
       "      <td>2016-01-01 05:21:48</td>\n",
       "      <td>HQ</td>\n",
       "    </tr>\n",
       "    <tr>\n",
       "      <th>8</th>\n",
       "      <td>34554871</td>\n",
       "      <td>Changing Theme in Windows 10 UWP App Programma...</td>\n",
       "      <td>&lt;p&gt;I was able to change theme using &lt;code&gt;this...</td>\n",
       "      <td>&lt;c#&gt;&lt;windows-10&gt;&lt;windows-10-mobile&gt;&lt;windows-10...</td>\n",
       "      <td>2016-01-01 09:05:45</td>\n",
       "      <td>HQ</td>\n",
       "    </tr>\n",
       "  </tbody>\n",
       "</table>\n",
       "</div>"
      ],
      "text/plain": [
       "         Id                                              Title  \\\n",
       "1  34553034                  Why are Java Optionals immutable?   \n",
       "2  34553174  Text Overlay Image with Darkened Opacity React...   \n",
       "3  34553318         Why ternary operator in swift is so picky?   \n",
       "4  34553755                 hide/show fab with scale animation   \n",
       "8  34554871  Changing Theme in Windows 10 UWP App Programma...   \n",
       "\n",
       "                                                Body  \\\n",
       "1  <p>I'd like to understand why Java 8 Optionals...   \n",
       "2  <p>I am attempting to overlay a title over an ...   \n",
       "3  <p>The question is very simple, but I just cou...   \n",
       "4  <p>I'm using custom floatingactionmenu. I need...   \n",
       "8  <p>I was able to change theme using <code>this...   \n",
       "\n",
       "                                                Tags         CreationDate   Y  \n",
       "1                                   <java><optional>  2016-01-01 02:03:20  HQ  \n",
       "2  <javascript><image><overlay><react-native><opa...  2016-01-01 02:48:24  HQ  \n",
       "3  <swift><operators><whitespace><ternary-operato...  2016-01-01 03:30:17  HQ  \n",
       "4  <android><material-design><floating-action-but...  2016-01-01 05:21:48  HQ  \n",
       "8  <c#><windows-10><windows-10-mobile><windows-10...  2016-01-01 09:05:45  HQ  "
      ]
     },
     "execution_count": 8,
     "metadata": {},
     "output_type": "execute_result"
    }
   ],
   "source": [
    "print(\"First 5 Records from class 'HQ'\")\n",
    "rslt_df = df.loc[df['Y'] == 'HQ']\n",
    "hq_count=len(rslt_df)\n",
    "rslt_df.head(5)"
   ]
  },
  {
   "cell_type": "markdown",
   "id": "c7a5f70a",
   "metadata": {},
   "source": [
    "2.2) Plot a bar graph of class distribution in the dataset. Each bar depicts the number of records belonging to a particular class in the dataset. (recommended - matplotlib/seaborn libraries)"
   ]
  },
  {
   "cell_type": "code",
   "execution_count": 9,
   "id": "68b53788",
   "metadata": {},
   "outputs": [
    {
     "data": {
      "image/png": "[encoded data removed]",
      "text/plain": [
       "<Figure size 720x360 with 1 Axes>"
      ]
     },
     "metadata": {
      "needs_background": "light"
     },
     "output_type": "display_data"
    }
   ],
   "source": [
    "courses = [\"LQ_Close\",\"LQ_Edit\",\"HQ\"]\n",
    "values = [lq_close_count,lq_edit_count,hq_count]\n",
    "  \n",
    "fig = plt.figure(figsize = (10, 5))\n",
    " \n",
    "# creating the bar plot\n",
    "plt.bar(courses, values, color ='maroon',\n",
    "        width = 0.4)\n",
    " \n",
    "plt.xlabel(\"CLasses in the target variable\")\n",
    "plt.ylabel(\"No. of records\")\n",
    "plt.title(\"Class Distribution in the 'train.csv' dataset\")\n",
    "plt.show()"
   ]
  },
  {
   "cell_type": "markdown",
   "id": "226f2fd9",
   "metadata": {},
   "source": [
    "2.4) Print the shapes of train and test data."
   ]
  },
  {
   "cell_type": "code",
   "execution_count": 10,
   "id": "9872f585",
   "metadata": {},
   "outputs": [
    {
     "name": "stdout",
     "output_type": "stream",
     "text": [
      "Shape of train dataset :  (45000, 6)\n",
      "Shae of test dataset   :  (15000, 6)\n"
     ]
    }
   ],
   "source": [
    "print(\"Shape of train dataset : \",df.shape)\n",
    "print(\"Shae of test dataset   : \",df_test.shape)"
   ]
  },
  {
   "cell_type": "markdown",
   "id": "23d2a4c8",
   "metadata": {},
   "source": [
    "### 3. Data Pre-processing (0.25 mark)\n",
    "\n",
    "    3.1) Need for this Step- Since the models we use cannot accept string inputs or cannot be of the string format. We have to come up with a way of handling this step. The discussion of different ways of handling this step is out of the scope of this assignment.\n",
    "    3.2) Please usethis pre-trained embedding layer  (Links to an external site.)from TensorFlow hub for this assignment. This link also has a code snippet on how to convert a sentence to a vector. Refer to that for further clarity on this subject.\n",
    "    3.3) Bring the train and test data in the required format."
   ]
  },
  {
   "cell_type": "markdown",
   "id": "4e88decf",
   "metadata": {},
   "source": [
    "We believe id and creationDate columns doesn't contribute much to the final model. hence we are removing these 2 columns. Also as the other 3 columns are text alone , we are merging them to form a single column named \"new_column\". This we believe will help in easy faster preprocessing."
   ]
  },
  {
   "cell_type": "code",
   "execution_count": 11,
   "id": "c5a4fc0c",
   "metadata": {},
   "outputs": [],
   "source": [
    "df['new_column'] =df['Title'] + df['Body']+df['Tags']\n",
    "df=df.drop(['Title'], axis = 1)\n",
    "df=df.drop(['Body'], axis = 1)\n",
    "df=df.drop(['Tags'], axis = 1)\n",
    "df=df.drop(['CreationDate'], axis = 1)\n",
    "df=df.drop(['Id'], axis = 1)\n",
    "\n",
    "df_test['new_column'] =df_test['Title'] + df_test['Body']+df_test['Tags']\n",
    "df_test=df_test.drop(['Title'], axis = 1)\n",
    "df_test=df_test.drop(['Body'], axis = 1)\n",
    "df_test=df_test.drop(['Tags'], axis = 1)\n",
    "df_test=df_test.drop(['CreationDate'], axis = 1)\n",
    "df_test=df_test.drop(['Id'], axis = 1)"
   ]
  },
  {
   "cell_type": "code",
   "execution_count": 12,
   "id": "297f5392",
   "metadata": {},
   "outputs": [
    {
     "data": {
      "text/html": [
       "<div>\n",
       "<style scoped>\n",
       "    .dataframe tbody tr th:only-of-type {\n",
       "        vertical-align: middle;\n",
       "    }\n",
       "\n",
       "    .dataframe tbody tr th {\n",
       "        vertical-align: top;\n",
       "    }\n",
       "\n",
       "    .dataframe thead th {\n",
       "        text-align: right;\n",
       "    }\n",
       "</style>\n",
       "<table border=\"1\" class=\"dataframe\">\n",
       "  <thead>\n",
       "    <tr style=\"text-align: right;\">\n",
       "      <th></th>\n",
       "      <th>Y</th>\n",
       "      <th>new_column</th>\n",
       "    </tr>\n",
       "  </thead>\n",
       "  <tbody>\n",
       "    <tr>\n",
       "      <th>0</th>\n",
       "      <td>LQ_CLOSE</td>\n",
       "      <td>Java: Repeat Task Every Random Seconds&lt;p&gt;I'm a...</td>\n",
       "    </tr>\n",
       "    <tr>\n",
       "      <th>1</th>\n",
       "      <td>HQ</td>\n",
       "      <td>Why are Java Optionals immutable?&lt;p&gt;I'd like t...</td>\n",
       "    </tr>\n",
       "    <tr>\n",
       "      <th>2</th>\n",
       "      <td>HQ</td>\n",
       "      <td>Text Overlay Image with Darkened Opacity React...</td>\n",
       "    </tr>\n",
       "    <tr>\n",
       "      <th>3</th>\n",
       "      <td>HQ</td>\n",
       "      <td>Why ternary operator in swift is so picky?&lt;p&gt;T...</td>\n",
       "    </tr>\n",
       "    <tr>\n",
       "      <th>4</th>\n",
       "      <td>HQ</td>\n",
       "      <td>hide/show fab with scale animation&lt;p&gt;I'm using...</td>\n",
       "    </tr>\n",
       "  </tbody>\n",
       "</table>\n",
       "</div>"
      ],
      "text/plain": [
       "          Y                                         new_column\n",
       "0  LQ_CLOSE  Java: Repeat Task Every Random Seconds<p>I'm a...\n",
       "1        HQ  Why are Java Optionals immutable?<p>I'd like t...\n",
       "2        HQ  Text Overlay Image with Darkened Opacity React...\n",
       "3        HQ  Why ternary operator in swift is so picky?<p>T...\n",
       "4        HQ  hide/show fab with scale animation<p>I'm using..."
      ]
     },
     "execution_count": 12,
     "metadata": {},
     "output_type": "execute_result"
    }
   ],
   "source": [
    "df.head()"
   ]
  },
  {
   "cell_type": "markdown",
   "id": "7b8253e9",
   "metadata": {},
   "source": [
    "Now we have a target variable and a single dependent variable which is a merge of all the three columns. We are doing some of the data cleaning on the text."
   ]
  },
  {
   "cell_type": "code",
   "execution_count": 13,
   "id": "72662c01",
   "metadata": {},
   "outputs": [],
   "source": [
    "import re\n",
    "def clean(sen):\n",
    "    sentence = re.sub(\"http[s]*://[^\\s]+\",\" \",sen)\n",
    "    sentence = sentence.replace(\"<\", \" \")\n",
    "    sentence = sentence.replace(\">\", \" \")\n",
    "    sentence = sentence.replace(\"  \", \" \")\n",
    "    # Remove punctuations and numbers\n",
    "    sentence = re.sub('[^a-zA-Z]', ' ', sentence)\n",
    "\n",
    "    # Single character removal\n",
    "    sentence = re.sub(r\"\\s+[a-zA-Z]\\s+\", ' ', sentence)\n",
    "    \n",
    "    # Removing multiple spaces\n",
    "    sentence = re.sub(r'\\s+', ' ', sentence)\n",
    "    \n",
    "    sentence = str(sentence).lower()\n",
    "    sentence = sentence.replace(\",000,000\", \"m\").replace(\",000\", \"k\").replace(\"′\", \"'\").replace(\"’\", \"'\")\\\n",
    "                           .replace(\"won't\", \"will not\").replace(\"cannot\", \"can not\").replace(\"can't\", \"can not\")\\\n",
    "                           .replace(\"n't\", \" not\").replace(\"what's\", \"what is\").replace(\"it's\", \"it is\")\\\n",
    "                           .replace(\"'ve\", \" have\").replace(\"i'm\", \"i am\").replace(\"'re\", \" are\")\\\n",
    "                           .replace(\"he's\", \"he is\").replace(\"she's\", \"she is\").replace(\"'s\", \" own\")\\\n",
    "                           .replace(\"%\", \" percent \").replace(\"₹\", \" rupee \").replace(\"$\", \" dollar \")\\\n",
    "                           .replace(\"€\", \" euro \").replace(\"'ll\", \" will\")\n",
    "    sentence = re.sub(r\"([0-9]+)000000\", r\"\\1m\", sentence)\n",
    "    sentence = re.sub(r\"([0-9]+)000\", r\"\\1k\", sentence)\n",
    "    sentence = re.sub(r\"\\w+:\\/{2}[\\d\\w-]+(\\.[\\d\\w-]+)*(?:(?:\\/[^\\s\\/]*))*\", \"\", sentence)\n",
    "    sentence = sentence.replace(\"_\", \" \")\n",
    "    sentence = sentence.replace(\"<\", \" \")\n",
    "    sentence = sentence.replace(\">\", \" \")\n",
    "    sentence = sentence.replace(\"  \", \" \")\n",
    "    \n",
    "    return sentence"
   ]
  },
  {
   "cell_type": "code",
   "execution_count": 14,
   "id": "b9b8543e",
   "metadata": {},
   "outputs": [],
   "source": [
    "\n",
    "pstem = PorterStemmer()\n",
    "def clean_text(text):\n",
    "    text= text.lower()\n",
    "    text= re.sub('[0-9]', '', text)\n",
    "    text  = \"\".join([char for char in text if char not in string.punctuation])\n",
    "    tokens = word_tokenize(text)\n",
    "    tokens=[pstem.stem(word) for word in tokens]\n",
    "    #tokens=[word for word in tokens if word not in stopwords.words('english')]\n",
    "    text = ' '.join(tokens)\n",
    "    return text"
   ]
  },
  {
   "cell_type": "code",
   "execution_count": 15,
   "id": "51c003c4",
   "metadata": {},
   "outputs": [],
   "source": [
    "#Applying the data cleaning on \"new_column\" alone\n",
    "df['new_column'] = df['new_column'].apply(lambda s : clean(s))\n",
    "df_test['new_column'] = df_test['new_column'].apply(lambda s : clean(s))"
   ]
  },
  {
   "cell_type": "markdown",
   "id": "7d4053f6",
   "metadata": {},
   "source": [
    "This is a multiclass classification problem. but one of the methods of loss calculation  \"Categorical_crossentropy\",which we are going to use further, need target column one hot encoded. Hence doing that. We are using \"category_encoders\" library for that purpose. "
   ]
  },
  {
   "cell_type": "code",
   "execution_count": 16,
   "id": "acd6284a",
   "metadata": {},
   "outputs": [
    {
     "data": {
      "text/html": [
       "<div>\n",
       "<style scoped>\n",
       "    .dataframe tbody tr th:only-of-type {\n",
       "        vertical-align: middle;\n",
       "    }\n",
       "\n",
       "    .dataframe tbody tr th {\n",
       "        vertical-align: top;\n",
       "    }\n",
       "\n",
       "    .dataframe thead th {\n",
       "        text-align: right;\n",
       "    }\n",
       "</style>\n",
       "<table border=\"1\" class=\"dataframe\">\n",
       "  <thead>\n",
       "    <tr style=\"text-align: right;\">\n",
       "      <th></th>\n",
       "      <th>Y_1</th>\n",
       "      <th>Y_2</th>\n",
       "      <th>Y_3</th>\n",
       "    </tr>\n",
       "  </thead>\n",
       "  <tbody>\n",
       "    <tr>\n",
       "      <th>0</th>\n",
       "      <td>1</td>\n",
       "      <td>0</td>\n",
       "      <td>0</td>\n",
       "    </tr>\n",
       "    <tr>\n",
       "      <th>1</th>\n",
       "      <td>0</td>\n",
       "      <td>1</td>\n",
       "      <td>0</td>\n",
       "    </tr>\n",
       "    <tr>\n",
       "      <th>2</th>\n",
       "      <td>0</td>\n",
       "      <td>1</td>\n",
       "      <td>0</td>\n",
       "    </tr>\n",
       "    <tr>\n",
       "      <th>3</th>\n",
       "      <td>0</td>\n",
       "      <td>1</td>\n",
       "      <td>0</td>\n",
       "    </tr>\n",
       "    <tr>\n",
       "      <th>4</th>\n",
       "      <td>0</td>\n",
       "      <td>1</td>\n",
       "      <td>0</td>\n",
       "    </tr>\n",
       "    <tr>\n",
       "      <th>...</th>\n",
       "      <td>...</td>\n",
       "      <td>...</td>\n",
       "      <td>...</td>\n",
       "    </tr>\n",
       "    <tr>\n",
       "      <th>44995</th>\n",
       "      <td>1</td>\n",
       "      <td>0</td>\n",
       "      <td>0</td>\n",
       "    </tr>\n",
       "    <tr>\n",
       "      <th>44996</th>\n",
       "      <td>1</td>\n",
       "      <td>0</td>\n",
       "      <td>0</td>\n",
       "    </tr>\n",
       "    <tr>\n",
       "      <th>44997</th>\n",
       "      <td>1</td>\n",
       "      <td>0</td>\n",
       "      <td>0</td>\n",
       "    </tr>\n",
       "    <tr>\n",
       "      <th>44998</th>\n",
       "      <td>1</td>\n",
       "      <td>0</td>\n",
       "      <td>0</td>\n",
       "    </tr>\n",
       "    <tr>\n",
       "      <th>44999</th>\n",
       "      <td>1</td>\n",
       "      <td>0</td>\n",
       "      <td>0</td>\n",
       "    </tr>\n",
       "  </tbody>\n",
       "</table>\n",
       "<p>45000 rows × 3 columns</p>\n",
       "</div>"
      ],
      "text/plain": [
       "       Y_1  Y_2  Y_3\n",
       "0        1    0    0\n",
       "1        0    1    0\n",
       "2        0    1    0\n",
       "3        0    1    0\n",
       "4        0    1    0\n",
       "...    ...  ...  ...\n",
       "44995    1    0    0\n",
       "44996    1    0    0\n",
       "44997    1    0    0\n",
       "44998    1    0    0\n",
       "44999    1    0    0\n",
       "\n",
       "[45000 rows x 3 columns]"
      ]
     },
     "execution_count": 16,
     "metadata": {},
     "output_type": "execute_result"
    }
   ],
   "source": [
    "import category_encoders as ce\n",
    "enc=ce.OneHotEncoder().fit(df.Y.astype(str))\n",
    "y_train=enc.transform(df.Y.astype(str))\n",
    "y_test=enc.transform(df_test.Y.astype(str))\n",
    "y_train"
   ]
  },
  {
   "cell_type": "markdown",
   "id": "e96523f3",
   "metadata": {},
   "source": [
    "As you can see above the target class is one hot encoded."
   ]
  },
  {
   "cell_type": "markdown",
   "id": "e06375f8",
   "metadata": {},
   "source": [
    "Creating X_train and X_test as well. \n",
    "NB: We are using the pre-trained embedding layer mentioned in the assignement doc. This can be found in the model building."
   ]
  },
  {
   "cell_type": "code",
   "execution_count": 17,
   "id": "a85d27c4",
   "metadata": {},
   "outputs": [],
   "source": [
    "X_train= df.loc[:,\"new_column\"].values\n",
    "X_test= df_test.loc[:,\"new_column\"].values"
   ]
  },
  {
   "cell_type": "markdown",
   "id": "66033efa",
   "metadata": {},
   "source": [
    "### 4. Model Building (0.2*5 = 1 mark)\n",
    "\n",
    "    4.1) Sequential Model layers- Use AT LEAST 3 hidden layers with appropriate input for each. Choose the best number for hidden units and give reasons.\n",
    "    4.2) Add L2 regularization to all the layers.\n",
    "    4.3) Add one layer of dropout at the appropriate position and give reasons.\n",
    "    4.4) Choose the appropriate activation function for all the layers.\n",
    "    4.5) Print the model summary.\n",
    "\n"
   ]
  },
  {
   "cell_type": "markdown",
   "id": "16edde42",
   "metadata": {},
   "source": [
    "We are using the pre-trained embedding layer as the input layer in the model itself. "
   ]
  },
  {
   "cell_type": "code",
   "execution_count": 18,
   "id": "de5479c7",
   "metadata": {},
   "outputs": [
    {
     "data": {
      "text/plain": [
       "<tf.Tensor: shape=(2, 50), dtype=float32, numpy=\n",
       "array([[ 0.26956385,  0.04050004, -0.24926104,  0.3087234 , -0.32712469,\n",
       "         0.00193068,  0.09223743,  0.1043215 , -0.6590992 ,  0.08129664,\n",
       "         0.17734075,  0.4372105 ,  0.00855245, -0.02426872, -0.1749076 ,\n",
       "         0.00441667,  0.13147244,  0.09690314,  0.32951882, -0.27148393,\n",
       "        -0.05613416,  0.04679623,  0.5236824 ,  0.1516279 , -0.2895582 ,\n",
       "        -0.04838496, -0.78190535,  0.02098067,  0.15631966, -0.15920608,\n",
       "        -0.22979917,  0.00688432,  0.32035327, -0.21778315, -0.08967689,\n",
       "        -0.29345253, -0.01968948,  0.00738264,  0.23452726, -0.34164125,\n",
       "         0.24296069, -0.02866838,  0.15235467, -0.00561646, -0.08400645,\n",
       "        -0.1662706 , -0.33677325,  0.04635826,  0.5817427 ,  0.43566057],\n",
       "       [ 0.06916745,  0.01189587, -0.2862562 ,  0.04370061,  0.13957863,\n",
       "        -0.21098867,  0.13937637,  0.0576307 , -0.577448  ,  0.3118049 ,\n",
       "        -0.14272203,  0.17141624, -0.23612098, -0.23761448, -0.08516274,\n",
       "         0.11159249, -0.01565726, -0.09148737,  0.25725594, -0.29154497,\n",
       "         0.00406863, -0.06031357,  0.26946932,  0.04799907, -0.45496392,\n",
       "         0.03447291, -0.22896901, -0.17778891,  0.16707037, -0.05855402,\n",
       "        -0.11051057,  0.21429956,  0.2059907 , -0.21757181, -0.10303921,\n",
       "        -0.19651642,  0.21579799,  0.07851406,  0.3115941 , -0.12927762,\n",
       "         0.27228013,  0.28608212,  0.08968446,  0.19325247, -0.31187826,\n",
       "        -0.05050195,  0.05504026, -0.05879297,  0.34157205,  0.33364213]],\n",
       "      dtype=float32)>"
      ]
     },
     "execution_count": 18,
     "metadata": {},
     "output_type": "execute_result"
    }
   ],
   "source": [
    "model = \"https://tfhub.dev/google/nnlm-en-dim50/2\"\n",
    "hub_layer = hub.KerasLayer(model, input_shape=[], dtype=tf.string, trainable=True)\n",
    "hub_layer(X_train[:2]) #printing a sample of how the pre-trained embedding layer converts X_train."
   ]
  },
  {
   "cell_type": "markdown",
   "id": "b69fac07",
   "metadata": {},
   "source": [
    "L2 regularization is applied all hiden layers as specified.\n",
    "The Dropout layer randomly sets input units to 0 with a frequency of rate at each step during training time, which helps prevent overfitting. Inputs not set to 0 are scaled up by 1/(1 - rate) such that the sum over all inputs is unchanged."
   ]
  },
  {
   "cell_type": "code",
   "execution_count": 19,
   "id": "2d52550d",
   "metadata": {},
   "outputs": [
    {
     "name": "stdout",
     "output_type": "stream",
     "text": [
      "Model: \"sequential\"\n",
      "_________________________________________________________________\n",
      " Layer (type)                Output Shape              Param #   \n",
      "=================================================================\n",
      " keras_layer (KerasLayer)    (None, 50)                48190600  \n",
      "                                                                 \n",
      " dense (Dense)               (None, 50)                2550      \n",
      "                                                                 \n",
      " dense_1 (Dense)             (None, 25)                1275      \n",
      "                                                                 \n",
      " dropout (Dropout)           (None, 25)                0         \n",
      "                                                                 \n",
      " dense_2 (Dense)             (None, 9)                 234       \n",
      "                                                                 \n",
      " dense_3 (Dense)             (None, 3)                 30        \n",
      "                                                                 \n",
      "=================================================================\n",
      "Total params: 48,194,689\n",
      "Trainable params: 48,194,689\n",
      "Non-trainable params: 0\n",
      "_________________________________________________________________\n"
     ]
    }
   ],
   "source": [
    "model = tf.keras.Sequential()\n",
    "model.add(hub_layer)\n",
    "model.add(tf.keras.layers.Dense(50, activation='relu',kernel_regularizer=tf.keras.regularizers.l2(l=0.1)))\n",
    "model.add(tf.keras.layers.Dense(25, activation='relu',kernel_regularizer=tf.keras.regularizers.l2(l=0.1)))\n",
    "model.add(tf.keras.layers.Dropout(0.5, noise_shape=None, seed=None))\n",
    "model.add(tf.keras.layers.Dense(9, activation='relu',kernel_regularizer=tf.keras.regularizers.l2(l=0.1)))\n",
    "model.add(tf.keras.layers.Dense(3))\n",
    "\n",
    "model.summary()"
   ]
  },
  {
   "cell_type": "markdown",
   "id": "8950a41a",
   "metadata": {},
   "source": [
    "### 5. Model Compilation (0.25 mark)\n",
    "    5.1) Compile the model with the appropriate loss function.\n",
    "    5.2) Use an appropriate optimizer. Give reasons for the choice of learning rate and its value.\n",
    "    5.3) Use accuracy as a metric.\n",
    "\n"
   ]
  },
  {
   "cell_type": "code",
   "execution_count": 20,
   "id": "e849d47f",
   "metadata": {},
   "outputs": [],
   "source": [
    "model.compile(optimizer='adam',\n",
    "              loss=tf.losses.CategoricalCrossentropy(from_logits=True),\n",
    "              metrics=[tf.metrics.BinaryAccuracy(threshold=0.0, name='accuracy')])"
   ]
  },
  {
   "cell_type": "markdown",
   "id": "b8acbb11",
   "metadata": {},
   "source": [
    "### 6. Model Training (0.5 + 0.25 = 0.75 mark)\n",
    "\n",
    "    6.1) Train the model for an appropriate number of epochs. Print the train and validation accuracy and loss for each epoch. Use the appropriate batch size.\n",
    "    6.2) Plot the loss and accuracy history graphs for both train and validation set. Print the total time taken for training.\n"
   ]
  },
  {
   "cell_type": "markdown",
   "id": "9f745fbf",
   "metadata": {},
   "source": [
    "6.1) Train the model for an appropriate number of epochs. Print the train and validation accuracy and loss for each epoch. Use the appropriate batch size."
   ]
  },
  {
   "cell_type": "code",
   "execution_count": 21,
   "id": "bb97c9ca",
   "metadata": {},
   "outputs": [
    {
     "name": "stdout",
     "output_type": "stream",
     "text": [
      "Epoch 1/50\n",
      "88/88 [==============================] - 5s 33ms/step - loss: 7.3950 - accuracy: 0.6126 - val_loss: 4.6499 - val_accuracy: 0.7188\n",
      "Epoch 2/50\n",
      "88/88 [==============================] - 3s 31ms/step - loss: 3.2688 - accuracy: 0.6975 - val_loss: 2.2388 - val_accuracy: 0.7652\n",
      "Epoch 3/50\n",
      "88/88 [==============================] - 3s 31ms/step - loss: 1.7525 - accuracy: 0.7339 - val_loss: 1.3718 - val_accuracy: 0.7612\n",
      "Epoch 4/50\n",
      "88/88 [==============================] - 3s 30ms/step - loss: 1.2045 - accuracy: 0.7373 - val_loss: 1.0471 - val_accuracy: 0.7542\n",
      "Epoch 5/50\n",
      "88/88 [==============================] - 3s 30ms/step - loss: 0.9862 - accuracy: 0.7181 - val_loss: 0.9061 - val_accuracy: 0.7075\n",
      "Epoch 6/50\n",
      "88/88 [==============================] - 3s 30ms/step - loss: 0.8836 - accuracy: 0.7028 - val_loss: 0.8315 - val_accuracy: 0.7164\n",
      "Epoch 7/50\n",
      "88/88 [==============================] - 3s 30ms/step - loss: 0.8221 - accuracy: 0.7048 - val_loss: 0.7882 - val_accuracy: 0.7122\n",
      "Epoch 8/50\n",
      "88/88 [==============================] - 3s 30ms/step - loss: 0.7831 - accuracy: 0.7073 - val_loss: 0.7601 - val_accuracy: 0.7153\n",
      "Epoch 9/50\n",
      "88/88 [==============================] - 3s 31ms/step - loss: 0.7534 - accuracy: 0.7066 - val_loss: 0.7398 - val_accuracy: 0.7020\n",
      "Epoch 10/50\n",
      "88/88 [==============================] - 3s 31ms/step - loss: 0.7339 - accuracy: 0.7076 - val_loss: 0.7281 - val_accuracy: 0.7137\n",
      "Epoch 11/50\n",
      "88/88 [==============================] - 3s 30ms/step - loss: 0.7167 - accuracy: 0.7080 - val_loss: 0.7159 - val_accuracy: 0.7076\n",
      "Epoch 12/50\n",
      "88/88 [==============================] - 3s 30ms/step - loss: 0.7022 - accuracy: 0.7038 - val_loss: 0.7100 - val_accuracy: 0.6794\n",
      "Epoch 13/50\n",
      "88/88 [==============================] - 3s 30ms/step - loss: 0.6902 - accuracy: 0.7087 - val_loss: 0.7034 - val_accuracy: 0.7068\n",
      "Epoch 14/50\n",
      "88/88 [==============================] - 3s 30ms/step - loss: 0.6815 - accuracy: 0.7044 - val_loss: 0.6949 - val_accuracy: 0.6834\n",
      "Epoch 15/50\n",
      "88/88 [==============================] - 3s 30ms/step - loss: 0.6710 - accuracy: 0.7103 - val_loss: 0.6923 - val_accuracy: 0.6733\n",
      "Epoch 16/50\n",
      "88/88 [==============================] - 3s 32ms/step - loss: 0.6613 - accuracy: 0.7066 - val_loss: 0.6895 - val_accuracy: 0.7106\n",
      "Epoch 17/50\n",
      "88/88 [==============================] - 3s 31ms/step - loss: 0.6551 - accuracy: 0.7084 - val_loss: 0.6943 - val_accuracy: 0.6738\n",
      "Epoch 18/50\n",
      "88/88 [==============================] - 3s 31ms/step - loss: 0.6486 - accuracy: 0.7076 - val_loss: 0.6827 - val_accuracy: 0.6758\n",
      "Epoch 19/50\n",
      "88/88 [==============================] - 3s 31ms/step - loss: 0.6416 - accuracy: 0.7103 - val_loss: 0.6808 - val_accuracy: 0.7248\n",
      "Epoch 20/50\n",
      "88/88 [==============================] - 3s 31ms/step - loss: 0.6343 - accuracy: 0.7117 - val_loss: 0.6793 - val_accuracy: 0.7256\n",
      "Epoch 21/50\n",
      "88/88 [==============================] - 3s 31ms/step - loss: 0.6288 - accuracy: 0.7186 - val_loss: 0.6778 - val_accuracy: 0.6831\n",
      "Epoch 22/50\n",
      "88/88 [==============================] - 3s 31ms/step - loss: 0.6221 - accuracy: 0.7236 - val_loss: 0.6771 - val_accuracy: 0.6858\n",
      "Epoch 23/50\n",
      "88/88 [==============================] - 3s 32ms/step - loss: 0.6138 - accuracy: 0.7235 - val_loss: 0.6759 - val_accuracy: 0.7349\n",
      "Epoch 24/50\n",
      "88/88 [==============================] - 3s 31ms/step - loss: 0.6113 - accuracy: 0.7264 - val_loss: 0.6792 - val_accuracy: 0.6743\n",
      "Epoch 25/50\n",
      "88/88 [==============================] - 3s 31ms/step - loss: 0.6040 - accuracy: 0.7321 - val_loss: 0.6766 - val_accuracy: 0.7123\n",
      "Epoch 26/50\n",
      "88/88 [==============================] - 3s 33ms/step - loss: 0.6006 - accuracy: 0.7327 - val_loss: 0.6772 - val_accuracy: 0.7380\n",
      "Epoch 27/50\n",
      "88/88 [==============================] - 3s 31ms/step - loss: 0.5979 - accuracy: 0.7418 - val_loss: 0.6763 - val_accuracy: 0.7365\n",
      "Epoch 28/50\n",
      "88/88 [==============================] - 3s 31ms/step - loss: 0.5918 - accuracy: 0.7347 - val_loss: 0.6800 - val_accuracy: 0.7290\n",
      "Epoch 29/50\n",
      "88/88 [==============================] - 3s 31ms/step - loss: 0.5896 - accuracy: 0.7461 - val_loss: 0.6820 - val_accuracy: 0.7383\n",
      "Epoch 30/50\n",
      "88/88 [==============================] - 3s 31ms/step - loss: 0.5845 - accuracy: 0.7498 - val_loss: 0.6799 - val_accuracy: 0.6771\n",
      "Epoch 31/50\n",
      "88/88 [==============================] - 3s 31ms/step - loss: 0.5807 - accuracy: 0.7546 - val_loss: 0.6830 - val_accuracy: 0.6756\n",
      "Epoch 32/50\n",
      "88/88 [==============================] - 3s 32ms/step - loss: 0.5797 - accuracy: 0.7472 - val_loss: 0.6804 - val_accuracy: 0.7396\n",
      "Epoch 33/50\n",
      "88/88 [==============================] - 3s 31ms/step - loss: 0.5729 - accuracy: 0.7585 - val_loss: 0.6787 - val_accuracy: 0.7367\n",
      "Epoch 34/50\n",
      "88/88 [==============================] - 3s 31ms/step - loss: 0.5706 - accuracy: 0.7596 - val_loss: 0.6853 - val_accuracy: 0.7384\n",
      "Epoch 35/50\n",
      "88/88 [==============================] - 3s 31ms/step - loss: 0.5633 - accuracy: 0.7597 - val_loss: 0.6861 - val_accuracy: 0.7371\n",
      "Epoch 36/50\n",
      "88/88 [==============================] - 3s 31ms/step - loss: 0.5622 - accuracy: 0.7660 - val_loss: 0.6838 - val_accuracy: 0.7411\n",
      "Epoch 37/50\n",
      "88/88 [==============================] - 3s 31ms/step - loss: 0.5607 - accuracy: 0.7676 - val_loss: 0.6826 - val_accuracy: 0.7391\n",
      "Epoch 38/50\n",
      "88/88 [==============================] - 3s 31ms/step - loss: 0.5561 - accuracy: 0.7717 - val_loss: 0.6909 - val_accuracy: 0.7399\n",
      "Epoch 39/50\n",
      "88/88 [==============================] - 3s 31ms/step - loss: 0.5523 - accuracy: 0.7760 - val_loss: 0.6931 - val_accuracy: 0.7381\n",
      "Epoch 40/50\n",
      "88/88 [==============================] - 3s 31ms/step - loss: 0.5514 - accuracy: 0.7686 - val_loss: 0.7018 - val_accuracy: 0.7382\n",
      "Epoch 41/50\n",
      "88/88 [==============================] - 3s 31ms/step - loss: 0.5486 - accuracy: 0.7787 - val_loss: 0.6959 - val_accuracy: 0.7434\n",
      "Epoch 42/50\n",
      "88/88 [==============================] - 3s 32ms/step - loss: 0.5484 - accuracy: 0.7779 - val_loss: 0.6934 - val_accuracy: 0.7419\n",
      "Epoch 43/50\n",
      "88/88 [==============================] - 3s 31ms/step - loss: 0.5425 - accuracy: 0.7789 - val_loss: 0.7090 - val_accuracy: 0.7382\n",
      "Epoch 44/50\n",
      "88/88 [==============================] - 3s 31ms/step - loss: 0.5364 - accuracy: 0.7816 - val_loss: 0.7077 - val_accuracy: 0.7398\n",
      "Epoch 45/50\n",
      "88/88 [==============================] - 3s 31ms/step - loss: 0.5357 - accuracy: 0.7836 - val_loss: 0.6987 - val_accuracy: 0.7412\n",
      "Epoch 46/50\n",
      "88/88 [==============================] - 3s 31ms/step - loss: 0.5347 - accuracy: 0.7833 - val_loss: 0.7033 - val_accuracy: 0.7414\n",
      "Epoch 47/50\n",
      "88/88 [==============================] - 3s 31ms/step - loss: 0.5312 - accuracy: 0.7851 - val_loss: 0.7170 - val_accuracy: 0.7397\n",
      "Epoch 48/50\n",
      "88/88 [==============================] - 3s 31ms/step - loss: 0.5303 - accuracy: 0.7871 - val_loss: 0.7033 - val_accuracy: 0.7444\n",
      "Epoch 49/50\n",
      "88/88 [==============================] - 3s 31ms/step - loss: 0.5254 - accuracy: 0.7858 - val_loss: 0.7164 - val_accuracy: 0.7436\n",
      "Epoch 50/50\n",
      "88/88 [==============================] - 3s 30ms/step - loss: 0.5256 - accuracy: 0.7877 - val_loss: 0.7176 - val_accuracy: 0.7412\n"
     ]
    }
   ],
   "source": [
    "t1_start=process_time()\n",
    "history = model.fit(X_train,\n",
    "                    y_train,\n",
    "                    epochs=50,\n",
    "                    batch_size=512,\n",
    "                    validation_data=(X_test, y_test),\n",
    "                    verbose=1)\n",
    "\n",
    "t1_stop=process_time()\n"
   ]
  },
  {
   "cell_type": "code",
   "execution_count": 22,
   "id": "2092b552",
   "metadata": {},
   "outputs": [
    {
     "name": "stdout",
     "output_type": "stream",
     "text": [
      "Time Taken for training (seconds):  184.046875\n"
     ]
    }
   ],
   "source": [
    "print(\"Time Taken for training (seconds): \",round((t1_stop-t1_start),6))"
   ]
  },
  {
   "cell_type": "markdown",
   "id": "7c5c465c",
   "metadata": {},
   "source": [
    "6.2) Plot the loss and accuracy history graphs for both train and validation set. Print the total time taken for training."
   ]
  },
  {
   "cell_type": "code",
   "execution_count": 23,
   "id": "d55a6077",
   "metadata": {},
   "outputs": [
    {
     "data": {
      "image/png": "[encoded data removed]",
      "text/plain": [
       "<Figure size 432x288 with 1 Axes>"
      ]
     },
     "metadata": {
      "needs_background": "light"
     },
     "output_type": "display_data"
    }
   ],
   "source": [
    "history_dict = history.history\n",
    "history_dict.keys()\n",
    "\n",
    "acc = history_dict['accuracy']\n",
    "val_acc = history_dict['val_accuracy']\n",
    "loss = history_dict['loss']\n",
    "val_loss = history_dict['val_loss']\n",
    "\n",
    "epochs = range(1, len(acc) + 1)\n",
    "\n",
    "# \"bo\" is for \"blue dot\"\n",
    "plt.plot(epochs, loss, 'bo', label='Training loss')\n",
    "# b is for \"solid blue line\"\n",
    "plt.plot(epochs, val_loss, 'b', label='Validation loss')\n",
    "plt.title('Training and validation loss')\n",
    "plt.xlabel('Epochs')\n",
    "plt.ylabel('Loss')\n",
    "plt.legend()\n",
    "\n",
    "plt.show()"
   ]
  },
  {
   "cell_type": "code",
   "execution_count": 24,
   "id": "3710dba4",
   "metadata": {},
   "outputs": [
    {
     "data": {
      "image/png": "[encoded data removed]",
      "text/plain": [
       "<Figure size 432x288 with 1 Axes>"
      ]
     },
     "metadata": {
      "needs_background": "light"
     },
     "output_type": "display_data"
    }
   ],
   "source": [
    "plt.clf()   # clear figure\n",
    "\n",
    "plt.plot(epochs, acc, 'bo', label='Training acc')\n",
    "plt.plot(epochs, val_acc, 'b', label='Validation acc')\n",
    "plt.title('Training and validation accuracy')\n",
    "plt.xlabel('Epochs')\n",
    "plt.ylabel('Accuracy')\n",
    "plt.legend()\n",
    "\n",
    "plt.show()"
   ]
  },
  {
   "cell_type": "markdown",
   "id": "7555a6cf",
   "metadata": {},
   "source": [
    "### 7. Model Evaluation (0.5 + 0.5 = 1 mark)\n",
    "\n",
    "    7.1) Print the final train and validation loss and accuracy. Print confusion matrix and classification report for the validation dataset. Analyse and report the best and worst performing class.\n",
    "    7.2) Print the two most incorrectly classified records for each class in the test dataset.\n"
   ]
  },
  {
   "cell_type": "code",
   "execution_count": 25,
   "id": "879b6eea",
   "metadata": {},
   "outputs": [
    {
     "name": "stdout",
     "output_type": "stream",
     "text": [
      "469/469 [==============================] - 1s 3ms/step - loss: 0.7176 - accuracy: 0.7412\n",
      "[0.7176137566566467, 0.7411777973175049]\n"
     ]
    }
   ],
   "source": [
    "results = model.evaluate(X_test,y_test)\n",
    "\n",
    "print(results)"
   ]
  },
  {
   "cell_type": "markdown",
   "id": "7232b94f",
   "metadata": {},
   "source": [
    "### 8. Hyperparameter Tuning- \n",
    "\n",
    "Build two more models by changing the following hyperparameters one at a time. Write the code for Model Building, Model Compilation, Model Training and Model Evaluation as given in the instructions above for each additional model. (1 + 1 = 2 marks)\n",
    "\n",
    "    8.1) Regularization: Train a model without regularization\n",
    "    8.2) Dropout:Change the position and value of dropout layer\n",
    "\n",
    "Write a comparison between each model and give reasons for the difference in results."
   ]
  },
  {
   "cell_type": "markdown",
   "id": "fed414e8",
   "metadata": {},
   "source": [
    "8.1) Regularization: Train a model without regularization"
   ]
  },
  {
   "cell_type": "code",
   "execution_count": 26,
   "id": "b8cd5fc9",
   "metadata": {},
   "outputs": [
    {
     "name": "stdout",
     "output_type": "stream",
     "text": [
      "Model: \"sequential_1\"\n",
      "_________________________________________________________________\n",
      " Layer (type)                Output Shape              Param #   \n",
      "=================================================================\n",
      " keras_layer (KerasLayer)    (None, 50)                48190600  \n",
      "                                                                 \n",
      " dense_4 (Dense)             (None, 50)                2550      \n",
      "                                                                 \n",
      " dense_5 (Dense)             (None, 25)                1275      \n",
      "                                                                 \n",
      " dropout_1 (Dropout)         (None, 25)                0         \n",
      "                                                                 \n",
      " dense_6 (Dense)             (None, 9)                 234       \n",
      "                                                                 \n",
      " dense_7 (Dense)             (None, 3)                 30        \n",
      "                                                                 \n",
      "=================================================================\n",
      "Total params: 48,194,689\n",
      "Trainable params: 48,194,689\n",
      "Non-trainable params: 0\n",
      "_________________________________________________________________\n"
     ]
    }
   ],
   "source": [
    "model_noreg = tf.keras.Sequential()\n",
    "model_noreg.add(hub_layer)\n",
    "model_noreg.add(tf.keras.layers.Dense(50, activation='relu'))\n",
    "model_noreg.add(tf.keras.layers.Dense(25, activation='relu'))\n",
    "model_noreg.add(tf.keras.layers.Dropout(0.5, noise_shape=None, seed=None))\n",
    "model_noreg.add(tf.keras.layers.Dense(9, activation='relu'))\n",
    "model_noreg.add(tf.keras.layers.Dense(3))\n",
    "\n",
    "model_noreg.summary()"
   ]
  },
  {
   "cell_type": "code",
   "execution_count": 27,
   "id": "639e0cde",
   "metadata": {},
   "outputs": [],
   "source": [
    "model_noreg.compile(optimizer='adam',\n",
    "              loss=tf.losses.CategoricalCrossentropy(from_logits=True),\n",
    "              metrics=[tf.metrics.BinaryAccuracy(threshold=0.0, name='accuracy')])"
   ]
  },
  {
   "cell_type": "code",
   "execution_count": 28,
   "id": "13976561",
   "metadata": {},
   "outputs": [
    {
     "name": "stdout",
     "output_type": "stream",
     "text": [
      "Epoch 1/50\n",
      "88/88 [==============================] - 3s 32ms/step - loss: 0.7057 - accuracy: 0.7107 - val_loss: 0.5642 - val_accuracy: 0.7451\n",
      "Epoch 2/50\n",
      "88/88 [==============================] - 3s 31ms/step - loss: 0.3466 - accuracy: 0.7457 - val_loss: 0.5655 - val_accuracy: 0.7219\n",
      "Epoch 3/50\n",
      "88/88 [==============================] - 3s 31ms/step - loss: 0.2843 - accuracy: 0.7328 - val_loss: 0.5691 - val_accuracy: 0.6688\n",
      "Epoch 4/50\n",
      "88/88 [==============================] - 3s 32ms/step - loss: 0.2535 - accuracy: 0.7309 - val_loss: 0.5788 - val_accuracy: 0.6680\n",
      "Epoch 5/50\n",
      "88/88 [==============================] - 3s 32ms/step - loss: 0.2260 - accuracy: 0.7404 - val_loss: 0.5982 - val_accuracy: 0.7210\n",
      "Epoch 6/50\n",
      "88/88 [==============================] - 3s 31ms/step - loss: 0.2034 - accuracy: 0.7482 - val_loss: 0.6236 - val_accuracy: 0.7285\n",
      "Epoch 7/50\n",
      "88/88 [==============================] - 3s 31ms/step - loss: 0.1872 - accuracy: 0.7566 - val_loss: 0.6275 - val_accuracy: 0.7076\n",
      "Epoch 8/50\n",
      "88/88 [==============================] - 3s 31ms/step - loss: 0.1666 - accuracy: 0.7604 - val_loss: 0.6710 - val_accuracy: 0.7411\n",
      "Epoch 9/50\n",
      "88/88 [==============================] - 3s 31ms/step - loss: 0.1496 - accuracy: 0.7644 - val_loss: 0.6744 - val_accuracy: 0.7026\n",
      "Epoch 10/50\n",
      "88/88 [==============================] - 3s 31ms/step - loss: 0.1346 - accuracy: 0.7707 - val_loss: 0.7303 - val_accuracy: 0.7413\n",
      "Epoch 11/50\n",
      "88/88 [==============================] - 3s 31ms/step - loss: 0.1179 - accuracy: 0.7832 - val_loss: 0.7860 - val_accuracy: 0.7611\n",
      "Epoch 12/50\n",
      "88/88 [==============================] - 3s 32ms/step - loss: 0.1051 - accuracy: 0.7912 - val_loss: 0.8074 - val_accuracy: 0.7576\n",
      "Epoch 13/50\n",
      "88/88 [==============================] - 3s 31ms/step - loss: 0.0950 - accuracy: 0.8016 - val_loss: 0.8922 - val_accuracy: 0.7838\n",
      "Epoch 14/50\n",
      "88/88 [==============================] - 3s 32ms/step - loss: 0.0830 - accuracy: 0.8131 - val_loss: 0.9501 - val_accuracy: 0.7927\n",
      "Epoch 15/50\n",
      "88/88 [==============================] - 3s 31ms/step - loss: 0.0743 - accuracy: 0.8258 - val_loss: 1.0478 - val_accuracy: 0.8034\n",
      "Epoch 16/50\n",
      "88/88 [==============================] - 3s 32ms/step - loss: 0.0681 - accuracy: 0.8331 - val_loss: 1.0611 - val_accuracy: 0.8210\n",
      "Epoch 17/50\n",
      "88/88 [==============================] - 3s 31ms/step - loss: 0.0608 - accuracy: 0.8453 - val_loss: 1.1095 - val_accuracy: 0.8260\n",
      "Epoch 18/50\n",
      "88/88 [==============================] - 3s 32ms/step - loss: 0.0508 - accuracy: 0.8553 - val_loss: 1.1798 - val_accuracy: 0.8256\n",
      "Epoch 19/50\n",
      "88/88 [==============================] - 3s 31ms/step - loss: 0.0465 - accuracy: 0.8678 - val_loss: 1.2551 - val_accuracy: 0.8370\n",
      "Epoch 20/50\n",
      "88/88 [==============================] - 3s 32ms/step - loss: 0.0419 - accuracy: 0.8816 - val_loss: 1.3169 - val_accuracy: 0.8506\n",
      "Epoch 21/50\n",
      "88/88 [==============================] - 3s 30ms/step - loss: 0.0389 - accuracy: 0.8859 - val_loss: 1.4031 - val_accuracy: 0.8470\n",
      "Epoch 22/50\n",
      "88/88 [==============================] - 3s 32ms/step - loss: 0.0367 - accuracy: 0.8997 - val_loss: 1.4420 - val_accuracy: 0.8492\n",
      "Epoch 23/50\n",
      "88/88 [==============================] - 3s 31ms/step - loss: 0.0342 - accuracy: 0.8998 - val_loss: 1.5098 - val_accuracy: 0.8550\n",
      "Epoch 24/50\n",
      "88/88 [==============================] - 3s 31ms/step - loss: 0.0272 - accuracy: 0.9101 - val_loss: 1.6067 - val_accuracy: 0.8541\n",
      "Epoch 25/50\n",
      "88/88 [==============================] - 3s 30ms/step - loss: 0.0249 - accuracy: 0.9143 - val_loss: 1.6734 - val_accuracy: 0.8584\n",
      "Epoch 26/50\n",
      "88/88 [==============================] - 3s 31ms/step - loss: 0.0225 - accuracy: 0.9180 - val_loss: 1.7320 - val_accuracy: 0.8601\n",
      "Epoch 27/50\n",
      "88/88 [==============================] - 3s 31ms/step - loss: 0.0199 - accuracy: 0.9237 - val_loss: 1.8307 - val_accuracy: 0.8583\n",
      "Epoch 28/50\n",
      "88/88 [==============================] - 3s 30ms/step - loss: 0.0183 - accuracy: 0.9249 - val_loss: 1.8563 - val_accuracy: 0.8594\n",
      "Epoch 29/50\n",
      "88/88 [==============================] - 3s 30ms/step - loss: 0.0182 - accuracy: 0.9310 - val_loss: 1.9589 - val_accuracy: 0.8602\n",
      "Epoch 30/50\n",
      "88/88 [==============================] - 3s 31ms/step - loss: 0.0139 - accuracy: 0.9305 - val_loss: 2.0724 - val_accuracy: 0.8610\n",
      "Epoch 31/50\n",
      "88/88 [==============================] - 3s 31ms/step - loss: 0.0137 - accuracy: 0.9333 - val_loss: 2.1181 - val_accuracy: 0.8605\n",
      "Epoch 32/50\n",
      "88/88 [==============================] - 3s 31ms/step - loss: 0.0137 - accuracy: 0.9315 - val_loss: 2.2101 - val_accuracy: 0.8632\n",
      "Epoch 33/50\n",
      "88/88 [==============================] - 3s 31ms/step - loss: 0.0147 - accuracy: 0.9335 - val_loss: 2.1835 - val_accuracy: 0.8602\n",
      "Epoch 34/50\n",
      "88/88 [==============================] - 3s 31ms/step - loss: 0.0130 - accuracy: 0.9409 - val_loss: 2.2393 - val_accuracy: 0.8638\n",
      "Epoch 35/50\n",
      "88/88 [==============================] - 3s 31ms/step - loss: 0.0130 - accuracy: 0.9400 - val_loss: 2.2813 - val_accuracy: 0.8620\n",
      "Epoch 36/50\n",
      "88/88 [==============================] - 3s 31ms/step - loss: 0.0118 - accuracy: 0.9424 - val_loss: 2.3890 - val_accuracy: 0.8629\n",
      "Epoch 37/50\n",
      "88/88 [==============================] - 3s 30ms/step - loss: 0.0107 - accuracy: 0.9398 - val_loss: 2.4055 - val_accuracy: 0.8621\n",
      "Epoch 38/50\n",
      "88/88 [==============================] - 3s 30ms/step - loss: 0.0099 - accuracy: 0.9387 - val_loss: 2.4895 - val_accuracy: 0.8608\n",
      "Epoch 39/50\n",
      "88/88 [==============================] - 3s 30ms/step - loss: 0.0103 - accuracy: 0.9420 - val_loss: 2.5501 - val_accuracy: 0.8636\n",
      "Epoch 40/50\n",
      "88/88 [==============================] - 3s 31ms/step - loss: 0.0107 - accuracy: 0.9392 - val_loss: 2.4967 - val_accuracy: 0.8621\n",
      "Epoch 41/50\n",
      "88/88 [==============================] - 3s 31ms/step - loss: 0.0071 - accuracy: 0.9422 - val_loss: 2.7066 - val_accuracy: 0.8631\n",
      "Epoch 42/50\n",
      "88/88 [==============================] - 3s 30ms/step - loss: 0.0069 - accuracy: 0.9439 - val_loss: 2.7769 - val_accuracy: 0.8640\n",
      "Epoch 43/50\n",
      "88/88 [==============================] - 3s 30ms/step - loss: 0.0081 - accuracy: 0.9448 - val_loss: 2.7024 - val_accuracy: 0.8643\n",
      "Epoch 44/50\n",
      "88/88 [==============================] - 3s 30ms/step - loss: 0.0073 - accuracy: 0.9443 - val_loss: 2.7985 - val_accuracy: 0.8643\n",
      "Epoch 45/50\n",
      "88/88 [==============================] - 3s 30ms/step - loss: 0.0078 - accuracy: 0.9411 - val_loss: 2.7781 - val_accuracy: 0.8598\n",
      "Epoch 46/50\n",
      "88/88 [==============================] - 3s 30ms/step - loss: 0.0094 - accuracy: 0.9431 - val_loss: 2.7888 - val_accuracy: 0.8617\n",
      "Epoch 47/50\n",
      "88/88 [==============================] - 3s 30ms/step - loss: 0.0078 - accuracy: 0.9451 - val_loss: 2.8232 - val_accuracy: 0.8636\n",
      "Epoch 48/50\n",
      "88/88 [==============================] - 3s 30ms/step - loss: 0.0079 - accuracy: 0.9426 - val_loss: 2.8491 - val_accuracy: 0.8634\n",
      "Epoch 49/50\n",
      "88/88 [==============================] - 3s 30ms/step - loss: 0.0085 - accuracy: 0.9436 - val_loss: 2.8212 - val_accuracy: 0.8618\n",
      "Epoch 50/50\n",
      "88/88 [==============================] - 3s 31ms/step - loss: 0.0088 - accuracy: 0.9418 - val_loss: 2.8892 - val_accuracy: 0.8603\n"
     ]
    }
   ],
   "source": [
    "t2_start=process_time()\n",
    "history2 = model_noreg.fit(X_train,\n",
    "                    y_train,\n",
    "                    epochs=50,\n",
    "                    batch_size=512,\n",
    "                    validation_data=(X_test, y_test),\n",
    "                    verbose=1)\n",
    "\n",
    "t2_stop=process_time()\n"
   ]
  },
  {
   "cell_type": "code",
   "execution_count": 29,
   "id": "af469593",
   "metadata": {},
   "outputs": [
    {
     "name": "stdout",
     "output_type": "stream",
     "text": [
      "Time Taken for training no_reg model (seconds):  176.625\n"
     ]
    }
   ],
   "source": [
    "print(\"Time Taken for training no_reg model (seconds): \",round((t2_stop-t2_start),6))"
   ]
  },
  {
   "cell_type": "code",
   "execution_count": 30,
   "id": "7dcf257f",
   "metadata": {},
   "outputs": [
    {
     "data": {
      "image/png": "[encoded data removed]",
      "text/plain": [
       "<Figure size 432x288 with 1 Axes>"
      ]
     },
     "metadata": {
      "needs_background": "light"
     },
     "output_type": "display_data"
    }
   ],
   "source": [
    "history2_dict = history2.history\n",
    "history2_dict.keys()\n",
    "\n",
    "acc = history2_dict['accuracy']\n",
    "val_acc = history2_dict['val_accuracy']\n",
    "loss = history2_dict['loss']\n",
    "val_loss = history2_dict['val_loss']\n",
    "\n",
    "epochs = range(1, len(acc) + 1)\n",
    "\n",
    "# \"bo\" is for \"blue dot\"\n",
    "plt.plot(epochs, loss, 'bo', label='Training loss')\n",
    "# b is for \"solid blue line\"\n",
    "plt.plot(epochs, val_loss, 'b', label='Validation loss')\n",
    "plt.title('Training and validation loss')\n",
    "plt.xlabel('Epochs')\n",
    "plt.ylabel('Loss')\n",
    "plt.legend()\n",
    "\n",
    "plt.show()"
   ]
  },
  {
   "cell_type": "code",
   "execution_count": 31,
   "id": "fc0a0f1b",
   "metadata": {},
   "outputs": [
    {
     "data": {
      "image/png": "[encoded data removed]",
      "text/plain": [
       "<Figure size 432x288 with 1 Axes>"
      ]
     },
     "metadata": {
      "needs_background": "light"
     },
     "output_type": "display_data"
    }
   ],
   "source": [
    "plt.clf()   # clear figure\n",
    "\n",
    "plt.plot(epochs, acc, 'bo', label='Training acc')\n",
    "plt.plot(epochs, val_acc, 'b', label='Validation acc')\n",
    "plt.title('Training and validation accuracy')\n",
    "plt.xlabel('Epochs')\n",
    "plt.ylabel('Accuracy')\n",
    "plt.legend()\n",
    "\n",
    "plt.show()"
   ]
  },
  {
   "cell_type": "code",
   "execution_count": 32,
   "id": "3d665b50",
   "metadata": {},
   "outputs": [
    {
     "name": "stdout",
     "output_type": "stream",
     "text": [
      "469/469 [==============================] - 1s 3ms/step - loss: 2.8892 - accuracy: 0.8603\n",
      "Model without L2 regularization validation set accuracy\n",
      "[2.8891611099243164, 0.860288679599762]\n"
     ]
    }
   ],
   "source": [
    "results = model_noreg.evaluate(X_test,y_test)\n",
    "print(\"Model without L2 regularization validation set accuracy\")\n",
    "print(results)"
   ]
  },
  {
   "cell_type": "markdown",
   "id": "c2bbeee3",
   "metadata": {},
   "source": [
    "8.2) Dropout:Change the position and value of dropout layer"
   ]
  },
  {
   "cell_type": "code",
   "execution_count": 33,
   "id": "bdc0a7a2",
   "metadata": {},
   "outputs": [
    {
     "name": "stdout",
     "output_type": "stream",
     "text": [
      "Model: \"sequential\"\n",
      "_________________________________________________________________\n",
      " Layer (type)                Output Shape              Param #   \n",
      "=================================================================\n",
      " keras_layer (KerasLayer)    (None, 50)                48190600  \n",
      "                                                                 \n",
      " dense (Dense)               (None, 50)                2550      \n",
      "                                                                 \n",
      " dense_1 (Dense)             (None, 25)                1275      \n",
      "                                                                 \n",
      " dropout (Dropout)           (None, 25)                0         \n",
      "                                                                 \n",
      " dense_2 (Dense)             (None, 9)                 234       \n",
      "                                                                 \n",
      " dense_3 (Dense)             (None, 3)                 30        \n",
      "                                                                 \n",
      "=================================================================\n",
      "Total params: 48,194,689\n",
      "Trainable params: 48,194,689\n",
      "Non-trainable params: 0\n",
      "_________________________________________________________________\n"
     ]
    }
   ],
   "source": [
    "model3 = tf.keras.Sequential()\n",
    "model3.add(hub_layer)\n",
    "model3.add(tf.keras.layers.Dense(50, activation='relu',kernel_regularizer=tf.keras.regularizers.l2(l=0.1)))\n",
    "model3.add(tf.keras.layers.Dropout(0.3, noise_shape=None, seed=None))\n",
    "model3.add(tf.keras.layers.Dense(25, activation='relu',kernel_regularizer=tf.keras.regularizers.l2(l=0.1)))\n",
    "model3.add(tf.keras.layers.Dense(9, activation='relu',kernel_regularizer=tf.keras.regularizers.l2(l=0.1)))\n",
    "model3.add(tf.keras.layers.Dense(3))\n",
    "\n",
    "model.summary()"
   ]
  },
  {
   "cell_type": "code",
   "execution_count": 34,
   "id": "ce94ed28",
   "metadata": {},
   "outputs": [],
   "source": [
    "model3.compile(optimizer='adam',\n",
    "              loss=tf.losses.CategoricalCrossentropy(from_logits=True),\n",
    "              metrics=[tf.metrics.BinaryAccuracy(threshold=0.0, name='accuracy')])"
   ]
  },
  {
   "cell_type": "code",
   "execution_count": 35,
   "id": "c6647297",
   "metadata": {},
   "outputs": [
    {
     "name": "stdout",
     "output_type": "stream",
     "text": [
      "Epoch 1/50\n",
      "88/88 [==============================] - 3s 32ms/step - loss: 7.0880 - accuracy: 0.8214 - val_loss: 4.3716 - val_accuracy: 0.8544\n",
      "Epoch 2/50\n",
      "88/88 [==============================] - 3s 31ms/step - loss: 2.9268 - accuracy: 0.8969 - val_loss: 2.0186 - val_accuracy: 0.8343\n",
      "Epoch 3/50\n",
      "88/88 [==============================] - 3s 31ms/step - loss: 1.4428 - accuracy: 0.8811 - val_loss: 1.2030 - val_accuracy: 0.8260\n",
      "Epoch 4/50\n",
      "88/88 [==============================] - 3s 31ms/step - loss: 0.9232 - accuracy: 0.8788 - val_loss: 0.9190 - val_accuracy: 0.8294\n",
      "Epoch 5/50\n",
      "88/88 [==============================] - 3s 31ms/step - loss: 0.7342 - accuracy: 0.8819 - val_loss: 0.8086 - val_accuracy: 0.8387\n",
      "Epoch 6/50\n",
      "88/88 [==============================] - 3s 31ms/step - loss: 0.6495 - accuracy: 0.8903 - val_loss: 0.7553 - val_accuracy: 0.8426\n",
      "Epoch 7/50\n",
      "88/88 [==============================] - 3s 31ms/step - loss: 0.6041 - accuracy: 0.8963 - val_loss: 0.7231 - val_accuracy: 0.8547\n",
      "Epoch 8/50\n",
      "88/88 [==============================] - 3s 31ms/step - loss: 0.5689 - accuracy: 0.9028 - val_loss: 0.6978 - val_accuracy: 0.8567\n",
      "Epoch 9/50\n",
      "88/88 [==============================] - 3s 31ms/step - loss: 0.5452 - accuracy: 0.9085 - val_loss: 0.6808 - val_accuracy: 0.8610\n",
      "Epoch 10/50\n",
      "88/88 [==============================] - 3s 31ms/step - loss: 0.5264 - accuracy: 0.9126 - val_loss: 0.6668 - val_accuracy: 0.8679\n",
      "Epoch 11/50\n",
      "88/88 [==============================] - 3s 31ms/step - loss: 0.5088 - accuracy: 0.9160 - val_loss: 0.6595 - val_accuracy: 0.8675\n",
      "Epoch 12/50\n",
      "88/88 [==============================] - 3s 30ms/step - loss: 0.4955 - accuracy: 0.9187 - val_loss: 0.6423 - val_accuracy: 0.8700\n",
      "Epoch 13/50\n",
      "88/88 [==============================] - 3s 32ms/step - loss: 0.4825 - accuracy: 0.9211 - val_loss: 0.6349 - val_accuracy: 0.8743\n",
      "Epoch 14/50\n",
      "88/88 [==============================] - 3s 31ms/step - loss: 0.4694 - accuracy: 0.9235 - val_loss: 0.6260 - val_accuracy: 0.8763\n",
      "Epoch 15/50\n",
      "88/88 [==============================] - 3s 31ms/step - loss: 0.4608 - accuracy: 0.9265 - val_loss: 0.6205 - val_accuracy: 0.8775\n",
      "Epoch 16/50\n",
      "88/88 [==============================] - 3s 31ms/step - loss: 0.4509 - accuracy: 0.9276 - val_loss: 0.6103 - val_accuracy: 0.8756\n",
      "Epoch 17/50\n",
      "88/88 [==============================] - 3s 32ms/step - loss: 0.4401 - accuracy: 0.9302 - val_loss: 0.6057 - val_accuracy: 0.8784\n",
      "Epoch 18/50\n",
      "88/88 [==============================] - 3s 31ms/step - loss: 0.4310 - accuracy: 0.9318 - val_loss: 0.5990 - val_accuracy: 0.8790\n",
      "Epoch 19/50\n",
      "88/88 [==============================] - 3s 31ms/step - loss: 0.4236 - accuracy: 0.9337 - val_loss: 0.6013 - val_accuracy: 0.8794\n",
      "Epoch 20/50\n",
      "88/88 [==============================] - 3s 31ms/step - loss: 0.4169 - accuracy: 0.9341 - val_loss: 0.5921 - val_accuracy: 0.8803\n",
      "Epoch 21/50\n",
      "88/88 [==============================] - 3s 31ms/step - loss: 0.4097 - accuracy: 0.9361 - val_loss: 0.5909 - val_accuracy: 0.8828\n",
      "Epoch 22/50\n",
      "88/88 [==============================] - 3s 31ms/step - loss: 0.4028 - accuracy: 0.9371 - val_loss: 0.5863 - val_accuracy: 0.8803\n",
      "Epoch 23/50\n",
      "88/88 [==============================] - 3s 31ms/step - loss: 0.3958 - accuracy: 0.9384 - val_loss: 0.5829 - val_accuracy: 0.8848\n",
      "Epoch 24/50\n",
      "88/88 [==============================] - 3s 31ms/step - loss: 0.3905 - accuracy: 0.9395 - val_loss: 0.5784 - val_accuracy: 0.8842\n",
      "Epoch 25/50\n",
      "88/88 [==============================] - 3s 31ms/step - loss: 0.3850 - accuracy: 0.9419 - val_loss: 0.5849 - val_accuracy: 0.8848\n",
      "Epoch 26/50\n",
      "88/88 [==============================] - 3s 31ms/step - loss: 0.3802 - accuracy: 0.9420 - val_loss: 0.5822 - val_accuracy: 0.8848\n",
      "Epoch 27/50\n",
      "88/88 [==============================] - 3s 31ms/step - loss: 0.3744 - accuracy: 0.9434 - val_loss: 0.5743 - val_accuracy: 0.8854\n",
      "Epoch 28/50\n",
      "88/88 [==============================] - 3s 31ms/step - loss: 0.3684 - accuracy: 0.9446 - val_loss: 0.5745 - val_accuracy: 0.8850\n",
      "Epoch 29/50\n",
      "88/88 [==============================] - 3s 31ms/step - loss: 0.3624 - accuracy: 0.9463 - val_loss: 0.5703 - val_accuracy: 0.8879\n",
      "Epoch 30/50\n",
      "88/88 [==============================] - 3s 31ms/step - loss: 0.3608 - accuracy: 0.9468 - val_loss: 0.5708 - val_accuracy: 0.8882\n",
      "Epoch 31/50\n",
      "88/88 [==============================] - 3s 31ms/step - loss: 0.3556 - accuracy: 0.9473 - val_loss: 0.5689 - val_accuracy: 0.8892\n",
      "Epoch 32/50\n",
      "88/88 [==============================] - 3s 31ms/step - loss: 0.3510 - accuracy: 0.9491 - val_loss: 0.5662 - val_accuracy: 0.8854\n",
      "Epoch 33/50\n",
      "88/88 [==============================] - 3s 32ms/step - loss: 0.3455 - accuracy: 0.9505 - val_loss: 0.5706 - val_accuracy: 0.8876\n",
      "Epoch 34/50\n",
      "88/88 [==============================] - 3s 31ms/step - loss: 0.3425 - accuracy: 0.9504 - val_loss: 0.5681 - val_accuracy: 0.8865\n",
      "Epoch 35/50\n",
      "88/88 [==============================] - 3s 31ms/step - loss: 0.3381 - accuracy: 0.9514 - val_loss: 0.5666 - val_accuracy: 0.8905\n",
      "Epoch 36/50\n",
      "88/88 [==============================] - 3s 32ms/step - loss: 0.3332 - accuracy: 0.9528 - val_loss: 0.5660 - val_accuracy: 0.8902\n",
      "Epoch 37/50\n",
      "88/88 [==============================] - 3s 32ms/step - loss: 0.3298 - accuracy: 0.9538 - val_loss: 0.5599 - val_accuracy: 0.8890\n",
      "Epoch 38/50\n",
      "88/88 [==============================] - 3s 31ms/step - loss: 0.3263 - accuracy: 0.9545 - val_loss: 0.5638 - val_accuracy: 0.8915\n",
      "Epoch 39/50\n",
      "88/88 [==============================] - 3s 31ms/step - loss: 0.3224 - accuracy: 0.9547 - val_loss: 0.5605 - val_accuracy: 0.8923\n",
      "Epoch 40/50\n",
      "88/88 [==============================] - 3s 31ms/step - loss: 0.3188 - accuracy: 0.9567 - val_loss: 0.5603 - val_accuracy: 0.8912\n",
      "Epoch 41/50\n",
      "88/88 [==============================] - 3s 32ms/step - loss: 0.3172 - accuracy: 0.9564 - val_loss: 0.5604 - val_accuracy: 0.8916\n",
      "Epoch 42/50\n",
      "88/88 [==============================] - 3s 32ms/step - loss: 0.3131 - accuracy: 0.9567 - val_loss: 0.5644 - val_accuracy: 0.8930\n",
      "Epoch 43/50\n",
      "88/88 [==============================] - 3s 31ms/step - loss: 0.3101 - accuracy: 0.9573 - val_loss: 0.5581 - val_accuracy: 0.8919\n",
      "Epoch 44/50\n",
      "88/88 [==============================] - 3s 31ms/step - loss: 0.3064 - accuracy: 0.9586 - val_loss: 0.5612 - val_accuracy: 0.8921\n",
      "Epoch 45/50\n",
      "88/88 [==============================] - 3s 32ms/step - loss: 0.3035 - accuracy: 0.9595 - val_loss: 0.5682 - val_accuracy: 0.8916\n",
      "Epoch 46/50\n",
      "88/88 [==============================] - 3s 31ms/step - loss: 0.3031 - accuracy: 0.9595 - val_loss: 0.5692 - val_accuracy: 0.8911\n",
      "Epoch 47/50\n",
      "88/88 [==============================] - 3s 31ms/step - loss: 0.2974 - accuracy: 0.9603 - val_loss: 0.5630 - val_accuracy: 0.8922\n",
      "Epoch 48/50\n",
      "88/88 [==============================] - 3s 31ms/step - loss: 0.2943 - accuracy: 0.9606 - val_loss: 0.5615 - val_accuracy: 0.8930\n",
      "Epoch 49/50\n",
      "88/88 [==============================] - 3s 31ms/step - loss: 0.2928 - accuracy: 0.9608 - val_loss: 0.5566 - val_accuracy: 0.8930\n",
      "Epoch 50/50\n",
      "88/88 [==============================] - 3s 31ms/step - loss: 0.2907 - accuracy: 0.9610 - val_loss: 0.5662 - val_accuracy: 0.8926\n"
     ]
    }
   ],
   "source": [
    "t3_start=process_time()\n",
    "history3 = model3.fit(X_train,\n",
    "                    y_train,\n",
    "                    epochs=50,\n",
    "                    batch_size=512,\n",
    "                    validation_data=(X_test, y_test),\n",
    "                    verbose=1)\n",
    "\n",
    "t3_stop=process_time()\n"
   ]
  },
  {
   "cell_type": "code",
   "execution_count": 36,
   "id": "4aa861cd",
   "metadata": {},
   "outputs": [
    {
     "name": "stdout",
     "output_type": "stream",
     "text": [
      "Time Taken for training (seconds) whene dropout layer pos and value changed:  184.265625\n"
     ]
    }
   ],
   "source": [
    "print(\"Time Taken for training (seconds) whene dropout layer pos and value changed: \",round((t3_stop-t3_start),6))"
   ]
  },
  {
   "cell_type": "code",
   "execution_count": 37,
   "id": "2d2f1f3d",
   "metadata": {},
   "outputs": [
    {
     "data": {
      "image/png": "[encoded data removed]",
      "text/plain": [
       "<Figure size 432x288 with 1 Axes>"
      ]
     },
     "metadata": {
      "needs_background": "light"
     },
     "output_type": "display_data"
    }
   ],
   "source": [
    "history3_dict = history3.history\n",
    "history3_dict.keys()\n",
    "\n",
    "acc = history3_dict['accuracy']\n",
    "val_acc = history3_dict['val_accuracy']\n",
    "loss = history3_dict['loss']\n",
    "val_loss = history3_dict['val_loss']\n",
    "\n",
    "epochs = range(1, len(acc) + 1)\n",
    "\n",
    "# \"bo\" is for \"blue dot\"\n",
    "plt.plot(epochs, loss, 'bo', label='Training loss')\n",
    "# b is for \"solid blue line\"\n",
    "plt.plot(epochs, val_loss, 'b', label='Validation loss')\n",
    "plt.title('Training and validation loss')\n",
    "plt.xlabel('Epochs')\n",
    "plt.ylabel('Loss')\n",
    "plt.legend()\n",
    "\n",
    "plt.show()"
   ]
  },
  {
   "cell_type": "code",
   "execution_count": 38,
   "id": "006ca5c5",
   "metadata": {},
   "outputs": [
    {
     "data": {
      "image/png": "[encoded data removed]",
      "text/plain": [
       "<Figure size 432x288 with 1 Axes>"
      ]
     },
     "metadata": {
      "needs_background": "light"
     },
     "output_type": "display_data"
    }
   ],
   "source": [
    "plt.clf()   # clear figure\n",
    "\n",
    "plt.plot(epochs, acc, 'bo', label='Training acc')\n",
    "plt.plot(epochs, val_acc, 'b', label='Validation acc')\n",
    "plt.title('Training and validation accuracy')\n",
    "plt.xlabel('Epochs')\n",
    "plt.ylabel('Accuracy')\n",
    "plt.legend()\n",
    "\n",
    "plt.show()"
   ]
  },
  {
   "cell_type": "code",
   "execution_count": 39,
   "id": "67781b52",
   "metadata": {},
   "outputs": [
    {
     "name": "stdout",
     "output_type": "stream",
     "text": [
      "469/469 [==============================] - 1s 3ms/step - loss: 0.5661 - accuracy: 0.8926\n",
      "[0.5661488175392151, 0.8925772309303284]\n"
     ]
    }
   ],
   "source": [
    "results = model3.evaluate(X_test,y_test)\n",
    "\n",
    "print(results)"
   ]
  },
  {
   "cell_type": "code",
   "execution_count": null,
   "id": "be6cd6fb",
   "metadata": {},
   "outputs": [],
   "source": []
  }
 ],
 "metadata": {
  "kernelspec": {
   "display_name": "Python 3 (ipykernel)",
   "language": "python",
   "name": "python3"
  },
  "language_info": {
   "codemirror_mode": {
    "name": "ipython",
    "version": 3
   },
   "file_extension": ".py",
   "mimetype": "text/x-python",
   "name": "python",
   "nbconvert_exporter": "python",
   "pygments_lexer": "ipython3",
   "version": "3.9.0"
  }
 },
 "nbformat": 4,
 "nbformat_minor": 5
}
